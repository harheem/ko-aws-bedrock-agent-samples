{
 "cells": [
  {
   "cell_type": "markdown",
   "id": "089569ae-9348-4442-8e2a-941a8e5c00ac",
   "metadata": {
    "pycharm": {
     "name": "#%% md\n"
    }
   },
   "source": [
    "# 메모리 기능을 갖춘 에이전트 생성하기\n",
    "\n",
    "안녕하세요! 이번 튜토리얼에서는 **메모리 기능**을 갖춘 Amazon Bedrock 에이전트를 직접 만들어보겠습니다.\n",
    "\n",
    "## 이 튜토리얼에서 배울 내용\n",
    "- Amazon Bedrock 에이전트란 무엇인지\n",
    "- 에이전트에 메모리 기능을 추가하는 방법\n",
    "- 실제 여행 예약 시스템처럼 동작하는 AI 어시스턴트 만들기\n",
    "\n",
    "## 우리가 만들 여행 도우미의 기능\n",
    "1. **새로운 여행 예약하기** - 출발지, 목적지, 날짜, 교통수단 정보로 여행을 예약\n",
    "2. **기존 예약 수정하기** - 이미 예약된 여행의 날짜를 변경\n",
    "3. **예약 취소하기** - 더 이상 필요하지 않은 예약을 삭제\n",
    "4. **메모리 기능** - 이전 대화 내용을 기억하여 더 자연스러운 대화 진행\n",
    "\n",
    "**중요 안내**: 이 예제는 학습 목적으로 만들어진 것입니다. 실제 예약은 이루어지지 않으며, 시뮬레이션된 결과만 반환됩니다. 실제 서비스에서는 진짜 예약 시스템과 연결해야 합니다.\n",
    "\n",
    "다음 구조도를 통해 우리가 구축할 시스템을 미리 살펴보세요:\n",
    "\n",
    "![여행 도우미 에이전트](images/architecture.png)"
   ]
  },
  {
   "cell_type": "markdown",
   "id": "073fb566-1bb1-46ec-bdb3-7012a2e74714",
   "metadata": {
    "pycharm": {
     "name": "#%% md\n"
    }
   },
   "source": [
    "## 1단계: 개발 환경 준비하기\n",
    "\n",
    "시작하기 전에, 최신 기능을 사용하기 위해 필요한 패키지들을 업데이트하겠습니다.\n",
    "\n",
    "**왜 업데이트가 필요한가요?**\n",
    "- Amazon Bedrock의 에이전트 기능은 계속 발전하고 있습니다\n",
    "- 최신 버전을 사용해야 메모리 기능 같은 새로운 기능을 사용할 수 있습니다\n",
    "- 오래된 버전을 사용하면 예상치 못한 오류가 발생할 수 있습니다"
   ]
  },
  {
   "cell_type": "code",
   "execution_count": null,
   "id": "c603ce06-61d8-4236-92e8-883e0d49cfea",
   "metadata": {
    "pycharm": {
     "name": "#%%\n"
    },
    "tags": []
   },
   "outputs": [],
   "source": [
    "!python3 -m pip install --upgrade --force-reinstall -q boto3\n",
    "!python3 -m pip install --upgrade --force-reinstall -q botocore\n",
    "!python3 -m pip install --upgrade --force-reinstall -q awscli"
   ]
  },
  {
   "cell_type": "markdown",
   "id": "b7f3bc3b-4db6-44bb-8d8e-3ea58e811111",
   "metadata": {
    "pycharm": {
     "name": "#%% md\n"
    }
   },
   "source": [
    "설치가 완료되었으니, 이제 올바른 버전이 설치되었는지 확인해보겠습니다. \n",
    "\n",
    "**체크포인트**: boto3 버전이 1.34.139 이상이어야 메모리 기능을 사용할 수 있습니다. 만약 버전이 낮다면 위의 설치 명령을 다시 실행해주세요."
   ]
  },
  {
   "cell_type": "code",
   "execution_count": null,
   "id": "48daaac3-aeb2-439b-8648-f9a088b4f40c",
   "metadata": {
    "pycharm": {
     "name": "#%%\n"
    },
    "tags": []
   },
   "outputs": [],
   "source": [
    "import boto3\n",
    "import botocore\n",
    "import awscli\n",
    "print(boto3.__version__)\n",
    "print(botocore.__version__)\n",
    "print(awscli.__version__)"
   ]
  },
  {
   "cell_type": "markdown",
   "id": "498f033c-3cf4-4071-ac8e-6bb31920897a",
   "metadata": {
    "pycharm": {
     "name": "#%% md\n"
    }
   },
   "source": [
    "## 2단계: 필요한 라이브러리 가져오기\n",
    "\n",
    "이제 우리가 사용할 Python 라이브러리들을 가져오겠습니다. 각 라이브러리의 역할을 간단히 설명해드리겠습니다:\n",
    "\n",
    "- **json**: 데이터를 JSON 형태로 변환하거나 처리할 때 사용\n",
    "- **time**: 잠시 기다리거나 시간 관련 작업을 할 때 사용\n",
    "- **zipfile**: 람다 함수 코드를 압축 파일로 만들 때 사용\n",
    "- **uuid**: 고유한 ID를 생성할 때 사용 (예: 세션 ID, 예약 ID)\n",
    "- **logging**: 프로그램 실행 과정을 기록하고 디버깅할 때 사용"
   ]
  },
  {
   "cell_type": "code",
   "execution_count": null,
   "id": "5255655e-d83e-416a-a459-83590483d22b",
   "metadata": {
    "pycharm": {
     "name": "#%%\n"
    },
    "tags": []
   },
   "outputs": [],
   "source": [
    "import json\n",
    "import time\n",
    "import zipfile\n",
    "from io import BytesIO\n",
    "import uuid\n",
    "import pprint\n",
    "import logging"
   ]
  },
  {
   "cell_type": "code",
   "execution_count": null,
   "id": "593be615-dab2-4084-a518-ee905113bfc7",
   "metadata": {
    "pycharm": {
     "name": "#%%\n"
    },
    "tags": []
   },
   "outputs": [],
   "source": [
    "# 로깅 설정 - 프로그램 실행 과정을 추적하기 위해 설정합니다\n",
    "logging.basicConfig(format='[%(asctime)s] p%(process)s {%(filename)s:%(lineno)d} %(levelname)s - %(message)s', level=logging.INFO)\n",
    "logger = logging.getLogger(__name__)\n",
    "\n",
    "print(\"로깅 설정이 완료되었습니다. 이제 프로그램 실행 과정을 상세히 확인할 수 있습니다.\")"
   ]
  },
  {
   "cell_type": "markdown",
   "id": "52dad4b8-c2e0-44cf-99ee-5c2a7e1a600f",
   "metadata": {
    "pycharm": {
     "name": "#%% md\n"
    }
   },
   "source": [
    "## 3단계: AWS 서비스 클라이언트 설정하기\n",
    "\n",
    "이제 우리가 사용할 AWS 서비스들과 연결하기 위한 클라이언트들을 만들어보겠습니다.\n",
    "\n",
    "**각 클라이언트의 역할**:\n",
    "- **sts_client**: AWS 계정 정보 확인 (계정 ID 등)\n",
    "- **iam_client**: 권한 관리 (역할, 정책 생성)\n",
    "- **lambda_client**: 람다 함수 생성 및 관리\n",
    "- **bedrock_agent_client**: Bedrock 에이전트 생성 및 관리\n",
    "- **bedrock_agent_runtime_client**: 에이전트와 실제 대화하기 위해 사용"
   ]
  },
  {
   "cell_type": "code",
   "execution_count": null,
   "id": "67883027-bbb5-42a6-955d-0aa019a8e4b3",
   "metadata": {
    "pycharm": {
     "name": "#%%\n"
    },
    "tags": []
   },
   "outputs": [],
   "source": [
    "# AWS 서비스 클라이언트 생성\n",
    "sts_client = boto3.client('sts')\n",
    "iam_client = boto3.client('iam')\n",
    "lambda_client = boto3.client('lambda')\n",
    "bedrock_agent_client = boto3.client('bedrock-agent')\n",
    "bedrock_agent_runtime_client = boto3.client('bedrock-agent-runtime')\n",
    "\n",
    "print(\"모든 AWS 서비스 클라이언트가 성공적으로 생성되었습니다!\")"
   ]
  },
  {
   "cell_type": "markdown",
   "id": "71505c3b-c2a5-47dc-a427-77f21ab50f0d",
   "metadata": {
    "pycharm": {
     "name": "#%% md\n"
    }
   },
   "source": [
    "## 4단계: 기본 정보 확인 및 설정값 정의하기\n",
    "\n",
    "먼저 현재 사용 중인 AWS 계정과 리전 정보를 확인해보겠습니다. 이 정보는 리소스 이름을 고유하게 만들기 위해 사용됩니다."
   ]
  },
  {
   "cell_type": "code",
   "execution_count": null,
   "id": "f6af5cd4-33b8-40c3-9d99-1790540eb60c",
   "metadata": {
    "pycharm": {
     "name": "#%%\n"
    },
    "tags": []
   },
   "outputs": [],
   "source": [
    "session = boto3.session.Session()\n",
    "region = session.region_name\n",
    "account_id = sts_client.get_caller_identity()[\"Account\"]\n",
    "\n",
    "print(f\"현재 사용 중인 AWS 리전: {region}\")\n",
    "print(f\"현재 사용 중인 AWS 계정 ID: {account_id}\")\n",
    "print(\"기본 정보 확인 완료!\")\n",
    "\n",
    "region, account_id"
   ]
  },
  {
   "cell_type": "code",
   "execution_count": null,
   "id": "0dcb5332-c035-435a-91e5-838ec95d9a7d",
   "metadata": {
    "pycharm": {
     "name": "#%%\n"
    },
    "tags": []
   },
   "outputs": [],
   "source": [
    "# 프로젝트 설정값들을 정의합니다\n",
    "# 이 값들은 우리가 만들 모든 리소스의 이름을 결정합니다\n",
    "\n",
    "suffix = f\"{region}-{account_id}\"  # 리소스 이름을 고유하게 만들기 위한 접미사\n",
    "\n",
    "# 에이전트 관련 설정\n",
    "agent_name = \"travel-assistant-with-memory\"\n",
    "agent_description = \"여행 예약을 도와주는 메모리 기능이 있는 AI 어시스턴트\"\n",
    "\n",
    "# 에이전트가 따를 지시사항 (에이전트의 역할과 행동 방식을 정의)\n",
    "agent_instruction = \"\"\"\n",
    "당신은 고객의 여행 예약을 도와주는 여행사 상담원입니다.\n",
    "여행 예약 생성, 수정, 삭제 기능을 제공할 수 있습니다.\n",
    "항상 친절하고 도움이 되는 방식으로 고객을 응대해야 합니다.\n",
    "\"\"\"\n",
    "\n",
    "# IAM 역할 및 정책 이름들\n",
    "agent_bedrock_allow_policy_name = f\"{agent_name}-ba-{suffix}\"\n",
    "agent_role_name = f'AmazonBedrockExecutionRoleForAgents_{agent_name}'\n",
    "\n",
    "# 액션 그룹 설정 (에이전트가 사용할 수 있는 기능들)\n",
    "agent_action_group_name = \"BookingManagerActionGroup\"\n",
    "agent_action_group_description = \"\"\"\n",
    "여행 예약을 관리하는 액션 그룹입니다. \n",
    "기차 및 항공 여행 예약의 생성, 수정, 삭제 기능을 제공합니다.\n",
    "\"\"\"\n",
    "\n",
    "# 기타 설정\n",
    "agent_alias_name = f\"{agent_name}-alias\"\n",
    "lambda_function_role = f'{agent_name}-lambda-role-{suffix}'\n",
    "lambda_function_name = f'{agent_name}-{suffix}'\n",
    "memory_time = 30  # 메모리를 30일간 보관\n",
    "\n",
    "print(f\"설정 완료\")\n",
    "print(f\"   - 에이전트 이름: {agent_name}\")\n",
    "print(f\"   - 메모리 보관 기간: {memory_time}일\")\n",
    "print(f\"   - 람다 함수 이름: {lambda_function_name}\")"
   ]
  },
  {
   "cell_type": "markdown",
   "id": "f0c0e3cf",
   "metadata": {},
   "source": [
    "## 5단계: AI 모델 선택하기\n",
    "\n",
    "에이전트가 사용할 AI 모델을 선택합니다. **추론 프로필(Inference Profile)**을 사용하면 여러 리전에 걸쳐 요청을 효율적으로 분산시킬 수 있습니다.\n",
    "\n",
    "**선택 가능한 모델들**:\n",
    "- **Amazon Nova Pro**: 아마존에서 새로 출시한 강력한 모델 (추천)\n",
    "- **Anthropic Claude 3.5 Sonnet v2**: 뛰어난 추론 능력을 가진 모델\n",
    "\n",
    "아래에서 원하는 모델을 선택하거나 변경할 수 있습니다."
   ]
  },
  {
   "cell_type": "code",
   "execution_count": null,
   "id": "c22e3d86",
   "metadata": {},
   "outputs": [],
   "source": [
    "# 사용할 AI 모델을 선택합니다\n",
    "# 원하는 모델의 주석을 해제하고 다른 모델은 주석 처리하세요\n",
    "\n",
    "inference_profile = \"us.amazon.nova-pro-v1:0\"          # Amazon Nova Pro (추천)\n",
    "# inference_profile = \"us.anthropic.claude-3-sonnet-20240229-v1:0\"  # Claude 3.5 Sonnet\n",
    "\n",
    "foundation_model = inference_profile[3:]  # 'us.' 접두사 제거\n",
    "\n",
    "print(f\"선택된 모델: {foundation_model}\")\n",
    "print(f\"추론 프로필: {inference_profile}\")\n",
    "\n",
    "foundation_model"
   ]
  },
  {
   "cell_type": "markdown",
   "id": "4f63b906-9eff-4b99-a466-5aeb81e0d095",
   "metadata": {
    "pycharm": {
     "name": "#%% md\n"
    }
   },
   "source": [
    "## 6단계: 비즈니스 로직을 처리할 람다 함수 만들기\n",
    "\n",
    "이제 실제 여행 예약 기능을 처리할 **AWS Lambda 함수**를 만들어보겠습니다.\n",
    "\n",
    "**람다 함수란?**\n",
    "- 서버 관리 없이 코드를 실행할 수 있는 AWS 서비스입니다\n",
    "- 에이전트가 특정 작업(예약, 수정, 삭제)을 요청할 때마다 이 함수가 실행됩니다\n",
    "\n",
    "**우리 람다 함수가 제공하는 기능들**:\n",
    "1. `book_trip` - 새로운 여행 예약\n",
    "2. `update_existing_trip_dates` - 기존 예약의 날짜 변경\n",
    "3. `delete_existing_trip_reservation` - 예약 취소\n",
    "\n",
    "**중요**: 이 함수들은 실제로는 시뮬레이션만 하고, 진짜 예약은 하지 않습니다. 실제 서비스에서는 데이터베이스나 외부 API와 연결해야 합니다."
   ]
  },
  {
   "cell_type": "code",
   "execution_count": null,
   "id": "476a71a8-61c1-4dd4-89a1-6ac59f38cd3d",
   "metadata": {
    "pycharm": {
     "name": "#%%\n"
    },
    "tags": []
   },
   "outputs": [],
   "source": [
    "%%writefile lambda_function.py\n",
    "import json\n",
    "import uuid\n",
    "import boto3\n",
    "\n",
    "def get_named_parameter(event, name):\n",
    "    \"\"\"\n",
    "    에이전트로부터 전달받은 매개변수에서 특정 이름의 값을 찾아 반환합니다.\n",
    "    \n",
    "    Args:\n",
    "        event: 람다 함수가 받은 이벤트 데이터\n",
    "        name: 찾고자 하는 매개변수 이름\n",
    "    \n",
    "    Returns:\n",
    "        해당 매개변수의 값\n",
    "    \"\"\"\n",
    "    return next(item for item in event['parameters'] if item['name'] == name)['value']\n",
    "\n",
    "\n",
    "def book_trip(origin, destination, start_date, end_date, transportation_mode):\n",
    "    \"\"\"\n",
    "    새로운 여행을 예약하는 함수 (시뮬레이션)\n",
    "    \n",
    "    Args:\n",
    "        origin (string): 출발지\n",
    "        destination (string): 목적지  \n",
    "        start_date (string): 출발 날짜\n",
    "        end_date (string): 귀국 날짜\n",
    "        transportation_mode (string): 교통수단 (TRAIN 또는 AIR)\n",
    "    \n",
    "    Returns:\n",
    "        예약 성공 메시지와 예약 ID\n",
    "    \"\"\"\n",
    "    # 고유한 예약 ID 생성 (실제로는 데이터베이스에서 관리해야 함)\n",
    "    booking_id = str(uuid.uuid4())[:8]\n",
    "    \n",
    "    return f\"여행 예약이 완료되었습니다!\\n출발: {origin} ({start_date})\\n도착: {destination} ({end_date})\\n교통수단: {transportation_mode}\\n예약번호: {booking_id}\"\n",
    "\n",
    "def update_existing_trip_dates(booking_id, new_start_date, new_end_date):\n",
    "    \"\"\"\n",
    "    기존 예약의 날짜를 변경하는 함수 (시뮬레이션)\n",
    "    \n",
    "    Args:\n",
    "        booking_id (string): 변경할 예약의 ID\n",
    "        new_start_date (string): 새로운 출발 날짜\n",
    "        new_end_date (string): 새로운 귀국 날짜\n",
    "    \n",
    "    Returns:\n",
    "        날짜 변경 성공 메시지\n",
    "    \"\"\"\n",
    "    return f\"예약 {booking_id}의 날짜가 성공적으로 변경되었습니다.\\n새로운 출발일: {new_start_date}\\n새로운 귀국일: {new_end_date}\"\n",
    "\n",
    "def delete_existing_trip_reservation(booking_id):\n",
    "    \"\"\"\n",
    "    기존 예약을 취소하는 함수 (시뮬레이션)\n",
    "    \n",
    "    Args:\n",
    "        booking_id (string): 취소할 예약의 ID\n",
    "    \n",
    "    Returns:\n",
    "        예약 취소 성공 메시지\n",
    "    \"\"\"\n",
    "    return f\"예약 {booking_id}이(가) 성공적으로 취소되었습니다.\"\n",
    "\n",
    "def populate_function_response(event, response_body):\n",
    "    \"\"\"\n",
    "    람다 함수의 응답을 Bedrock 에이전트가 이해할 수 있는 형태로 변환합니다.\n",
    "    \"\"\"\n",
    "    return {\n",
    "        'response': {\n",
    "            'actionGroup': event['actionGroup'], \n",
    "            'function': event['function'],\n",
    "            'functionResponse': {\n",
    "                'responseBody': {\n",
    "                    'TEXT': {\n",
    "                        'body': response_body\n",
    "                    }\n",
    "                }\n",
    "            }\n",
    "        }\n",
    "    }\n",
    "\n",
    "\n",
    "def lambda_handler(event, context):\n",
    "    \"\"\"\n",
    "    람다 함수의 메인 핸들러\n",
    "    Bedrock 에이전트에서 호출되면 실행되는 함수입니다.\n",
    "    \"\"\"\n",
    "    # 에이전트에서 전달받은 정보들을 추출\n",
    "    actionGroup = event.get('actionGroup', '')\n",
    "    function = event.get('function', '')  # 실행할 함수 이름\n",
    "    parameters = event.get('parameters', [])  # 함수에 전달할 매개변수들\n",
    "\n",
    "    # 요청된 함수에 따라 적절한 처리 수행\n",
    "    if function == 'update_existing_trip_dates':\n",
    "        # 예약 날짜 변경 요청 처리\n",
    "        booking_id = get_named_parameter(event, \"booking_id\")\n",
    "        new_start_date = get_named_parameter(event, \"new_start_date\")\n",
    "        new_end_date = get_named_parameter(event, \"new_end_date\")\n",
    "        \n",
    "        if booking_id and new_start_date and new_end_date:\n",
    "            response = str(update_existing_trip_dates(booking_id, new_start_date, new_end_date))\n",
    "            result = json.dumps(response)\n",
    "        else:\n",
    "            result = '필수 정보가 누락되었습니다: 예약번호, 새로운 출발일, 새로운 귀국일'\n",
    "\n",
    "    elif function == 'book_trip':\n",
    "        # 새 여행 예약 요청 처리\n",
    "        origin = get_named_parameter(event, \"origin\")\n",
    "        destination = get_named_parameter(event, \"destination\")\n",
    "        start_date = get_named_parameter(event, \"start_date\")\n",
    "        end_date = get_named_parameter(event, \"end_date\")\n",
    "        transportation_mode = get_named_parameter(event, \"transportation_mode\")\n",
    "\n",
    "        if all([origin, destination, start_date, end_date, transportation_mode]):\n",
    "            response = str(book_trip(origin, destination, start_date, end_date, transportation_mode))\n",
    "            result = json.dumps(response) \n",
    "        else:\n",
    "            result = '필수 정보가 누락되었습니다: 출발지, 목적지, 출발일, 귀국일, 교통수단'\n",
    "            \n",
    "    elif function == 'delete_existing_trip_reservation':\n",
    "        # 예약 취소 요청 처리\n",
    "        booking_id = get_named_parameter(event, \"booking_id\")\n",
    "        \n",
    "        if booking_id:\n",
    "            response = str(delete_existing_trip_reservation(booking_id))\n",
    "            result = json.dumps(response)\n",
    "        else:\n",
    "            result = '예약번호가 필요합니다'\n",
    "    else:\n",
    "        result = '알 수 없는 기능 요청입니다'\n",
    "    \n",
    "    # 결과를 에이전트가 이해할 수 있는 형태로 변환하여 반환\n",
    "    action_response = populate_function_response(event, result)\n",
    "    print(action_response)  # 디버깅용 로그\n",
    "    return action_response"
   ]
  },
  {
   "cell_type": "markdown",
   "id": "bc3920a2-7909-4725-ab86-df3000d2c963",
   "metadata": {
    "pycharm": {
     "name": "#%% md\n"
    }
   },
   "source": [
    "## 7단계: 람다 함수 실행을 위한 권한 설정하기\n",
    "\n",
    "람다 함수가 제대로 작동하려면 적절한 **IAM 역할**과 **권한**이 필요합니다.\n",
    "\n",
    "**IAM 역할이란?**\n",
    "- AWS 서비스가 다른 AWS 서비스에 접근할 때 사용하는 권한 집합입니다\n",
    "- 마치 \"출입증\"과 같은 역할을 합니다\n",
    "\n",
    "**여기서 설정하는 권한**:\n",
    "- 람다 함수가 로그를 CloudWatch에 기록할 수 있는 권한\n",
    "- 기본적인 람다 함수 실행 권한"
   ]
  },
  {
   "cell_type": "code",
   "execution_count": null,
   "id": "e9a5ad9c-7fc0-4844-bc89-c32e409dd327",
   "metadata": {
    "pycharm": {
     "name": "#%%\n"
    },
    "tags": []
   },
   "outputs": [],
   "source": [
    "# 람다 함수를 위한 IAM 역할을 생성합니다\n",
    "try:\n",
    "    # 람다 서비스가 이 역할을 사용할 수 있도록 하는 정책\n",
    "    assume_role_policy_document = {\n",
    "        \"Version\": \"2012-10-17\",\n",
    "        \"Statement\": [\n",
    "            {\n",
    "                \"Effect\": \"Allow\",\n",
    "                \"Principal\": {\n",
    "                    \"Service\": \"lambda.amazonaws.com\"  # 람다 서비스가 이 역할을 사용할 수 있음\n",
    "                },\n",
    "                \"Action\": \"sts:AssumeRole\"\n",
    "            }\n",
    "        ]\n",
    "    }\n",
    "    \n",
    "    assume_role_policy_document_json = json.dumps(assume_role_policy_document)\n",
    "\n",
    "    lambda_iam_role = iam_client.create_role(\n",
    "        RoleName=lambda_function_role,\n",
    "        AssumeRolePolicyDocument=assume_role_policy_document_json\n",
    "    )\n",
    "    print(\"새로운 람다 IAM 역할을 생성했습니다.\")\n",
    "\n",
    "    # 역할이 완전히 생성될 때까지 잠시 대기\n",
    "    time.sleep(10)\n",
    "    \n",
    "except Exception as e:\n",
    "    # 이미 역할이 존재하는 경우 기존 역할을 사용\n",
    "    lambda_iam_role = iam_client.get_role(RoleName=lambda_function_role)\n",
    "    print(\"기존 람다 IAM 역할을 사용합니다.\")\n",
    "\n",
    "# 람다 함수가 CloudWatch에 로그를 기록할 수 있는 기본 권한 추가\n",
    "iam_client.attach_role_policy(\n",
    "    RoleName=lambda_function_role,\n",
    "    PolicyArn='arn:aws:iam::aws:policy/service-role/AWSLambdaBasicExecutionRole'\n",
    ")\n",
    "\n",
    "print(\"람다 함수 권한 설정이 완료되었습니다!\")"
   ]
  },
  {
   "cell_type": "markdown",
   "id": "1377cc22-4035-43d0-8e55-648107d5b087",
   "metadata": {
    "pycharm": {
     "name": "#%% md\n"
    }
   },
   "source": [
    "## 8단계: 람다 함수 배포하기\n",
    "\n",
    "이제 앞에서 작성한 Python 코드를 실제 람다 함수로 배포해보겠습니다.\n",
    "\n",
    "**과정 설명**:\n",
    "1. Python 파일을 ZIP 압축 파일로 만듭니다 (람다는 ZIP 파일로 코드를 받습니다)\n",
    "2. 압축된 코드를 AWS 람다 서비스에 업로드합니다\n",
    "3. 람다 함수가 생성되고 사용할 준비가 완료됩니다"
   ]
  },
  {
   "cell_type": "code",
   "execution_count": null,
   "id": "4db0472f-dfda-4085-8a44-89971f34c5a9",
   "metadata": {
    "pycharm": {
     "name": "#%%\n"
    },
    "tags": []
   },
   "outputs": [],
   "source": [
    "# 1. 람다 함수 코드를 ZIP 파일로 압축\n",
    "print(\"📦 람다 함수 코드를 압축 중...\")\n",
    "s = BytesIO()\n",
    "z = zipfile.ZipFile(s, 'w')\n",
    "z.write(\"lambda_function.py\")\n",
    "z.close()\n",
    "zip_content = s.getvalue()\n",
    "print(\"코드 압축 완료!\")\n",
    "\n",
    "# 2. 압축된 코드로 람다 함수 생성\n",
    "print(\"람다 함수를 AWS에 배포 중...\")\n",
    "lambda_function = lambda_client.create_function(\n",
    "    FunctionName=lambda_function_name,\n",
    "    Runtime='python3.12',        # Python 3.12 런타임 사용\n",
    "    Timeout=180,                 # 최대 3분 실행 시간\n",
    "    Role=lambda_iam_role['Role']['Arn'],  # 앞에서 만든 IAM 역할 사용\n",
    "    Code={'ZipFile': zip_content},\n",
    "    Handler='lambda_function.lambda_handler'  # 실행할 함수 지정\n",
    ")\n",
    "\n",
    "print(\"람다 함수 배포 완료\")\n",
    "print(f\"   함수 이름: {lambda_function_name}\")\n",
    "print(f\"   함수 ARN: {lambda_function['FunctionArn']}\")\n",
    "\n",
    "lambda_function"
   ]
  },
  {
   "cell_type": "markdown",
   "id": "87aa9665-7cab-4794-b496-fd84a8a7972b",
   "metadata": {
    "pycharm": {
     "name": "#%% md\n"
    }
   },
   "source": [
    "## 9단계: Bedrock 에이전트 생성하기\n",
    "\n",
    "이제 우리의 핵심인 **Bedrock 에이전트**를 만들어보겠습니다!\n",
    "\n",
    "**에이전트를 만들기 위해 필요한 것들**:\n",
    "1. **AI 모델 사용 권한** - 에이전트가 선택한 AI 모델을 사용할 수 있는 권한\n",
    "2. **IAM 역할** - AWS 서비스들과 상호작용할 수 있는 권한\n",
    "3. **메모리 기능** - 대화 내용을 기억할 수 있는 설정\n",
    "\n",
    "먼저 에이전트가 우리가 선택한 AI 모델(Nova Pro 또는 Claude)을 사용할 수 있도록 권한을 설정하겠습니다."
   ]
  },
  {
   "cell_type": "code",
   "execution_count": null,
   "id": "10ffd724-3d1b-4916-8513-466c5dd03fcc",
   "metadata": {
    "pycharm": {
     "name": "#%%\n"
    },
    "tags": []
   },
   "outputs": [],
   "source": [
    "# 에이전트가 AI 모델을 사용할 수 있도록 하는 권한 정책을 만듭니다\n",
    "print(\"에이전트 권한 정책 생성 중...\")\n",
    "\n",
    "bedrock_agent_bedrock_allow_policy_statement = {\n",
    "    \"Version\": \"2012-10-17\",\n",
    "    \"Statement\": [\n",
    "        {\n",
    "            \"Sid\": \"AmazonBedrockAgentBedrockFoundationModelPolicy\",\n",
    "            \"Effect\": \"Allow\",\n",
    "            \"Action\": \"bedrock:InvokeModel\",  # AI 모델 호출 권한\n",
    "            \"Resource\": [\n",
    "                f\"arn:aws:bedrock:*::foundation-model/{foundation_model}\",\n",
    "                f\"arn:aws:bedrock:*:*:inference-profile/{inference_profile}\"\n",
    "            ]\n",
    "        },\n",
    "        {\n",
    "            \"Sid\": \"AmazonBedrockAgentBedrockGetInferenceProfile\", \n",
    "            \"Effect\": \"Allow\",\n",
    "            \"Action\": [\n",
    "                \"bedrock:GetInferenceProfile\",      # 추론 프로필 정보 조회\n",
    "                \"bedrock:ListInferenceProfiles\",    # 사용 가능한 추론 프로필 목록 조회\n",
    "                \"bedrock:UseInferenceProfile\"       # 추론 프로필 사용 권한\n",
    "            ],\n",
    "            \"Resource\": \"*\"\n",
    "        }\n",
    "    ]\n",
    "}\n",
    "\n",
    "bedrock_policy_json = json.dumps(bedrock_agent_bedrock_allow_policy_statement)\n",
    "\n",
    "# 정책을 AWS에 생성\n",
    "agent_bedrock_policy = iam_client.create_policy(\n",
    "    PolicyName=agent_bedrock_allow_policy_name,\n",
    "    PolicyDocument=bedrock_policy_json\n",
    ")\n",
    "\n",
    "print(\"에이전트 권한 정책 생성 완료\")\n",
    "print(f\"   정책 이름: {agent_bedrock_allow_policy_name}\")\n",
    "\n",
    "agent_bedrock_policy"
   ]
  },
  {
   "cell_type": "code",
   "execution_count": null,
   "id": "83f3cf61-e65b-4c61-8a66-76bd5946eb32",
   "metadata": {
    "pycharm": {
     "name": "#%%\n"
    },
    "tags": []
   },
   "outputs": [],
   "source": [
    "# 에이전트를 위한 IAM 역할을 생성하고 권한 정책을 연결합니다\n",
    "print(\"에이전트 IAM 역할 생성 중...\")\n",
    "\n",
    "# Bedrock 서비스가 이 역할을 사용할 수 있도록 하는 정책\n",
    "assume_role_policy_document = {\n",
    "    \"Version\": \"2012-10-17\",\n",
    "    \"Statement\": [{\n",
    "          \"Effect\": \"Allow\",\n",
    "          \"Principal\": {\n",
    "            \"Service\": \"bedrock.amazonaws.com\"  # Bedrock 서비스가 이 역할을 사용할 수 있음\n",
    "          },\n",
    "          \"Action\": \"sts:AssumeRole\"\n",
    "    }]\n",
    "}\n",
    "\n",
    "assume_role_policy_document_json = json.dumps(assume_role_policy_document)\n",
    "\n",
    "# IAM 역할 생성\n",
    "agent_role = iam_client.create_role(\n",
    "    RoleName=agent_role_name,\n",
    "    AssumeRolePolicyDocument=assume_role_policy_document_json\n",
    ")\n",
    "\n",
    "print(\"에이전트 IAM 역할 생성 완료\")\n",
    "\n",
    "# 역할이 완전히 생성될 때까지 잠시 대기 (AWS에서 리소스가 준비되는 시간 필요)\n",
    "print(\"역할 생성 완료를 위해 10초 대기 중...\")\n",
    "time.sleep(10)\n",
    "\n",
    "# 앞에서 만든 권한 정책을 이 역할에 연결\n",
    "iam_client.attach_role_policy(\n",
    "    RoleName=agent_role_name,\n",
    "    PolicyArn=agent_bedrock_policy['Policy']['Arn']\n",
    ")\n",
    "\n",
    "print(\"에이전트에 AI 모델 사용 권한 부여 완료\")\n",
    "print(f\"   역할 이름: {agent_role_name}\")\n",
    "\n",
    "agent_role"
   ]
  },
  {
   "cell_type": "markdown",
   "id": "6083fe88-05af-4455-9744-e9593fc784f3",
   "metadata": {
    "pycharm": {
     "name": "#%% md\n"
    }
   },
   "source": [
    "### 메모리 기능을 포함한 에이전트 생성하기\n",
    "\n",
    "이제 드디어 **메모리 기능이 있는 에이전트**를 만들 시간입니다!\n",
    "\n",
    "**메모리 기능이란?**\n",
    "- 에이전트가 이전 대화 내용을 기억할 수 있는 능력입니다\n",
    "- 예를 들어, 첫 번째 대화에서 \"제 이름은 김민수입니다\"라고 말하면, 나중에 \"안녕하세요, 김민수님!\"이라고 인사할 수 있습니다\n",
    "\n",
    "**우리가 설정하는 메모리 기능**:\n",
    "- **종류**: `SESSION_SUMMARY` (세션 요약 메모리)\n",
    "- **보관 기간**: 30일\n",
    "- **작동 방식**: 각 대화 세션이 끝날 때마다 중요한 내용을 요약해서 저장\n",
    "\n",
    "**세션 요약 메모리의 장점**:\n",
    "- 긴 대화 내용을 효율적으로 압축하여 저장\n",
    "- 다음 대화에서 이전 맥락을 이해하고 더 자연스러운 응답 제공\n",
    "- 메모리 ID를 사용하여 특정 사용자의 대화 기록을 구분해서 관리"
   ]
  },
  {
   "cell_type": "code",
   "execution_count": null,
   "id": "6251ebaa-693d-4fee-b28c-2b0692d94ae5",
   "metadata": {
    "pycharm": {
     "name": "#%%\n"
    },
    "tags": []
   },
   "outputs": [],
   "source": [
    "# 모든 준비가 완료되었으니 에이전트를 생성합니다!\n",
    "print(\"메모리 기능을 갖춘 Bedrock 에이전트 생성 중...\")\n",
    "\n",
    "# 에이전트 역할이 완전히 준비될 때까지 추가 대기\n",
    "print(\"에이전트 역할 준비 완료를 위해 30초 대기 중...\")\n",
    "time.sleep(30)\n",
    "\n",
    "response = bedrock_agent_client.create_agent(\n",
    "    agentName=agent_name,                           # 에이전트 이름\n",
    "    agentResourceRoleArn=agent_role['Role']['Arn'], # 에이전트가 사용할 IAM 역할\n",
    "    description=agent_description,                   # 에이전트 설명\n",
    "    idleSessionTTLInSeconds=1800,                   # 비활성 세션 유지 시간 (30분)\n",
    "    foundationModel=inference_profile,               # 사용할 AI 모델\n",
    "    instruction=agent_instruction,                   # 에이전트 행동 지침\n",
    "    \n",
    "    # 메모리 기능 설정 - 여기가 핵심입니다\n",
    "    memoryConfiguration={\n",
    "        \"enabledMemoryTypes\": [\"SESSION_SUMMARY\"],   # 세션 요약 메모리 활성화\n",
    "        \"storageDays\": 30                           # 30일간 메모리 보관\n",
    "    }\n",
    ")\n",
    "\n",
    "print(\"에이전트 생성 완료\")\n",
    "print(f\"   에이전트 이름: {agent_name}\")\n",
    "print(f\"   메모리 기능: 활성화 (30일간 보관)\")\n",
    "print(f\"   사용 모델: {foundation_model}\")\n",
    "\n",
    "response"
   ]
  },
  {
   "cell_type": "markdown",
   "id": "55a44f69-64ae-45ce-8961-41cf4363f271",
   "metadata": {
    "pycharm": {
     "name": "#%% md\n"
    }
   },
   "source": [
    "에이전트가 성공적으로 생성되었습니다! 이제 에이전트 ID를 저장해두겠습니다. 이 ID는 앞으로 에이전트와 상호작용할 때 필요합니다."
   ]
  },
  {
   "cell_type": "code",
   "execution_count": null,
   "id": "0774ea09-6ccf-476d-b2bb-c8265b614f60",
   "metadata": {
    "pycharm": {
     "name": "#%%\n"
    },
    "tags": []
   },
   "outputs": [],
   "source": [
    "agent_id = response['agent']['agentId']\n",
    "print(f\"에이전트 ID: {agent_id}\")\n",
    "print(\"에이전트 ID가 저장되었습니다!\")\n",
    "\n",
    "agent_id"
   ]
  },
  {
   "cell_type": "markdown",
   "id": "65efbf63-fbdb-4220-ab89-c7af740447ef",
   "metadata": {
    "pycharm": {
     "name": "#%% md\n"
    }
   },
   "source": [
    "## 10단계: 에이전트에 실제 기능 추가하기 (액션 그룹)\n",
    "\n",
    "에이전트를 만들었지만, 아직 여행 예약 기능을 할 수 없습니다. 이제 **액션 그룹(Action Group)**을 만들어서 에이전트가 실제로 예약, 수정, 취소 기능을 할 수 있도록 해보겠습니다.\n",
    "\n",
    "**액션 그룹이란?**\n",
    "- 에이전트가 수행할 수 있는 구체적인 기능들의 모음입니다\n",
    "- 앞에서 만든 람다 함수와 연결되어 실제 작업을 처리합니다\n",
    "- 에이전트가 \"언제 어떤 기능을 사용해야 하는지\" 알 수 있도록 각 기능을 자세히 설명합니다\n",
    "\n",
    "**우리가 정의할 기능들**:\n",
    "1. **book_trip**: 새로운 여행 예약\n",
    "2. **update_existing_trip_dates**: 기존 예약 날짜 변경  \n",
    "3. **delete_existing_trip_reservation**: 예약 취소\n",
    "\n",
    "**Function Schema 방식 사용**:\n",
    "이 예제에서는 `functionSchema`를 사용해서 기능을 정의합니다. 각 기능마다 이름, 설명, 필요한 매개변수들을 명시해야 합니다. 이렇게 하면 에이전트가 사용자의 요청을 이해하고 적절한 기능을 선택할 수 있습니다."
   ]
  },
  {
   "cell_type": "code",
   "execution_count": null,
   "id": "a99e5855-fe22-450b-889a-da73e44fdc30",
   "metadata": {
    "pycharm": {
     "name": "#%%\n"
    },
    "tags": []
   },
   "outputs": [],
   "source": [
    "# 에이전트가 사용할 수 있는 기능들을 정의합니다\n",
    "print(\"에이전트 기능 정의 중...\")\n",
    "\n",
    "agent_functions = [\n",
    "    {\n",
    "        'name': 'book_trip',\n",
    "        'description': '고객을 위해 새로운 여행을 예약하는 기능입니다. 출발지, 목적지, 날짜, 교통수단이 모두 필요합니다.',\n",
    "        'parameters': {\n",
    "            \"origin\": {\n",
    "                \"description\": \"여행 출발 도시 (예: 서울, 부산, 제주도)\",\n",
    "                \"required\": True,\n",
    "                \"type\": \"string\"\n",
    "            },\n",
    "            \"destination\": {\n",
    "                \"description\": \"여행 목적지 도시 (예: 도쿄, 파리, 뉴욕)\",\n",
    "                \"required\": True,\n",
    "                \"type\": \"string\"\n",
    "            },\n",
    "            \"start_date\": {\n",
    "                \"description\": \"여행 시작 날짜 (형식: YYYY-MM-DD, 예: 2024-07-15)\",\n",
    "                \"required\": True,\n",
    "                \"type\": \"string\"\n",
    "            },\n",
    "            \"end_date\": {\n",
    "                \"description\": \"여행 종료 날짜 (형식: YYYY-MM-DD, 예: 2024-07-20)\",\n",
    "                \"required\": True,\n",
    "                \"type\": \"string\"\n",
    "            },\n",
    "            \"transportation_mode\": {\n",
    "                \"description\": \"교통수단을 선택하세요. TRAIN(기차) 또는 AIR(비행기) 중 하나\",\n",
    "                \"required\": True,\n",
    "                \"type\": \"string\"\n",
    "            }\n",
    "        }\n",
    "    },\n",
    "    {\n",
    "        'name': 'update_existing_trip_dates',\n",
    "        'description': '이미 예약된 여행의 출발일이나 귀국일을 변경하는 기능입니다. 예약번호와 새로운 날짜들이 필요합니다.',\n",
    "        'parameters': {\n",
    "            \"booking_id\": {\n",
    "                \"description\": \"변경할 예약의 고유 번호 (예약 시 제공받은 ID)\",\n",
    "                \"required\": True,\n",
    "                \"type\": \"integer\"\n",
    "            },\n",
    "            \"new_start_date\": {\n",
    "                \"description\": \"새로운 여행 시작 날짜 (형식: YYYY-MM-DD)\",\n",
    "                \"required\": True,\n",
    "                \"type\": \"string\"\n",
    "            },\n",
    "            \"new_end_date\": {\n",
    "                \"description\": \"새로운 여행 종료 날짜 (형식: YYYY-MM-DD)\",\n",
    "                \"required\": True,\n",
    "                \"type\": \"string\"\n",
    "            }\n",
    "        }\n",
    "    },\n",
    "    {\n",
    "        'name': 'delete_existing_trip_reservation',\n",
    "        'description': '기존 여행 예약을 완전히 취소하는 기능입니다. 예약번호만 있으면 됩니다.',\n",
    "        'parameters': {\n",
    "            \"booking_id\": {\n",
    "                \"description\": \"취소할 예약의 고유 번호 (예약 시 제공받은 ID)\",\n",
    "                \"required\": True,\n",
    "                \"type\": \"integer\"\n",
    "            }\n",
    "        }\n",
    "    }\n",
    "]\n",
    "\n",
    "print(\"에이전트 기능 정의 완료!\")\n",
    "print(f\"   총 {len(agent_functions)}개의 기능이 정의되었습니다:\")\n",
    "for i, func in enumerate(agent_functions, 1):\n",
    "    print(f\"   {i}. {func['name']}: {func['description'][:50]}...\")\n",
    "\n",
    "agent_functions"
   ]
  },
  {
   "cell_type": "code",
   "execution_count": null,
   "id": "d474b3e7-8501-48ed-82d1-f8a3792227a4",
   "metadata": {
    "pycharm": {
     "name": "#%%\n"
    },
    "tags": []
   },
   "outputs": [],
   "source": [
    "# 이제 액션 그룹을 생성하여 에이전트와 람다 함수를 연결합니다\n",
    "print(\"액션 그룹 생성 중...\")\n",
    "\n",
    "# 에이전트가 완전히 생성될 때까지 잠시 대기\n",
    "print(\"에이전트 생성 완료를 위해 30초 대기 중...\")\n",
    "time.sleep(30)\n",
    "\n",
    "# 액션 그룹 생성 - 에이전트와 람다 함수를 연결하는 다리 역할\n",
    "agent_action_group_response = bedrock_agent_client.create_agent_action_group(\n",
    "    agentId=agent_id,\n",
    "    agentVersion='DRAFT',  # 아직 개발 중인 버전이므로 DRAFT 사용\n",
    "    \n",
    "    # 람다 함수 연결 정보\n",
    "    actionGroupExecutor={\n",
    "        'lambda': lambda_function['FunctionArn']  # 앞에서 만든 람다 함수의 ARN\n",
    "    },\n",
    "    \n",
    "    actionGroupName=agent_action_group_name,\n",
    "    description=agent_action_group_description,\n",
    "    \n",
    "    # 에이전트가 사용할 수 있는 기능들 정의\n",
    "    functionSchema={\n",
    "        'functions': agent_functions\n",
    "    }\n",
    ")\n",
    "\n",
    "print(\"액션 그룹 생성 완료\")\n",
    "print(f\"   액션 그룹 이름: {agent_action_group_name}\")\n",
    "print(f\"   연결된 람다 함수: {lambda_function_name}\")\n",
    "print(f\"   사용 가능한 기능: {len(agent_functions)}개\")\n",
    "\n",
    "agent_action_group_response"
   ]
  },
  {
   "cell_type": "code",
   "execution_count": null,
   "id": "22feec4a-d3ec-48f6-9e33-e5a09f08701e",
   "metadata": {
    "pycharm": {
     "name": "#%%\n"
    },
    "tags": []
   },
   "outputs": [],
   "source": [
    "agent_action_group_response"
   ]
  },
  {
   "cell_type": "markdown",
   "id": "751873ee-631b-437d-af97-cb86bd8a0890",
   "metadata": {
    "pycharm": {
     "name": "#%% md\n"
    }
   },
   "source": [
    "## 11단계: 에이전트가 람다 함수를 호출할 수 있도록 권한 부여하기\n",
    "\n",
    "액션 그룹을 만들었지만, 아직 에이전트가 람다 함수를 실제로 호출할 수는 없습니다. \n",
    "\n",
    "**왜 추가 권한이 필요한가요?**\n",
    "- AWS에서는 보안을 위해 기본적으로 모든 접근을 차단합니다\n",
    "- 에이전트가 람다 함수를 호출하려면 명시적으로 \"허용\" 권한을 설정해야 합니다\n",
    "- 이는 **리소스 기반 정책(Resource-based Policy)**을 통해 설정됩니다\n",
    "\n",
    "**리소스 기반 정책이란?**\n",
    "- 특정 리소스(여기서는 람다 함수)에 \"누가 접근할 수 있는지\"를 정의하는 규칙입니다\n",
    "- \"우리가 만든 Bedrock 에이전트만 이 람다 함수를 호출할 수 있다\"라고 설정하는 것입니다"
   ]
  },
  {
   "cell_type": "code",
   "execution_count": null,
   "id": "c739e041-9ea0-4eef-8151-d206e2fd9e37",
   "metadata": {
    "pycharm": {
     "name": "#%%\n"
    },
    "tags": []
   },
   "outputs": [],
   "source": [
    "# 람다 함수에 리소스 기반 정책을 추가하여 에이전트의 호출을 허용합니다\n",
    "print(\"람다 함수 호출 권한 설정 중...\")\n",
    "\n",
    "response = lambda_client.add_permission(\n",
    "    FunctionName=lambda_function_name,           # 권한을 설정할 람다 함수\n",
    "    StatementId='allow_bedrock',                 # 이 권한 규칙의 고유 ID\n",
    "    Action='lambda:InvokeFunction',              # 허용할 작업: 함수 호출\n",
    "    Principal='bedrock.amazonaws.com',           # 허용할 서비스: Bedrock 서비스\n",
    "    SourceArn=f\"arn:aws:bedrock:{region}:{account_id}:agent/{agent_id}\"  # 특정 에이전트만 허용\n",
    ")\n",
    "\n",
    "print(\"에이전트의 람다 함수 호출 권한 설정 완료\")\n",
    "print(f\"   허용된 에이전트 ID: {agent_id}\")\n",
    "print(f\"   허용된 작업: 람다 함수 호출\")\n",
    "\n",
    "response"
   ]
  },
  {
   "cell_type": "code",
   "execution_count": null,
   "id": "a5cdfb72-e41c-4d78-ab12-ce8394574c17",
   "metadata": {
    "pycharm": {
     "name": "#%%\n"
    },
    "tags": []
   },
   "outputs": [],
   "source": [
    "response"
   ]
  },
  {
   "cell_type": "markdown",
   "id": "2b3bab10-e5dc-4138-a9ff-76b2ff2ff9e6",
   "metadata": {
    "pycharm": {
     "name": "#%% md\n"
    }
   },
   "source": [
    "## 12단계: 에이전트 준비하기 (배포 가능한 상태로 만들기)\n",
    "\n",
    "모든 구성 요소를 만들었으니, 이제 에이전트를 **사용할 수 있는 상태**로 준비해야 합니다.\n",
    "\n",
    "**\"Prepare Agent\"가 무엇인가요?**\n",
    "- 지금까지 만든 에이전트는 \"구성 중인 상태\"입니다\n",
    "- 실제로 대화를 하려면 모든 설정을 확정하고 \"준비 완료\" 상태로 만들어야 합니다\n",
    "- 이 과정에서 AWS가 모든 구성 요소가 올바르게 연결되어 있는지 검증합니다\n",
    "\n",
    "**DRAFT 버전이란?**\n",
    "- 개발 및 테스트 용도로 사용하는 임시 버전입니다\n",
    "- 언제든지 수정하고 다시 준비할 수 있습니다\n",
    "- 실제 서비스에서는 정식 버전(Version)과 별칭(Alias)을 만들어 사용합니다"
   ]
  },
  {
   "cell_type": "code",
   "execution_count": null,
   "id": "e7094e7f-915a-4396-8d98-c3bfee3ccf1e",
   "metadata": {
    "pycharm": {
     "name": "#%%\n"
    },
    "tags": []
   },
   "outputs": [],
   "source": [
    "print(\"에이전트를 사용 가능한 상태로 준비 중...\")\n",
    "\n",
    "response = bedrock_agent_client.prepare_agent(\n",
    "    agentId=agent_id\n",
    ")\n",
    "\n",
    "print(\"에이전트 준비 완료\")\n",
    "print(\"   에이전트가 이제 대화할 준비가 되었습니다!\")\n",
    "print(\"   모든 구성요소가 올바르게 연결되었는지 AWS에서 검증을 완료했습니다.\")\n",
    "\n",
    "print(response)"
   ]
  },
  {
   "cell_type": "code",
   "execution_count": null,
   "id": "aae1ff1a",
   "metadata": {
    "pycharm": {
     "name": "#%%\n"
    },
    "tags": []
   },
   "outputs": [],
   "source": [
    "# 에이전트 준비가 완전히 완료될 때까지 잠시 대기\n",
    "print(\"에이전트 준비 완료를 위해 30초 대기 중...\")\n",
    "time.sleep(30)\n",
    "\n",
    "# 테스트용 에이전트 별칭 ID 설정\n",
    "# TSTALIASID는 개발/테스트 단계에서 사용하는 기본 별칭입니다\n",
    "agent_alias_id = \"TSTALIASID\"\n",
    "\n",
    "print(f\"에이전트 별칭 ID 설정 완료: {agent_alias_id}\")\n",
    "print(\"   이제 에이전트와 대화할 수 있습니다!\")"
   ]
  },
  {
   "cell_type": "markdown",
   "id": "8dd5cbde-5ca7-48f2-85b3-2ffe349229f9",
   "metadata": {
    "pycharm": {
     "name": "#%% md\n"
    }
   },
   "source": [
    "# 메모리 기능을 갖춘 에이전트 호출\n",
    "\n",
    "이제 `memoryId`를 전달하여 에이전트를 호출하고 가장 일반적인 메모리 API 처리 방법을 살펴보겠습니다.\n",
    "\n",
    "먼저 에이전트를 호출하는 헬퍼 함수와 에이전트 이름을 통해 에이전트 ID를 가져오는 헬퍼 함수를 생성합니다.\n",
    "\n",
    "`invoke_agent_helper` 함수는 사용자가 `session_id`와 함께 에이전트에 `query`를 보낼 수 있도록 합니다. 세션은 사용자가 에이전트와 나누는 앞뒤 대화의 턴을 정의합니다. 에이전트는 세션 내에서 전체 컨텍스트를 기억할 수 있습니다. 사용자가 세션을 종료하면 이 컨텍스트는 제거됩니다.\n",
    "\n",
    "사용자는 `enable_trace` 불린 변수를 사용하여 추적 활성화 여부를 결정할 수 있고, `session_state` 변수를 통해 세션 상태를 딕셔너리로 전달할 수 있습니다.\n",
    "\n",
    "새 `session_id`가 제공되면 에이전트는 이전 컨텍스트 없이 새 대화를 생성합니다. 동일한 `session_id`를 재사용하면 해당 세션과 관련된 대화 컨텍스트를 에이전트가 알고 있습니다.\n",
    "\n",
    "`enable_trace`가 `True`로 설정되면 에이전트의 각 응답에는 에이전트가 조율하는 단계를 자세히 설명하는 *추적*이 함께 제공됩니다. 이를 통해 대화의 해당 시점에서 최종 응답으로 이어진 에이전트의 추론(연쇄 사고 프롬프팅을 통한)을 따라갈 수 있습니다.\n",
    "\n",
    "메모리 기능을 처리하기 위해 `memory_id` 매개변수가 사용됩니다. 세션이 종료되면 `memory_id`의 일부로 새 세션 ID로 내용을 요약합니다.\n",
    "\n",
    "마지막으로 `session_state` 매개변수를 사용하여 세션 컨텍스트를 전달할 수도 있습니다. 세션 상태를 사용하면 에이전트와 다음 정보를 공유할 수 있습니다:\n",
    "- **`sessionAttributes`**: 사용자와 에이전트 간의 세션에서 지속되는 속성입니다. 동일한 session_id를 가진 모든 invokeAgent 호출은 동일한 세션에 속하며, 세션 시간 제한을 초과하지 않고 사용자가 세션을 종료하지 않는 한 sessionAttributes를 공유합니다. sessionAttributes는 람다 함수에서 사용할 수 있지만 에이전트 프롬프트에 추가되지 **않습니다**. 따라서 람다 함수가 처리할 수 있는 경우에만 세션 속성을 사용할 수 있습니다. 세션 속성 사용에 대한 더 많은 예제는 [여기](https://github.com/aws-samples/amazon-bedrock-samples/tree/main/agents-and-function-calling/bedrock-agents/features-examples/06-prompt-and-session-attributes)에서 찾을 수 있습니다. 람다 함수 통합을 사용하여 특정 API에 대한 세밀한 액세스 제어를 구현하는 것도 좋은 패턴입니다. 예제는 [여기](https://github.com/aws-samples/amazon-bedrock-samples/tree/main/agents-and-function-calling/bedrock-agents/features-examples/09-fine-grained-access-permissions)에서 확인할 수 있습니다.\n",
    "- **`promptSessionAttributes`**: 단일 invokeAgent 호출에서 지속되는 속성입니다. 프롬프트 속성은 프롬프트와 람다 함수에 추가됩니다. 오케스트레이션 기본 프롬프트를 편집할 때 `$prompt_session_attributes$` 자리 표시자를 사용할 수도 있습니다.\n",
    "- **`invocationId`**: InvokeAgent 응답의 returnControl 필드에 있는 [ReturnControlPayload](https://docs.aws.amazon.com/bedrock/latest/APIReference/API_agent-runtime_ReturnControlPayload.html) 객체에서 에이전트가 반환한 ID입니다. 이 필드는 Return of Control 호출의 답변을 전달하는 경우 필요합니다. 사용 방법에 대한 예제는 [여기](https://github.com/aws-samples/amazon-bedrock-samples/tree/main/agents-and-function-calling/bedrock-agents/features-examples/03-create-agent-with-return-of-control)에서 확인할 수 있습니다.\n",
    "- **`returnControlInvocationResults`**: Amazon Bedrock 에이전트 외부에서 액션을 호출하여 얻은 결과입니다. 이 필드는 Return of Control 호출의 답변을 전달하는 경우 필요합니다. 사용 방법에 대한 예제는 [여기](https://github.com/aws-samples/amazon-bedrock-samples/tree/main/agents-and-function-calling/bedrock-agents/features-examples/03-create-agent-with-return-of-control)에서 확인할 수 있습니다.\n",
    "\n",
    "또한 `TSTALIASID`로 설정된 테스트 `agent_alias_id`를 사용합니다. 이는 개발 중인 에이전트를 테스트하는 데 사용할 수 있는 기본값입니다. [에이전트를 배포](https://docs.aws.amazon.com/bedrock/latest/userguide/agents-deploy.html)하여 에이전트의 새 버전을 생성하고 새 에이전트 별칭 ID를 가질 수도 있습니다."
   ]
  },
  {
   "cell_type": "code",
   "id": "0f2ec6f4-fdd4-494c-b755-d27d7bbeb28d",
   "metadata": {
    "pycharm": {
     "name": "#%%\n"
    },
    "tags": []
   },
   "outputs": [],
   "source": "def invoke_agent_helper(\n    query, session_id, agent_id, alias_id, enable_trace=False, memory_id=None, session_state=None, end_session=False\n):\n    \"\"\"\n    에이전트와 대화하기 위한 헬퍼 함수\n    \n    매개변수:\n        query (str): 에이전트에게 보낼 질문이나 요청\n        session_id (str): 대화 세션의 고유 ID\n        agent_id (str): 호출할 에이전트의 ID\n        alias_id (str): 에이전트 별칭 ID (보통 'TSTALIASID')\n        enable_trace (bool): 에이전트의 추론 과정을 볼지 여부 (기본값: False)\n        memory_id (str): 메모리 기능을 사용할 때의 메모리 ID\n        session_state (dict): 세션 상태 정보 (선택사항)\n        end_session (bool): 세션을 종료할지 여부 (기본값: False)\n    \n    반환값:\n        str: 에이전트의 응답 텍스트\n    \"\"\"\n    if not session_state:\n        session_state = {}\n\n    # 에이전트 API 호출\n    agent_response = bedrock_agent_runtime_client.invoke_agent(\n        inputText=query,                     # 사용자 질문\n        agentId=agent_id,                   # 에이전트 ID\n        agentAliasId=alias_id,              # 에이전트 별칭 ID\n        sessionId=session_id,               # 세션 ID\n        enableTrace=enable_trace,           # 추적 기능 활성화 여부\n        endSession=end_session,             # 세션 종료 여부\n        memoryId=memory_id,                 # 메모리 ID\n        sessionState=session_state          # 세션 상태\n    )\n\n    if enable_trace:\n        logger.info(pprint.pprint(agent_response))\n\n    event_stream = agent_response['completion']\n    try:\n        for event in event_stream:\n            if 'chunk' in event:\n                data = event['chunk']['bytes']\n                if enable_trace:\n                    logger.info(f\"최종 답변 ->\\n{data.decode('utf8')}\")\n                agent_answer = data.decode('utf8')\n                return agent_answer\n                # 요청이 성공적으로 완료되었음을 나타내는 종료 이벤트\n            elif 'trace' in event:\n                if enable_trace:\n                    logger.info(json.dumps(event['trace'], indent=2))\n            else:\n                raise Exception(\"예상치 못한 이벤트가 발생했습니다.\", event)\n    except Exception as e:\n        raise Exception(\"예상치 못한 이벤트가 발생했습니다.\", e)"
  },
  {
   "cell_type": "markdown",
   "id": "86f6763d-220d-49e2-b08e-9cf5a0494128",
   "metadata": {
    "pycharm": {
     "name": "#%% md\n"
    }
   },
   "source": "### 빈 메모리로 대화 시작하기\n\n이제 에이전트와 실제로 대화를 시작해보겠습니다! 첫 번째 대화에서는 메모리가 비어있는 상태에서 시작됩니다.\n\n**대화 시나리오**:\n사용자 Anna가 보스턴에서 뉴욕까지의 항공편 여행을 예약하려고 합니다. 에이전트가 어떻게 응답하는지 확인해보겠습니다.",
   "outputs": []
  },
  {
   "cell_type": "code",
   "id": "4525b20b-e977-43a7-84fe-5dee0202e0fa",
   "metadata": {
    "pycharm": {
     "name": "#%%\n"
    },
    "tags": []
   },
   "outputs": [],
   "source": "# 대화를 위한 고유한 세션 ID 생성\nsession_id: str = str(uuid.uuid1())  # 새로운 세션마다 고유한 ID\nmemory_id: str = 'TST_MEM_ID'        # 테스트용 메모리 ID\nenable_trace: bool = False           # 추적 기능 비활성화 (깔끔한 출력을 위해)\nend_session: bool = False           # 아직 세션을 종료하지 않음\n\n# Anna의 첫 번째 요청: 여행 예약\nquery = \"안녕하세요, 제 이름은 Anna입니다. 보스턴에서 뉴욕까지 2024년 7월 11일 출발해서 7월 22일에 돌아오는 항공편을 예약하고 싶습니다.\"\n\nprint(\"🎯 사용자 요청:\")\nprint(f\"   \\\"{query}\\\"\\n\")\n\nprint(\"🤖 에이전트 응답:\")\nresponse = invoke_agent_helper(query, session_id, agent_id, agent_alias_id, enable_trace=enable_trace, memory_id=memory_id)\nprint(response)"
  },
  {
   "cell_type": "markdown",
   "id": "80b266f2-18c8-4ebd-b6e0-8c06c2b593ed",
   "metadata": {
    "pycharm": {
     "name": "#%% md\n"
    }
   },
   "source": "훌륭합니다! 에이전트가 여행 예약을 성공적으로 처리하고 예약 ID까지 제공했습니다. \n\n이제 Anna가 에이전트의 도움에 감사 인사를 해보겠습니다. 에이전트가 어떻게 응답하는지 확인해보세요.",
   "outputs": []
  },
  {
   "cell_type": "code",
   "id": "ca7a33c3-44f5-45d7-a880-7f6d33783c68",
   "metadata": {
    "pycharm": {
     "name": "#%%\n"
    },
    "tags": []
   },
   "outputs": [],
   "source": "# Anna의 감사 인사\nquery = \"감사합니다!\"\n\nprint(\"🎯 사용자 요청:\")\nprint(f\"   \\\"{query}\\\"\\n\")\n\nprint(\"🤖 에이전트 응답:\")\nresponse = invoke_agent_helper(query, session_id, agent_id, agent_alias_id, enable_trace=enable_trace, memory_id=memory_id)\nprint(response)"
  },
  {
   "cell_type": "markdown",
   "id": "5348ebca-ff53-4913-be92-b41d9b7b3c45",
   "metadata": {
    "pycharm": {
     "name": "#%% md\n"
    }
   },
   "source": "이제 첫 번째 세션을 종료해보겠습니다. `end_session=True`로 설정하면 에이전트가 현재 세션을 마무리하고, 이 대화 내용을 요약해서 메모리에 저장합니다.\n\n**중요**: 세션이 종료되면 에이전트는 이 대화에서 중요한 정보들(Anna의 이름, 예약 정보 등)을 메모리에 저장합니다.",
   "outputs": []
  },
  {
   "cell_type": "code",
   "id": "5895f94a-114b-4c6b-ba27-cab6889a458a",
   "metadata": {
    "pycharm": {
     "name": "#%%\n"
    },
    "tags": []
   },
   "outputs": [],
   "source": "# 세션 종료\nquery = \"대화를 마치겠습니다\"\n\nprint(\"🎯 사용자 요청:\")\nprint(f\"   \\\"{query}\\\"\\n\")\n\nprint(\"🤖 에이전트 응답:\")\nresponse = invoke_agent_helper(query, session_id, agent_id, agent_alias_id, enable_trace=enable_trace, memory_id=memory_id, end_session=True)\nprint(response)\n\nprint(\"\\n✅ 세션이 종료되었습니다!\")\nprint(\"   이제 에이전트가 이 대화 내용을 메모리에 저장하기 시작합니다.\")"
  },
  {
   "cell_type": "markdown",
   "id": "bc45d4cc-5bb8-487b-b0c8-d0b20d7d2936",
   "metadata": {
    "pycharm": {
     "name": "#%% md\n"
    }
   },
   "source": "### 메모리 생성 대기하기\n\n에이전트가 세션 내용을 메모리로 변환하는 데는 시간이 걸립니다. 아래 함수는 메모리가 생성될 때까지 기다리는 헬퍼 함수입니다.",
   "outputs": []
  },
  {
   "cell_type": "code",
   "id": "f7f07fa3-53da-4e19-950b-9603ee6067c7",
   "metadata": {
    "pycharm": {
     "name": "#%%\n"
    },
    "tags": []
   },
   "outputs": [],
   "source": "def wait_memory_creation(agent_id, agent_alias_id, memory_id):\n    \"\"\"\n    메모리가 생성될 때까지 대기하는 함수\n    \n    매개변수:\n        agent_id (str): 에이전트 ID\n        agent_alias_id (str): 에이전트 별칭 ID\n        memory_id (str): 확인할 메모리 ID\n    \n    반환값:\n        tuple: (메모리 생성 소요 시간, 메모리 내용)\n    \"\"\"\n    print(\"📝 메모리 생성을 기다리는 중...\")\n    start_memory = time.time()\n    memory_content = None\n    \n    if memory_id is not None:\n        while not memory_content:\n            time.sleep(5)  # 5초마다 확인\n            print(\"   메모리 상태 확인 중...\")\n            try:\n                memory_content = bedrock_agent_runtime_client.get_agent_memory(\n                    agentAliasId=agent_alias_id,\n                    agentId=agent_id,\n                    memoryId=memory_id,\n                    memoryType='SESSION_SUMMARY'\n                )['memoryContents']\n            except Exception as e:\n                # 메모리가 아직 생성되지 않았을 수 있음\n                continue\n                \n        end_memory = time.time()\n        memory_creation_time = (end_memory - start_memory)\n        print(f\"✅ 메모리 생성 완료! (소요 시간: {memory_creation_time:.1f}초)\")\n    \n    return memory_creation_time, memory_content"
  },
  {
   "cell_type": "code",
   "id": "c51f6c07-51ad-4a5e-b9ae-d31c9c3a49c2",
   "metadata": {
    "pycharm": {
     "name": "#%%\n"
    },
    "tags": []
   },
   "outputs": [],
   "source": "# 메모리가 생성될 때까지 대기하고 내용 확인\nmemory_creation_time, memory_content = wait_memory_creation(agent_id, agent_alias_id, memory_id)\n\nprint(f\"\\n🧠 생성된 메모리 내용:\")\nprint(\"=\" * 50)\nfor content in memory_content:\n    print(f\"세션 ID: {content.get('sessionId', 'N/A')}\")\n    print(f\"요약: {content.get('summary', 'N/A')}\")\n    print(\"-\" * 30)\n\nprint(f\"\\n📊 메모리 통계:\")\nprint(f\"   생성 소요 시간: {memory_creation_time:.1f}초\")\nprint(f\"   저장된 세션 수: {len(memory_content)}개\")"
  },
  {
   "cell_type": "markdown",
   "id": "5af22e3d-1ccc-4488-b847-acd40fc1df47",
   "metadata": {
    "pycharm": {
     "name": "#%% md\n"
    }
   },
   "source": "### 메모리 정보를 기반으로 에이전트 호출하기\n\n이제 정말 흥미로운 부분입니다! 새로운 세션을 시작하지만, 같은 `memory_id`를 사용해서 에이전트가 이전 대화 내용을 기억할 수 있는지 확인해보겠습니다.\n\n**테스트 시나리오**: Anna가 돌아와서 여행 날짜를 변경하고 싶어합니다. 에이전트가 Anna를 기억하고 이전 예약 정보를 알고 있는지 확인해보겠습니다.",
   "outputs": []
  },
  {
   "cell_type": "code",
   "id": "6abe3019-ad8d-42dd-b98f-dc68e2235799",
   "metadata": {
    "pycharm": {
     "name": "#%%\n"
    },
    "tags": []
   },
   "outputs": [],
   "source": "# 새로운 세션 ID 생성 (새로운 대화 시작)\nsession_id: str = str(uuid.uuid1())\n\n# Anna의 두 번째 요청: 여행 날짜 변경\n# 주목: Anna는 자신의 이름이나 이전 예약 정보를 다시 말하지 않습니다!\nquery = \"하루 더 머물러야 할 것 같아요. 대신 23일에 돌아올 수 있을까요?\"\n\nprint(\"🔄 새로운 세션 시작 (같은 memory_id 사용)\")\nprint(f\"🎯 사용자 요청:\")\nprint(f\"   \\\"{query}\\\"\\n\")\n\nprint(\"🤖 에이전트 응답:\")\nresponse = invoke_agent_helper(query, session_id, agent_id, agent_alias_id, enable_trace=enable_trace, memory_id=memory_id)\nprint(response)\n\nprint(\"\\n💡 주목할 점:\")\nprint(\"   - 에이전트가 Anna를 기억하고 있는지 확인하세요\")\nprint(\"   - 이전 예약 정보를 알고 있는지 확인하세요\")\nprint(\"   - 어떤 구체적인 정보를 확인하려고 하는지 보세요\")"
  },
  {
   "cell_type": "markdown",
   "id": "3dbe4af5-921a-48cc-a76e-f59041b6eb66",
   "metadata": {
    "pycharm": {
     "name": "#%% md\n"
    }
   },
   "source": "훌륭합니다! 에이전트가 메모리를 기반으로 Anna를 기억하고 이전 예약 정보를 정확히 파악했습니다.\n\n이제 Anna가 에이전트가 제공한 정보가 맞다고 확인해주어서, 에이전트가 실제로 여행 날짜 변경 기능을 실행할 수 있도록 해보겠습니다.",
   "outputs": []
  },
  {
   "cell_type": "code",
   "id": "452522a9-5b53-45f4-b9ee-78fd6377e76c",
   "metadata": {
    "pycharm": {
     "name": "#%%\n"
    },
    "tags": []
   },
   "outputs": [],
   "source": "# Anna의 확인 응답\nquery = \"네, 맞습니다! 변경해주세요.\"\n\nprint(\"🎯 사용자 요청:\")\nprint(f\"   \\\"{query}\\\"\\n\")\n\nprint(\"🤖 에이전트 응답:\")\nresponse = invoke_agent_helper(query, session_id, agent_id, agent_alias_id, enable_trace=enable_trace, memory_id=memory_id)\nprint(response)\n\nprint(\"\\n✅ 예약 변경 완료!\")\nprint(\"   에이전트가 메모리 정보를 활용해서 날짜 변경을 성공적으로 처리했습니다.\")"
  },
  {
   "cell_type": "code",
   "id": "0d2d2275-edd1-4439-82e3-a6a7cf356f7d",
   "metadata": {
    "pycharm": {
     "name": "#%%\n"
    },
    "tags": []
   },
   "outputs": [],
   "source": "# 두 번째 세션도 종료\nquery = \"감사합니다. 대화를 마치겠습니다.\"\n\nprint(\"🎯 사용자 요청:\")\nprint(f\"   \\\"{query}\\\"\\n\")\n\nprint(\"🤖 에이전트 응답:\")\nresponse = invoke_agent_helper(query, session_id, agent_id, agent_alias_id, enable_trace=enable_trace, memory_id=memory_id, end_session=True)\nprint(response)\n\nprint(\"\\n✅ 두 번째 세션도 종료되었습니다!\")\nprint(\"   이제 이 대화 내용도 메모리에 추가로 저장됩니다.\")"
  },
  {
   "cell_type": "markdown",
   "id": "bf4c03bc-94f8-4bbd-bfd2-8a32ed3a3601",
   "metadata": {
    "pycharm": {
     "name": "#%% md\n"
    }
   },
   "source": "### 업데이트된 메모리 조회하기\n\n이제 에이전트에 저장된 메모리를 다시 확인해보겠습니다. 두 번의 세션이 모두 메모리에 저장되어 있는지 확인할 수 있습니다.\n\n**주목할 점**:\n- 첫 번째 세션: 초기 예약 정보\n- 두 번째 세션: 날짜 변경 정보\n- 모든 정보가 하나의 `memory_id`에 누적되어 저장됩니다",
   "outputs": []
  },
  {
   "cell_type": "code",
   "id": "2a97a1f5-b0a6-4e36-a208-adad5626f165",
   "metadata": {
    "pycharm": {
     "name": "#%%\n"
    },
    "tags": []
   },
   "outputs": [],
   "source": "# 업데이트된 메모리 내용 확인\nmemory_creation_time, updated_memory_content = wait_memory_creation(agent_id, agent_alias_id, memory_id)\n\nprint(f\"\\n🧠 업데이트된 메모리 내용:\")\nprint(\"=\" * 60)\nfor i, content in enumerate(updated_memory_content, 1):\n    print(f\"세션 {i}:\")\n    print(f\"  세션 ID: {content.get('sessionId', 'N/A')}\")\n    print(f\"  요약: {content.get('summary', 'N/A')}\")\n    print(\"-\" * 50)\n\nprint(f\"\\n📊 메모리 통계:\")\nprint(f\"   업데이트 소요 시간: {memory_creation_time:.1f}초\")\nprint(f\"   총 저장된 세션 수: {len(updated_memory_content)}개\")\n\nprint(f\"\\n🔍 메모리 기능 검증 결과:\")\nprint(\"   ✅ 여러 세션의 정보가 하나의 memory_id에 누적 저장됨\")\nprint(\"   ✅ 에이전트가 이전 대화 맥락을 정확히 기억함\") \nprint(\"   ✅ 메모리 정보를 활용한 기능 실행 성공\")"
  },
  {
   "cell_type": "markdown",
   "id": "926ba807-3c3d-4c5f-b59a-82e3000cb294",
   "metadata": {
    "pycharm": {
     "name": "#%% md\n"
    }
   },
   "source": "## 메모리 삭제하기\n\n이제 테스트를 마무리하기 위해 생성된 메모리를 삭제해보겠습니다. \n\n**중요 주의사항**: \n- `delete_agent_memory` 함수를 호출하면 해당 `memory_id`의 **모든** 세션 정보가 삭제됩니다\n- 실제 서비스에서는 사용자가 명시적으로 요청할 때만 메모리를 삭제해야 합니다\n- 메모리 삭제는 되돌릴 수 없는 작업입니다",
   "outputs": []
  },
  {
   "cell_type": "code",
   "id": "a8e70350-0d69-4e6f-a236-35b9a8fcd684",
   "metadata": {
    "pycharm": {
     "name": "#%%\n"
    },
    "tags": []
   },
   "outputs": [],
   "source": "# 메모리 삭제 실행\nprint(f\"🗑️ 메모리 삭제 중... (Memory ID: {memory_id})\")\n\nresponse = bedrock_agent_runtime_client.delete_agent_memory(\n    agentAliasId=agent_alias_id, \n    agentId=agent_id, \n    memoryId=memory_id\n)\n\nprint(\"✅ 메모리 삭제 완료!\")\nprint(f\"   응답 상태: {response['ResponseMetadata']['HTTPStatusCode']}\")\n\n# 응답 내용 확인\nprint(\"\\n📄 삭제 응답 내용:\")\nprint(response)"
  },
  {
   "cell_type": "markdown",
   "id": "e51c6688-9b02-4ffa-8d3b-9167b01cab2c",
   "metadata": {
    "pycharm": {
     "name": "#%% md\n"
    }
   },
   "source": "### 메모리 삭제 확인\n\n메모리가 정말로 삭제되었는지 확인해보겠습니다. `get_agent_memory` 메서드를 다시 호출해서 빈 결과가 나오는지 확인합니다.",
   "outputs": []
  },
  {
   "cell_type": "code",
   "id": "4b3ef46d-299a-4777-bc76-c0ee594f485b",
   "metadata": {
    "pycharm": {
     "name": "#%%\n"
    },
    "tags": []
   },
   "outputs": [],
   "source": "# 메모리 삭제 확인\nprint(\"🔍 메모리 삭제 확인 중...\")\n\ntry:\n    response = bedrock_agent_runtime_client.get_agent_memory(\n        agentAliasId=agent_alias_id, \n        agentId=agent_id, \n        memoryId=memory_id, \n        memoryType=\"SESSION_SUMMARY\"\n    )\n    memory_contents = response['memoryContents']\n    \n    if not memory_contents:\n        print(\"✅ 메모리가 성공적으로 삭제되었습니다!\")\n        print(\"   저장된 세션 정보가 없습니다.\")\n    else:\n        print(f\"⚠️ 아직 {len(memory_contents)}개의 세션이 남아있습니다.\")\n        \nexcept Exception as e:\n    print(f\"✅ 메모리가 완전히 삭제되었습니다!\")\n    print(f\"   (에러 메시지: {str(e)})\")\n\nprint(f\"\\n📊 최종 상태:\")\nprint(f\"   Memory ID: {memory_id}\")\nprint(f\"   상태: 삭제됨\")"
  },
  {
   "cell_type": "markdown",
   "id": "bb098ccf-fbc2-4588-8556-dd0eb49b1146",
   "metadata": {
    "pycharm": {
     "name": "#%% md\n"
    }
   },
   "source": "## 리소스 정리 (선택사항)\n\n튜토리얼을 마친 후에는 생성된 AWS 리소스들을 정리할 수 있습니다. \n\n**⚠️ 주의사항**: \n- 아래 셀을 실행하면 생성했던 모든 리소스가 삭제됩니다\n- 실제 프로젝트에서 사용 중인 리소스는 삭제하지 마세요\n- 리소스 삭제는 되돌릴 수 없는 작업입니다\n\n**정리될 리소스들**:\n- Bedrock 에이전트 및 액션 그룹\n- Lambda 함수\n- IAM 역할 및 정책\n\n리소스를 정리하려면 아래 셀의 주석을 해제하고 실행하세요.",
   "outputs": []
  },
  {
   "cell_type": "code",
   "id": "c4c1a37d-f07a-4fbb-bb39-0a5b0ef8eca1",
   "metadata": {
    "pycharm": {
     "name": "#%%\n"
    },
    "tags": []
   },
   "outputs": [],
   "source": "# 리소스 정리 (주석을 해제하여 실행)\n\"\"\"\nprint(\"🧹 리소스 정리 시작...\")\n\n# 1. 액션 그룹 비활성화 및 삭제\nprint(\"1️⃣ 액션 그룹 삭제 중...\")\naction_group_id = agent_action_group_response['agentActionGroup']['actionGroupId']\naction_group_name = agent_action_group_response['agentActionGroup']['actionGroupName']\n\n# 액션 그룹 비활성화\nresponse = bedrock_agent_client.update_agent_action_group(\n    agentId=agent_id,\n    agentVersion='DRAFT',\n    actionGroupId=action_group_id,\n    actionGroupName=action_group_name,\n    actionGroupExecutor={\n        'lambda': lambda_function['FunctionArn']\n    },\n    functionSchema={\n        'functions': agent_functions\n    },\n    actionGroupState='DISABLED',\n)\n\n# 액션 그룹 삭제\naction_group_deletion = bedrock_agent_client.delete_agent_action_group(\n    agentId=agent_id,\n    agentVersion='DRAFT',\n    actionGroupId=action_group_id\n)\n\n# 2. 에이전트 삭제\nprint(\"2️⃣ 에이전트 삭제 중...\")\nagent_deletion = bedrock_agent_client.delete_agent(\n    agentId=agent_id\n)\n\n# 3. Lambda 함수 삭제\nprint(\"3️⃣ Lambda 함수 삭제 중...\")\nlambda_client.delete_function(\n    FunctionName=lambda_function_name\n)\n\n# 4. IAM 역할에서 정책 분리\nprint(\"4️⃣ IAM 정책 분리 중...\")\nfor policy in [agent_bedrock_allow_policy_name]:\n    iam_client.detach_role_policy(\n        RoleName=agent_role_name, \n        PolicyArn=f'arn:aws:iam::{account_id}:policy/{policy}'\n    )\n    \niam_client.detach_role_policy(\n    RoleName=lambda_function_role, \n    PolicyArn='arn:aws:iam::aws:policy/service-role/AWSLambdaBasicExecutionRole'\n)\n\n# 5. IAM 역할 삭제\nprint(\"5️⃣ IAM 역할 삭제 중...\")\nfor role_name in [agent_role_name, lambda_function_role]:\n    iam_client.delete_role(\n        RoleName=role_name\n    )\n\n# 6. IAM 정책 삭제\nprint(\"6️⃣ IAM 정책 삭제 중...\")\nfor policy in [agent_bedrock_policy]:\n    iam_client.delete_policy(\n        PolicyArn=policy['Policy']['Arn']\n    )\n\nprint(\"✅ 모든 리소스 정리 완료!\")\nprint(\"   생성했던 모든 AWS 리소스가 성공적으로 삭제되었습니다.\")\n\"\"\"\n\nprint(\"💡 리소스 정리 코드가 준비되어 있습니다.\")\nprint(\"   필요시 위의 주석을 해제하고 실행하세요.\")"
  },
  {
   "cell_type": "markdown",
   "id": "25e995a3-7842-4bcc-93e9-759b6b3b6722",
   "metadata": {
    "pycharm": {
     "name": "#%% md\n"
    }
   },
   "source": "## 🎉 튜토리얼 완료!\n\n축하합니다! **메모리 기능을 갖춘 Amazon Bedrock 에이전트**를 성공적으로 만들고 테스트해보았습니다.\n\n## 📚 이 튜토리얼에서 배운 내용\n\n### 1. **에이전트 구축 과정**\n- AWS Lambda 함수로 비즈니스 로직 구현\n- IAM 역할과 권한 설정\n- Bedrock 에이전트 생성 및 구성\n- 액션 그룹을 통한 기능 연결\n\n### 2. **메모리 기능 활용**\n- 세션 요약 메모리(`SESSION_SUMMARY`) 설정\n- 다중 세션에 걸친 정보 누적 저장\n- 메모리 기반 맥락 인식 대화\n- 메모리 조회 및 관리\n\n### 3. **실제 사용 시나리오**\n- 사용자 정보 기억 (이름, 선호도 등)\n- 이전 거래 내역 활용\n- 맥락을 이해한 자연스러운 대화\n- 개인화된 서비스 제공\n\n## 🚀 다음 단계\n\n### 실제 서비스 적용을 위한 개선사항\n1. **데이터베이스 연동**: 시뮬레이션이 아닌 실제 데이터베이스 사용\n2. **사용자 인증**: 각 사용자별로 고유한 memory_id 관리\n3. **오류 처리**: 예외 상황에 대한 견고한 처리 로직\n4. **보안 강화**: 민감한 정보 암호화 및 접근 제어\n5. **성능 최적화**: 대용량 메모리 효율적 관리\n\n### 추가 기능 실험\n- **프롬프트 최적화**: 에이전트 응답 품질 향상\n- **다양한 액션 그룹**: 더 복잡한 기능 추가\n- **멀티모달 기능**: 이미지, 문서 처리 기능\n- **실시간 통합**: 웹소켓이나 스트리밍 API 활용\n\n## 💡 핵심 포인트\n\n> **메모리 기능은 단순히 정보를 저장하는 것이 아니라, 사용자와의 지속적인 관계를 구축하는 핵심 기술입니다.**\n\n이제 여러분만의 메모리 기능을 갖춘 AI 어시스턴트를 만들어보세요!\n\n## 🔗 참고 자료\n- [Amazon Bedrock Agents 공식 문서](https://docs.aws.amazon.com/bedrock/latest/userguide/agents.html)\n- [Bedrock Agents 메모리 기능 가이드](https://docs.aws.amazon.com/bedrock/latest/userguide/agents-memory.html)\n- [AWS Lambda 개발자 가이드](https://docs.aws.amazon.com/lambda/latest/dg/)\n\n---\n**감사합니다! 🙏**",
   "outputs": []
  }
 ],
 "metadata": {
  "availableInstances": [
   {
    "_defaultOrder": 0,
    "_isFastLaunch": true,
    "category": "General purpose",
    "gpuNum": 0,
    "hideHardwareSpecs": false,
    "memoryGiB": 4,
    "name": "ml.t3.medium",
    "vcpuNum": 2
   },
   {
    "_defaultOrder": 1,
    "_isFastLaunch": false,
    "category": "General purpose",
    "gpuNum": 0,
    "hideHardwareSpecs": false,
    "memoryGiB": 8,
    "name": "ml.t3.large",
    "vcpuNum": 2
   },
   {
    "_defaultOrder": 2,
    "_isFastLaunch": false,
    "category": "General purpose",
    "gpuNum": 0,
    "hideHardwareSpecs": false,
    "memoryGiB": 16,
    "name": "ml.t3.xlarge",
    "vcpuNum": 4
   },
   {
    "_defaultOrder": 3,
    "_isFastLaunch": false,
    "category": "General purpose",
    "gpuNum": 0,
    "hideHardwareSpecs": false,
    "memoryGiB": 32,
    "name": "ml.t3.2xlarge",
    "vcpuNum": 8
   },
   {
    "_defaultOrder": 4,
    "_isFastLaunch": true,
    "category": "General purpose",
    "gpuNum": 0,
    "hideHardwareSpecs": false,
    "memoryGiB": 8,
    "name": "ml.m5.large",
    "vcpuNum": 2
   },
   {
    "_defaultOrder": 5,
    "_isFastLaunch": false,
    "category": "General purpose",
    "gpuNum": 0,
    "hideHardwareSpecs": false,
    "memoryGiB": 16,
    "name": "ml.m5.xlarge",
    "vcpuNum": 4
   },
   {
    "_defaultOrder": 6,
    "_isFastLaunch": false,
    "category": "General purpose",
    "gpuNum": 0,
    "hideHardwareSpecs": false,
    "memoryGiB": 32,
    "name": "ml.m5.2xlarge",
    "vcpuNum": 8
   },
   {
    "_defaultOrder": 7,
    "_isFastLaunch": false,
    "category": "General purpose",
    "gpuNum": 0,
    "hideHardwareSpecs": false,
    "memoryGiB": 64,
    "name": "ml.m5.4xlarge",
    "vcpuNum": 16
   },
   {
    "_defaultOrder": 8,
    "_isFastLaunch": false,
    "category": "General purpose",
    "gpuNum": 0,
    "hideHardwareSpecs": false,
    "memoryGiB": 128,
    "name": "ml.m5.8xlarge",
    "vcpuNum": 32
   },
   {
    "_defaultOrder": 9,
    "_isFastLaunch": false,
    "category": "General purpose",
    "gpuNum": 0,
    "hideHardwareSpecs": false,
    "memoryGiB": 192,
    "name": "ml.m5.12xlarge",
    "vcpuNum": 48
   },
   {
    "_defaultOrder": 10,
    "_isFastLaunch": false,
    "category": "General purpose",
    "gpuNum": 0,
    "hideHardwareSpecs": false,
    "memoryGiB": 256,
    "name": "ml.m5.16xlarge",
    "vcpuNum": 64
   },
   {
    "_defaultOrder": 11,
    "_isFastLaunch": false,
    "category": "General purpose",
    "gpuNum": 0,
    "hideHardwareSpecs": false,
    "memoryGiB": 384,
    "name": "ml.m5.24xlarge",
    "vcpuNum": 96
   },
   {
    "_defaultOrder": 12,
    "_isFastLaunch": false,
    "category": "General purpose",
    "gpuNum": 0,
    "hideHardwareSpecs": false,
    "memoryGiB": 8,
    "name": "ml.m5d.large",
    "vcpuNum": 2
   },
   {
    "_defaultOrder": 13,
    "_isFastLaunch": false,
    "category": "General purpose",
    "gpuNum": 0,
    "hideHardwareSpecs": false,
    "memoryGiB": 16,
    "name": "ml.m5d.xlarge",
    "vcpuNum": 4
   },
   {
    "_defaultOrder": 14,
    "_isFastLaunch": false,
    "category": "General purpose",
    "gpuNum": 0,
    "hideHardwareSpecs": false,
    "memoryGiB": 32,
    "name": "ml.m5d.2xlarge",
    "vcpuNum": 8
   },
   {
    "_defaultOrder": 15,
    "_isFastLaunch": false,
    "category": "General purpose",
    "gpuNum": 0,
    "hideHardwareSpecs": false,
    "memoryGiB": 64,
    "name": "ml.m5d.4xlarge",
    "vcpuNum": 16
   },
   {
    "_defaultOrder": 16,
    "_isFastLaunch": false,
    "category": "General purpose",
    "gpuNum": 0,
    "hideHardwareSpecs": false,
    "memoryGiB": 128,
    "name": "ml.m5d.8xlarge",
    "vcpuNum": 32
   },
   {
    "_defaultOrder": 17,
    "_isFastLaunch": false,
    "category": "General purpose",
    "gpuNum": 0,
    "hideHardwareSpecs": false,
    "memoryGiB": 192,
    "name": "ml.m5d.12xlarge",
    "vcpuNum": 48
   },
   {
    "_defaultOrder": 18,
    "_isFastLaunch": false,
    "category": "General purpose",
    "gpuNum": 0,
    "hideHardwareSpecs": false,
    "memoryGiB": 256,
    "name": "ml.m5d.16xlarge",
    "vcpuNum": 64
   },
   {
    "_defaultOrder": 19,
    "_isFastLaunch": false,
    "category": "General purpose",
    "gpuNum": 0,
    "hideHardwareSpecs": false,
    "memoryGiB": 384,
    "name": "ml.m5d.24xlarge",
    "vcpuNum": 96
   },
   {
    "_defaultOrder": 20,
    "_isFastLaunch": false,
    "category": "General purpose",
    "gpuNum": 0,
    "hideHardwareSpecs": true,
    "memoryGiB": 0,
    "name": "ml.geospatial.interactive",
    "supportedImageNames": [
     "sagemaker-geospatial-v1-0"
    ],
    "vcpuNum": 0
   },
   {
    "_defaultOrder": 21,
    "_isFastLaunch": true,
    "category": "Compute optimized",
    "gpuNum": 0,
    "hideHardwareSpecs": false,
    "memoryGiB": 4,
    "name": "ml.c5.large",
    "vcpuNum": 2
   },
   {
    "_defaultOrder": 22,
    "_isFastLaunch": false,
    "category": "Compute optimized",
    "gpuNum": 0,
    "hideHardwareSpecs": false,
    "memoryGiB": 8,
    "name": "ml.c5.xlarge",
    "vcpuNum": 4
   },
   {
    "_defaultOrder": 23,
    "_isFastLaunch": false,
    "category": "Compute optimized",
    "gpuNum": 0,
    "hideHardwareSpecs": false,
    "memoryGiB": 16,
    "name": "ml.c5.2xlarge",
    "vcpuNum": 8
   },
   {
    "_defaultOrder": 24,
    "_isFastLaunch": false,
    "category": "Compute optimized",
    "gpuNum": 0,
    "hideHardwareSpecs": false,
    "memoryGiB": 32,
    "name": "ml.c5.4xlarge",
    "vcpuNum": 16
   },
   {
    "_defaultOrder": 25,
    "_isFastLaunch": false,
    "category": "Compute optimized",
    "gpuNum": 0,
    "hideHardwareSpecs": false,
    "memoryGiB": 72,
    "name": "ml.c5.9xlarge",
    "vcpuNum": 36
   },
   {
    "_defaultOrder": 26,
    "_isFastLaunch": false,
    "category": "Compute optimized",
    "gpuNum": 0,
    "hideHardwareSpecs": false,
    "memoryGiB": 96,
    "name": "ml.c5.12xlarge",
    "vcpuNum": 48
   },
   {
    "_defaultOrder": 27,
    "_isFastLaunch": false,
    "category": "Compute optimized",
    "gpuNum": 0,
    "hideHardwareSpecs": false,
    "memoryGiB": 144,
    "name": "ml.c5.18xlarge",
    "vcpuNum": 72
   },
   {
    "_defaultOrder": 28,
    "_isFastLaunch": false,
    "category": "Compute optimized",
    "gpuNum": 0,
    "hideHardwareSpecs": false,
    "memoryGiB": 192,
    "name": "ml.c5.24xlarge",
    "vcpuNum": 96
   },
   {
    "_defaultOrder": 29,
    "_isFastLaunch": true,
    "category": "Accelerated computing",
    "gpuNum": 1,
    "hideHardwareSpecs": false,
    "memoryGiB": 16,
    "name": "ml.g4dn.xlarge",
    "vcpuNum": 4
   },
   {
    "_defaultOrder": 30,
    "_isFastLaunch": false,
    "category": "Accelerated computing",
    "gpuNum": 1,
    "hideHardwareSpecs": false,
    "memoryGiB": 32,
    "name": "ml.g4dn.2xlarge",
    "vcpuNum": 8
   },
   {
    "_defaultOrder": 31,
    "_isFastLaunch": false,
    "category": "Accelerated computing",
    "gpuNum": 1,
    "hideHardwareSpecs": false,
    "memoryGiB": 64,
    "name": "ml.g4dn.4xlarge",
    "vcpuNum": 16
   },
   {
    "_defaultOrder": 32,
    "_isFastLaunch": false,
    "category": "Accelerated computing",
    "gpuNum": 1,
    "hideHardwareSpecs": false,
    "memoryGiB": 128,
    "name": "ml.g4dn.8xlarge",
    "vcpuNum": 32
   },
   {
    "_defaultOrder": 33,
    "_isFastLaunch": false,
    "category": "Accelerated computing",
    "gpuNum": 4,
    "hideHardwareSpecs": false,
    "memoryGiB": 192,
    "name": "ml.g4dn.12xlarge",
    "vcpuNum": 48
   },
   {
    "_defaultOrder": 34,
    "_isFastLaunch": false,
    "category": "Accelerated computing",
    "gpuNum": 1,
    "hideHardwareSpecs": false,
    "memoryGiB": 256,
    "name": "ml.g4dn.16xlarge",
    "vcpuNum": 64
   },
   {
    "_defaultOrder": 35,
    "_isFastLaunch": false,
    "category": "Accelerated computing",
    "gpuNum": 1,
    "hideHardwareSpecs": false,
    "memoryGiB": 61,
    "name": "ml.p3.2xlarge",
    "vcpuNum": 8
   },
   {
    "_defaultOrder": 36,
    "_isFastLaunch": false,
    "category": "Accelerated computing",
    "gpuNum": 4,
    "hideHardwareSpecs": false,
    "memoryGiB": 244,
    "name": "ml.p3.8xlarge",
    "vcpuNum": 32
   },
   {
    "_defaultOrder": 37,
    "_isFastLaunch": false,
    "category": "Accelerated computing",
    "gpuNum": 8,
    "hideHardwareSpecs": false,
    "memoryGiB": 488,
    "name": "ml.p3.16xlarge",
    "vcpuNum": 64
   },
   {
    "_defaultOrder": 38,
    "_isFastLaunch": false,
    "category": "Accelerated computing",
    "gpuNum": 8,
    "hideHardwareSpecs": false,
    "memoryGiB": 768,
    "name": "ml.p3dn.24xlarge",
    "vcpuNum": 96
   },
   {
    "_defaultOrder": 39,
    "_isFastLaunch": false,
    "category": "Memory Optimized",
    "gpuNum": 0,
    "hideHardwareSpecs": false,
    "memoryGiB": 16,
    "name": "ml.r5.large",
    "vcpuNum": 2
   },
   {
    "_defaultOrder": 40,
    "_isFastLaunch": false,
    "category": "Memory Optimized",
    "gpuNum": 0,
    "hideHardwareSpecs": false,
    "memoryGiB": 32,
    "name": "ml.r5.xlarge",
    "vcpuNum": 4
   },
   {
    "_defaultOrder": 41,
    "_isFastLaunch": false,
    "category": "Memory Optimized",
    "gpuNum": 0,
    "hideHardwareSpecs": false,
    "memoryGiB": 64,
    "name": "ml.r5.2xlarge",
    "vcpuNum": 8
   },
   {
    "_defaultOrder": 42,
    "_isFastLaunch": false,
    "category": "Memory Optimized",
    "gpuNum": 0,
    "hideHardwareSpecs": false,
    "memoryGiB": 128,
    "name": "ml.r5.4xlarge",
    "vcpuNum": 16
   },
   {
    "_defaultOrder": 43,
    "_isFastLaunch": false,
    "category": "Memory Optimized",
    "gpuNum": 0,
    "hideHardwareSpecs": false,
    "memoryGiB": 256,
    "name": "ml.r5.8xlarge",
    "vcpuNum": 32
   },
   {
    "_defaultOrder": 44,
    "_isFastLaunch": false,
    "category": "Memory Optimized",
    "gpuNum": 0,
    "hideHardwareSpecs": false,
    "memoryGiB": 384,
    "name": "ml.r5.12xlarge",
    "vcpuNum": 48
   },
   {
    "_defaultOrder": 45,
    "_isFastLaunch": false,
    "category": "Memory Optimized",
    "gpuNum": 0,
    "hideHardwareSpecs": false,
    "memoryGiB": 512,
    "name": "ml.r5.16xlarge",
    "vcpuNum": 64
   },
   {
    "_defaultOrder": 46,
    "_isFastLaunch": false,
    "category": "Memory Optimized",
    "gpuNum": 0,
    "hideHardwareSpecs": false,
    "memoryGiB": 768,
    "name": "ml.r5.24xlarge",
    "vcpuNum": 96
   },
   {
    "_defaultOrder": 47,
    "_isFastLaunch": false,
    "category": "Accelerated computing",
    "gpuNum": 1,
    "hideHardwareSpecs": false,
    "memoryGiB": 16,
    "name": "ml.g5.xlarge",
    "vcpuNum": 4
   },
   {
    "_defaultOrder": 48,
    "_isFastLaunch": false,
    "category": "Accelerated computing",
    "gpuNum": 1,
    "hideHardwareSpecs": false,
    "memoryGiB": 32,
    "name": "ml.g5.2xlarge",
    "vcpuNum": 8
   },
   {
    "_defaultOrder": 49,
    "_isFastLaunch": false,
    "category": "Accelerated computing",
    "gpuNum": 1,
    "hideHardwareSpecs": false,
    "memoryGiB": 64,
    "name": "ml.g5.4xlarge",
    "vcpuNum": 16
   },
   {
    "_defaultOrder": 50,
    "_isFastLaunch": false,
    "category": "Accelerated computing",
    "gpuNum": 1,
    "hideHardwareSpecs": false,
    "memoryGiB": 128,
    "name": "ml.g5.8xlarge",
    "vcpuNum": 32
   },
   {
    "_defaultOrder": 51,
    "_isFastLaunch": false,
    "category": "Accelerated computing",
    "gpuNum": 1,
    "hideHardwareSpecs": false,
    "memoryGiB": 256,
    "name": "ml.g5.16xlarge",
    "vcpuNum": 64
   },
   {
    "_defaultOrder": 52,
    "_isFastLaunch": false,
    "category": "Accelerated computing",
    "gpuNum": 4,
    "hideHardwareSpecs": false,
    "memoryGiB": 192,
    "name": "ml.g5.12xlarge",
    "vcpuNum": 48
   },
   {
    "_defaultOrder": 53,
    "_isFastLaunch": false,
    "category": "Accelerated computing",
    "gpuNum": 4,
    "hideHardwareSpecs": false,
    "memoryGiB": 384,
    "name": "ml.g5.24xlarge",
    "vcpuNum": 96
   },
   {
    "_defaultOrder": 54,
    "_isFastLaunch": false,
    "category": "Accelerated computing",
    "gpuNum": 8,
    "hideHardwareSpecs": false,
    "memoryGiB": 768,
    "name": "ml.g5.48xlarge",
    "vcpuNum": 192
   },
   {
    "_defaultOrder": 55,
    "_isFastLaunch": false,
    "category": "Accelerated computing",
    "gpuNum": 8,
    "hideHardwareSpecs": false,
    "memoryGiB": 1152,
    "name": "ml.p4d.24xlarge",
    "vcpuNum": 96
   },
   {
    "_defaultOrder": 56,
    "_isFastLaunch": false,
    "category": "Accelerated computing",
    "gpuNum": 8,
    "hideHardwareSpecs": false,
    "memoryGiB": 1152,
    "name": "ml.p4de.24xlarge",
    "vcpuNum": 96
   },
   {
    "_defaultOrder": 57,
    "_isFastLaunch": false,
    "category": "Accelerated computing",
    "gpuNum": 0,
    "hideHardwareSpecs": false,
    "memoryGiB": 32,
    "name": "ml.trn1.2xlarge",
    "vcpuNum": 8
   },
   {
    "_defaultOrder": 58,
    "_isFastLaunch": false,
    "category": "Accelerated computing",
    "gpuNum": 0,
    "hideHardwareSpecs": false,
    "memoryGiB": 512,
    "name": "ml.trn1.32xlarge",
    "vcpuNum": 128
   },
   {
    "_defaultOrder": 59,
    "_isFastLaunch": false,
    "category": "Accelerated computing",
    "gpuNum": 0,
    "hideHardwareSpecs": false,
    "memoryGiB": 512,
    "name": "ml.trn1n.32xlarge",
    "vcpuNum": 128
   }
  ],
  "instance_type": "ml.t3.medium",
  "kernelspec": {
   "display_name": "ipykernel_env",
   "language": "python",
   "name": "ipykernel_env"
  },
  "language_info": {
   "codemirror_mode": {
    "name": "ipython",
    "version": 3
   },
   "file_extension": ".py",
   "mimetype": "text/x-python",
   "name": "python",
   "nbconvert_exporter": "python",
   "pygments_lexer": "ipython3",
   "version": "3.13.3"
  }
 },
 "nbformat": 4,
 "nbformat_minor": 5
}
