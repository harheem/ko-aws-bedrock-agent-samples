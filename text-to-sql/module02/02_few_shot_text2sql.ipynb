{
 "cells": [
  {
   "cell_type": "markdown",
   "id": "4901509a-8316-47a3-879b-544a43b37ef3",
   "metadata": {},
   "source": [
    "# Text-to-SQL을 위한 고급 프롬프팅: Few-Shot과 Divide and Prompt\n",
    "자연어 질문을 SQL로 변환하기 위한 고급 프롬프팅 기법의 활용"
   ]
  },
  {
   "cell_type": "markdown",
   "id": "29150ef0",
   "metadata": {},
   "source": [
    "---"
   ]
  },
  {
   "cell_type": "markdown",
   "id": "4c1a6bb4",
   "metadata": {},
   "source": [
    "## 권장 SageMaker 환경\n",
    "SageMaker 이미지: sagemaker-distribution-cpu\n",
    "\n",
    "커널: Python 3\n",
    "\n",
    "인스턴스 타입: ml.m5.large"
   ]
  },
  {
   "cell_type": "markdown",
   "id": "be911213",
   "metadata": {},
   "source": [
    "---"
   ]
  },
  {
   "cell_type": "markdown",
   "id": "ab3b33e6",
   "metadata": {},
   "source": [
    "## 목차\n",
    "\n",
    "1. [종속성 설치](#1단계-종속성-설치)\n",
    "1. [Bedrock과 데이터베이스 설정](#2단계-bedrock-클라이언트와-데이터베이스-연결-설정)\n",
    "1. [데이터베이스 구축](#3단계-데이터베이스-구축)\n",
    "1. [헬퍼 함수 생성](#4단계-헬퍼-함수-생성)\n",
    "1. [Few-Shot 프롬프트 실행](#5단계-few-shot-프롬프트-실행)\n",
    "1. [Divide & Prompt 프롬프트 생성](#6단계-divide--prompt-프롬프트-생성)\n",
    "1. [Divide & Prompt 프롬프트 실행](#7단계-divide--prompt-프롬프트-실행)"
   ]
  },
  {
   "cell_type": "markdown",
   "id": "d312d5c3",
   "metadata": {},
   "source": [
    "---"
   ]
  },
  {
   "cell_type": "markdown",
   "id": "058dceec",
   "metadata": {},
   "source": [
    "## 학습 목표\n",
    "이 노트북은 자연어 질문을 해당 질문에 답하는 SQL 쿼리로 변환하는 두 가지 서로 다른 접근법을 구현하는 데 도움이 되는 코드 스니펫을 제공합니다."
   ]
  },
  {
   "cell_type": "markdown",
   "id": "eaa87a86",
   "metadata": {},
   "source": [
    "---"
   ]
  },
  {
   "cell_type": "markdown",
   "id": "3dd85684",
   "metadata": {},
   "source": [
    "## Text-to-SQL 문제에 대한 접근법\n",
    "\n",
    "이 노트북에서는 두 가지 접근법을 다룹니다:\n",
    "\n",
    "### Few-shot text-to-SQL\n",
    "Few-shot text-to-SQL은 몇 개의 학습 예시만을 사용하여 자연어 질문을 SQL 쿼리로 변환해 데이터베이스를 조회하는 방법입니다.\n",
    "\n",
    "자연어 질문과 동일한 SQL 쿼리가 쌍을 이룬 몇 개의 예시만 제공하면, 모델이 자연어에서 SQL로의 매핑을 학습할 수 있습니다.\n",
    "\n",
    "이 방법은 \"대형 언어 모델의 Few-shot Text-to-SQL 기능 향상\" 논문을 참조하며, 이 논문에서는 인컨텍스트 학습(ICL)이 다양한 자연어 처리 작업에 대한 새로운 접근법으로 떠오르고 있다고 언급합니다. 대형 언어 모델(LLM)이 몇 개의 예시나 작업별 지침으로 보완된 컨텍스트를 기반으로 예측을 수행하는 방식입니다.\n",
    "\n",
    "참고 문헌: https://arxiv.org/abs/2305.12586\n",
    "\n",
    "### Divide-and-Prompt\n",
    "Divide-and-Prompt에서는 먼저 작업을 하위 작업으로 나누고, 각 하위 작업을 연쇄 사고(Chain-of-Thought, CoT) 추론을 통해 접근합니다. 실험 결과 이러한 프롬프트가 LLM이 더 정확한 SQL 문을 생성하도록 도움을 준다는 것을 보여줍니다.\n",
    "\n",
    "참고 문헌: https://arxiv.org/abs/2304.11556\n",
    "\n",
    "![Divide-and-Prompt 예시](./images/DnP.png)\n",
    "\n",
    "\n",
    "### 사용 도구\n",
    "langchain, Amazon Bedrock SDK (Boto3)"
   ]
  },
  {
   "cell_type": "markdown",
   "id": "855a20c2",
   "metadata": {},
   "source": [
    "---"
   ]
  },
  {
   "cell_type": "markdown",
   "id": "26350f6e-2ae8-40c0-86f2-626cc595af71",
   "metadata": {
    "tags": []
   },
   "source": [
    "### 1단계: 종속성 설치\n",
    "\n",
    "여기서는 이 노트북을 실행하는 데 필요한 모든 종속성을 설치합니다. 이 모듈에서 사용하지 않을 라이브러리에 대한 종속성 충돌로 인해 발생할 수 있는 **다음 오류들은 무시하셔도 됩니다**:\n",
    "```\n",
    "ERROR: pip's dependency resolver does not currently take into account all the packages that are installed. This behaviour is the source of the following dependency conflicts.\n",
    "dash 2.14.1 requires dash-core-components==2.0.0, which is not installed.\n",
    "dash 2.14.1 requires dash-html-components==2.0.0, which is not installed.\n",
    "dash 2.14.1 requires dash-table==5.0.0, which is not installed.\n",
    "jupyter-ai 2.5.0 requires faiss-cpu, which is not installed.\n",
    "amazon-sagemaker-jupyter-scheduler 3.0.4 requires pydantic==1.*, but you have pydantic 2.6.0 which is incompatible.\n",
    "gluonts 0.13.7 requires pydantic~=1.7, but you have pydantic 2.6.0 which is incompatible.\n",
    "jupyter-ai 2.5.0 requires pydantic~=1.0, but you have pydantic 2.6.0 which is incompatible.\n",
    "jupyter-ai-magics 2.5.0 requires pydantic~=1.0, but you have pydantic 2.6.0 which is incompatible.\n",
    "jupyter-scheduler 2.3.0 requires pydantic~=1.10, but you have pydantic 2.6.0 which is incompatible.\n",
    "sparkmagic 0.21.0 requires pandas<2.0.0,>=0.17.1, but you have pandas 2.1.2 which is incompatible.\n",
    "tensorflow 2.12.1 requires typing-extensions<4.6.0,>=3.6.6, but you have typing-extensions 4.9.0 which is incompatible.\n",
    "```"
   ]
  },
  {
   "cell_type": "code",
   "execution_count": null,
   "id": "ab234e01-cf6c-4c59-b605-77978be3aa39",
   "metadata": {
    "tags": []
   },
   "outputs": [],
   "source": [
    "!python -m ensurepip --upgrade\n",
    "%pip install -qU boto3\n",
    "%pip install -qU botocore\n",
    "%pip install -qU langchain\n",
    "%pip install -qU sqlalchemy\n",
    "%pip install -qU mysql-connector-python"
   ]
  },
  {
   "cell_type": "markdown",
   "id": "397f0206-1fe9-46a8-a6ff-c1fb3d045578",
   "metadata": {},
   "source": [
    "#### 이제 노트북을 실행하는 데 필요한 모듈들을 가져오겠습니다"
   ]
  },
  {
   "cell_type": "code",
   "execution_count": null,
   "id": "756999dd-ac11-4b3a-8e43-2c4cdc2ad9b2",
   "metadata": {
    "tags": []
   },
   "outputs": [],
   "source": [
    "import json\n",
    "import time\n",
    "import os\n",
    "import sys\n",
    "import random\n",
    "import importlib\n",
    "from functools import partial\n",
    "\n",
    "from langchain import PromptTemplate\n",
    "import boto3\n",
    "import sqlalchemy\n",
    "from sqlalchemy import create_engine\n",
    "import mysql.connector\n",
    "\n",
    "sys.path.append('../')\n",
    "import utilities as u"
   ]
  },
  {
   "cell_type": "code",
   "execution_count": null,
   "id": "299849c9-f480-4906-9dfc-afdb67d36632",
   "metadata": {},
   "outputs": [],
   "source": [
    "model_id: str = \"anthropic.claude-v2\"\n",
    "# model_id: str = \"amazon.titan-tg1-large\"\n",
    "temperature: float = 0.2\n",
    "top_k: int = 200"
   ]
  },
  {
   "cell_type": "code",
   "execution_count": null,
   "id": "7bfb57a3-47d1-4d47-8a71-26ab090fa166",
   "metadata": {},
   "outputs": [],
   "source": [
    "run_bedrock = partial(u.run_bedrock_simple_prompt,\n",
    "                      system_prompts=[],\n",
    "                      model_id=model_id,\n",
    "                      temperature=temperature,\n",
    "                      top_k=top_k)"
   ]
  },
  {
   "cell_type": "markdown",
   "id": "0b12765f-10a8-4aae-9e62-4ee7f4e526cc",
   "metadata": {},
   "source": [
    "### 2단계: Bedrock 클라이언트와 데이터베이스 연결 설정"
   ]
  },
  {
   "cell_type": "code",
   "execution_count": null,
   "id": "5440f638-94f6-4a74-8c88-e68ca88ea27e",
   "metadata": {
    "tags": []
   },
   "outputs": [],
   "source": [
    "bedrock_client = boto3.client(service_name='bedrock-runtime')"
   ]
  },
  {
   "cell_type": "code",
   "execution_count": null,
   "id": "688dea28-35e5-429d-a64e-0cc98bd69639",
   "metadata": {
    "tags": []
   },
   "outputs": [],
   "source": [
    "# Define variables for database connection details\n",
    "DB_HOST, DB_USER, DB_PASSWORD = \\\n",
    "    u.extract_CF_outputs(\"RDSInstanceEndpoint\", \"DbUser\", \"DbPassword\")\n",
    "\n",
    "DB_HOST, DB_USER, DB_PASSWORD"
   ]
  },
  {
   "cell_type": "code",
   "execution_count": null,
   "id": "705ab665-9b2e-4141-b7fb-df3329ac61c2",
   "metadata": {
    "tags": []
   },
   "outputs": [],
   "source": [
    "# Establish the database connection using the variables\n",
    "mydb = mysql.connector.connect(\n",
    "    host=DB_HOST,\n",
    "    user=DB_USER,\n",
    "    password=DB_PASSWORD)\n",
    "mydb"
   ]
  },
  {
   "cell_type": "markdown",
   "id": "d5934167-da56-48c4-905a-51f515d8f680",
   "metadata": {},
   "source": [
    "#### 이 섹션을 사용하여 테스트 데이터베이스에 이미 있는 모든 데이터베이스를 확인합니다."
   ]
  },
  {
   "cell_type": "code",
   "execution_count": null,
   "id": "09ede071-2cdc-4f0c-9042-5acb59909459",
   "metadata": {
    "tags": []
   },
   "outputs": [],
   "source": [
    "mycursor = mydb.cursor()\n",
    "mycursor.execute(\"SHOW DATABASES\")\n",
    "for x in mycursor:\n",
    "  print(x)"
   ]
  },
  {
   "cell_type": "markdown",
   "id": "8b4a8a54-2782-4c4f-8524-6fef2cfa880a",
   "metadata": {},
   "source": [
    "### 3단계: 데이터베이스 구축\n",
    "이제 노트북은 테스트 테이블과 테스트 데이터베이스가 존재한다면 이를 삭제합니다. 그런 다음 테이블 생성을 진행합니다.\n",
    "그 후 프롬프팅 예시에서 사용할 테스트 데이터를 삽입합니다."
   ]
  },
  {
   "cell_type": "code",
   "execution_count": null,
   "id": "d2dafc38-a0e9-412c-aa00-508c8446afdf",
   "metadata": {
    "tags": []
   },
   "outputs": [],
   "source": [
    "mycursor.execute(\"DROP TABLE IF EXISTS LLM_DEMO.TEST_EMPLOYEE_LLM\")"
   ]
  },
  {
   "cell_type": "code",
   "execution_count": null,
   "id": "01b928c6-181c-4bcc-84b6-728aaf261052",
   "metadata": {
    "tags": []
   },
   "outputs": [],
   "source": [
    "mycursor.execute(\"DROP DATABASE IF EXISTS LLM_DEMO\")"
   ]
  },
  {
   "cell_type": "markdown",
   "id": "57fab23f",
   "metadata": {},
   "source": [
    "`LLM_DEMO` 데이터베이스 생성"
   ]
  },
  {
   "cell_type": "code",
   "execution_count": null,
   "id": "c0e78bdc-c26d-4029-907b-8d9768d9e501",
   "metadata": {
    "tags": []
   },
   "outputs": [],
   "source": [
    "mycursor.execute(\"CREATE DATABASE LLM_DEMO\")"
   ]
  },
  {
   "cell_type": "markdown",
   "id": "c61190e0",
   "metadata": {},
   "source": [
    "가상의 직원 정보를 담은 `TEST_EMPLOYEE_LLM` 테이블 생성"
   ]
  },
  {
   "cell_type": "code",
   "execution_count": null,
   "id": "47642512-4489-47b7-ba2d-1ef4956e02f6",
   "metadata": {
    "tags": []
   },
   "outputs": [],
   "source": [
    "mycursor.execute(\"\"\"\n",
    "CREATE TABLE LLM_DEMO.TEST_EMPLOYEE_LLM -- Table name\n",
    "(EMPID INT(10), -- employee id of the employee\n",
    "NAME VARCHAR(20), -- name of the employee\n",
    "SALARY INT(10), -- salary that the employee gets or makes\n",
    "BONUS INT(10),-- bonus that the employee gets or makes\n",
    "CITY VARCHAR(20), -- city where employees work from or belongs to\n",
    "JOINING_DATE TIMESTAMP,-- date of joining for the employee\n",
    "ACTIVE_EMPLOYEE INT(2), -- whether the employee is active(1) or in active(0)\n",
    "DEPARTMENT VARCHAR(20), -- the deparment name where employee works or belongs to\n",
    "TITLE VARCHAR(20) -- the title in office which employees has or holds\n",
    ")\n",
    "\"\"\")"
   ]
  },
  {
   "cell_type": "markdown",
   "id": "c55a902c",
   "metadata": {},
   "source": [
    "테이블에 데이터 삽입"
   ]
  },
  {
   "cell_type": "code",
   "execution_count": null,
   "id": "1bea4d6e-714e-48af-8141-3911f762a336",
   "metadata": {
    "tags": []
   },
   "outputs": [],
   "source": [
    "mycursor.execute(\"\"\"INSERT INTO LLM_DEMO.TEST_EMPLOYEE_LLM (EMPID, NAME, SALARY, BONUS, CITY, JOINING_DATE, ACTIVE_EMPLOYEE, DEPARTMENT, TITLE)\n",
    "VALUES (1, 'Xyon McFluff', 50000, 10000, 'New York', '2020-01-01 10:00:00', 1, 'Engineering', 'Manager');\"\"\")\n",
    "\n",
    "mycursor.execute(\"\"\"INSERT INTO LLM_DEMO.TEST_EMPLOYEE_LLM (EMPID, NAME, SALARY, BONUS, CITY, JOINING_DATE, ACTIVE_EMPLOYEE, DEPARTMENT, TITLE) \n",
    "VALUES (2, 'Twinkle Luna', 60000, 5000, 'Chicago', '2018-05-15 11:30:00', 1, 'Sales', 'Executive');\"\"\")\n",
    "\n",
    "mycursor.execute(\"\"\"INSERT INTO LLM_DEMO.TEST_EMPLOYEE_LLM (EMPID, NAME, SALARY, BONUS, CITY, JOINING_DATE, ACTIVE_EMPLOYEE, DEPARTMENT, TITLE)\n",
    "VALUES (3, 'Zorfendorf', 45000, 2000, 'Miami', '2021-09-01 09:15:00', 1, 'Marketing', 'Associate');\"\"\")\n",
    "\n",
    "mycursor.execute(\"\"\"INSERT INTO LLM_DEMO.TEST_EMPLOYEE_LLM (EMPID, NAME, SALARY, BONUS, CITY, JOINING_DATE, ACTIVE_EMPLOYEE, DEPARTMENT, TITLE)  \n",
    "VALUES (4, 'Gloobinorg', 72000, 8000, 'Seattle', '2017-04-05 14:20:00', 1, 'IT', 'Manager');\"\"\")\n",
    "\n",
    "mycursor.execute(\"\"\"INSERT INTO LLM_DEMO.TEST_EMPLOYEE_LLM (EMPID, NAME, SALARY, BONUS, CITY, JOINING_DATE, ACTIVE_EMPLOYEE, DEPARTMENT, TITLE)\n",
    "VALUES (5, 'Bonkliwop', 65000, 6000, 'Denver', '2020-11-24 08:45:00', 1, 'Sales', 'Associate');\"\"\")\n",
    "\n",
    "mycursor.execute(\"\"\"INSERT INTO LLM_DEMO.TEST_EMPLOYEE_LLM (EMPID, NAME, SALARY, BONUS, CITY, JOINING_DATE, ACTIVE_EMPLOYEE, DEPARTMENT, TITLE)\n",
    "VALUES (6, 'Ploopdewoop', 55000, 4000, 'Philadelphia', '2019-03-11 10:25:00', 1, 'Marketing', 'Executive');\"\"\")\n",
    "\n",
    "mycursor.execute(\"\"\"INSERT INTO LLM_DEMO.TEST_EMPLOYEE_LLM (EMPID, NAME, SALARY, BONUS, CITY, JOINING_DATE, ACTIVE_EMPLOYEE, DEPARTMENT, TITLE)\n",
    "VALUES (7, 'Flooblelobber', 80000, 9000, 'San Francisco', '2016-08-20 12:35:00', 1, 'Engineering', 'Lead');\"\"\")\n",
    "\n",
    "mycursor.execute(\"\"\"INSERT INTO LLM_DEMO.TEST_EMPLOYEE_LLM (EMPID, NAME, SALARY, BONUS, CITY, JOINING_DATE, ACTIVE_EMPLOYEE, DEPARTMENT, TITLE)  \n",
    "VALUES (8, 'Blippitybloop', 57000, 3000, 'Boston', '2018-12-01 15:00:00', 1, 'Finance', 'Analyst');\"\"\")\n",
    "\n",
    "mycursor.execute(\"\"\"INSERT INTO LLM_DEMO.TEST_EMPLOYEE_LLM (EMPID, NAME, SALARY, BONUS, CITY, JOINING_DATE, ACTIVE_EMPLOYEE, DEPARTMENT, TITLE)\n",
    "VALUES (9, 'Snorkeldink', 74000, 7000, 'Atlanta', '2015-10-07 16:15:00', 1, 'IT', 'Lead');\"\"\")\n",
    "\n",
    "mycursor.execute(\"\"\"INSERT INTO LLM_DEMO.TEST_EMPLOYEE_LLM (EMPID, NAME, SALARY, BONUS, CITY, JOINING_DATE, ACTIVE_EMPLOYEE, DEPARTMENT, TITLE)\n",
    "VALUES (10, 'Wuggawugga', 69000, 5000, 'Austin', '2017-06-19 13:45:00', 1, 'Engineering', 'Manager'); \"\"\")\n",
    "\n",
    "mycursor.execute(\"\"\"INSERT INTO LLM_DEMO.TEST_EMPLOYEE_LLM (EMPID, NAME, SALARY, BONUS, CITY, JOINING_DATE, ACTIVE_EMPLOYEE, DEPARTMENT, TITLE)\n",
    "VALUES (11, 'Foofletoot', 62000, 4000, 'San Diego', '2019-02-24 17:30:00', 1, 'Sales', 'Associate');\"\"\")\n",
    "\n",
    "mycursor.execute(\"\"\"INSERT INTO LLM_DEMO.TEST_EMPLOYEE_LLM (EMPID, NAME, SALARY, BONUS, CITY, JOINING_DATE, ACTIVE_EMPLOYEE, DEPARTMENT, TITLE)\n",
    "VALUES (12, 'Bonkbonk', 82000, 8000, 'Silicon Valley', '2014-12-05 09:45:00', 1, 'Engineering', 'Director');\"\"\")\n",
    "\n",
    "mycursor.execute(\"\"\"INSERT INTO LLM_DEMO.TEST_EMPLOYEE_LLM (EMPID, NAME, SALARY, BONUS, CITY, JOINING_DATE, ACTIVE_EMPLOYEE, DEPARTMENT, TITLE)\n",
    "VALUES (13, 'Zippityzoom', 78000, 7500, 'New York', '2016-03-08 11:00:00', 1, 'IT', 'Manager');\"\"\")\n",
    "\n",
    "mycursor.execute(\"\"\"INSERT INTO LLM_DEMO.TEST_EMPLOYEE_LLM (EMPID, NAME, SALARY, BONUS, CITY, JOINING_DATE, ACTIVE_EMPLOYEE, DEPARTMENT, TITLE) \n",
    "VALUES (14, 'Splatchsplatch', 90000, 9500, 'Chicago', '2013-01-26 13:15:00', 1, 'Marketing', 'Director');\"\"\")\n",
    "\n",
    "mycursor.execute(\"\"\"INSERT INTO LLM_DEMO.TEST_EMPLOYEE_LLM (EMPID, NAME, SALARY, BONUS, CITY, JOINING_DATE, ACTIVE_EMPLOYEE, DEPARTMENT, TITLE)  \n",
    "VALUES (15, 'Wuggles', 85000, 8000, 'Seattle', '2018-07-22 15:30:00', 1, 'Finance', 'Manager');\"\"\")\n",
    "\n",
    "mycursor.execute(\"\"\"INSERT INTO LLM_DEMO.TEST_EMPLOYEE_LLM (EMPID, NAME, SALARY, BONUS, CITY, JOINING_DATE, ACTIVE_EMPLOYEE, DEPARTMENT, TITLE)\n",
    "VALUES (16, 'Boingboing', 70000, 6000, 'Miami', '2020-04-11 16:45:00', 1, 'Sales', 'Lead');\"\"\")\n",
    "\n",
    "mycursor.execute(\"\"\"INSERT INTO LLM_DEMO.TEST_EMPLOYEE_LLM (EMPID, NAME, SALARY, BONUS, CITY, JOINING_DATE, ACTIVE_EMPLOYEE, DEPARTMENT, TITLE)\n",
    "VALUES (17, 'Zipzoom', 62000, 5000, 'Denver', '2017-09-18 18:00:00', 1, 'Engineering', 'Associate');\"\"\") \n",
    "\n",
    "mycursor.execute(\"\"\"INSERT INTO LLM_DEMO.TEST_EMPLOYEE_LLM (EMPID, NAME, SALARY, BONUS, CITY, JOINING_DATE, ACTIVE_EMPLOYEE, DEPARTMENT, TITLE)  \n",
    "VALUES (18, 'Wooglewoogle', 58000, 3500, 'Philadelphia', '2019-12-24 08:20:00', 1, 'IT', 'Analyst');\"\"\")\n",
    "\n",
    "mycursor.execute(\"\"\"INSERT INTO LLM_DEMO.TEST_EMPLOYEE_LLM (EMPID, NAME, SALARY, BONUS, CITY, JOINING_DATE, ACTIVE_EMPLOYEE, DEPARTMENT, TITLE)\n",
    "VALUES (19, 'Flipflopglop', 75000, 7200, 'Boston', '2022-02-14 10:35:00', 1, 'Marketing', 'Lead');\"\"\")\n",
    "\n",
    "mycursor.execute(\"\"\"INSERT INTO LLM_DEMO.TEST_EMPLOYEE_LLM (EMPID, NAME, SALARY, BONUS, CITY, JOINING_DATE, ACTIVE_EMPLOYEE, DEPARTMENT, TITLE) \n",
    "VALUES (20, 'Blipblop', 68000, 6500, 'San Francisco', '2021-08-29 11:50:00', 1, 'Finance', 'Executive');\"\"\")\n",
    "\n",
    "\n",
    "mydb.commit()"
   ]
  },
  {
   "cell_type": "markdown",
   "id": "714660a4",
   "metadata": {},
   "source": [
    "데이터베이스 연결이 작동하고 테이블에서 레코드를 검색할 수 있는지 확인합니다."
   ]
  },
  {
   "cell_type": "code",
   "execution_count": null,
   "id": "49656b39-8010-409b-99a7-6afb01018d0c",
   "metadata": {
    "tags": []
   },
   "outputs": [],
   "source": [
    "mycursor.execute(\"SELECT * FROM LLM_DEMO.TEST_EMPLOYEE_LLM\")\n",
    "myresult = mycursor.fetchall()\n",
    "for x in myresult:\n",
    "  print(x)"
   ]
  },
  {
   "cell_type": "markdown",
   "id": "32f1d566",
   "metadata": {},
   "source": [
    "## Few-Shot Text-to-SQL\n",
    "데이터베이스와 테이블에 데이터가 채워진 상태에서, 이제 Few-Shot Text-to-SQL 접근법을 살펴볼 준비가 되었습니다. 먼저 몇 가지 헬퍼 함수를 구축하겠습니다."
   ]
  },
  {
   "cell_type": "markdown",
   "id": "13bf28a8-0d22-4223-989b-243431149e22",
   "metadata": {},
   "source": [
    "### 4단계: 헬퍼 함수 생성\n",
    "`call_database` 함수는 SQL 쿼리를 실행하여 일반적으로 데이터베이스에서 데이터를 검색하고, 추가 처리나 표시를 위해 결과를 문자열로 포맷합니다."
   ]
  },
  {
   "cell_type": "code",
   "execution_count": null,
   "id": "9401ba7a-de43-410d-8015-a38a60f2b6e9",
   "metadata": {
    "tags": []
   },
   "outputs": [],
   "source": [
    "def call_database(llm_generated_response: str) -> str:\n",
    "    \"\"\"\n",
    "    Interact with a database using an SQL query.\n",
    "\n",
    "    Arguments:\n",
    "      llm_generated_response: A string containing an SQL query to execute.\n",
    "    Returns:\n",
    "      A formatted string containing the results of the executed SQL query.\n",
    "    \"\"\"\n",
    "    mycursor = mydb.cursor()\n",
    "    mycursor.execute(llm_generated_response)\n",
    "    myresult = mycursor.fetchall()\n",
    "    output_string = ''\n",
    "    for x in myresult:\n",
    "        output_string = output_string + str(x) + \"\\n\"\n",
    "        print(x)\n",
    "    return output_string"
   ]
  },
  {
   "cell_type": "markdown",
   "id": "6f997f36-a08b-4189-ba98-a410d9063e41",
   "metadata": {},
   "source": [
    "`prepare_final_gen_text` 함수는 프롬프트와 데이터베이스 쿼리 결과를 결합하여 LLM을 사용해 텍스트를 생성합니다."
   ]
  },
  {
   "cell_type": "code",
   "execution_count": null,
   "id": "ebc2df84-25e0-4339-958d-3fc4c400d375",
   "metadata": {
    "tags": []
   },
   "outputs": [],
   "source": [
    "def prepare_final_gen_text(prompt_final: str, output_string: str) -> str:\n",
    "    \"\"\"\n",
    "    Prepare the final generated text by combining a given prompt and\n",
    "    database query results.\n",
    "\n",
    "    Arguments:\n",
    "      prompt_final: A string representing a prompt template for text generation.\n",
    "      output_string: A string containing formatted database query results.\n",
    "    Returns:\n",
    "      The final generated text based on the combined prompt and database query results.\n",
    "    \"\"\"\n",
    "    prompt_template_for_query_response = PromptTemplate.from_template(prompt_final)\n",
    "\n",
    "    prompt_data_for_query_response = prompt_template_for_query_response.format(question=question_asked,answer=output_string)\n",
    "    #print(prompt_data_for_query_response)\n",
    "    final_response_text = run_bedrock(prompt=prompt_data_for_query_response)\n",
    "    return final_response_text"
   ]
  },
  {
   "cell_type": "markdown",
   "id": "c28e4c5a",
   "metadata": {},
   "source": [
    "### 4단계: Few-Shot 프롬프트 생성\n",
    "여기서는 질문과 답변을 고려하고 Claude와 함께 사용하기 위해 올바르게 포맷된 프롬프트 템플릿을 설계합니다."
   ]
  },
  {
   "cell_type": "code",
   "execution_count": null,
   "id": "62c5e5b2-13b1-4f70-9484-56b2ef618cdf",
   "metadata": {
    "tags": []
   },
   "outputs": [],
   "source": [
    "#prompt for the final generated text based on the combined prompt and database query result\n",
    "\n",
    "prompt_final = \"\"\"\n",
    "Human: Based on  the question below\n",
    "\n",
    "{question}\n",
    "\n",
    "the answer was given below. \n",
    "\n",
    "{answer}\n",
    "\n",
    "Provide answer in simple english statement and don't include table or schema names.\n",
    "Assistant: \n",
    "\"\"\""
   ]
  },
  {
   "cell_type": "markdown",
   "id": "c97db613",
   "metadata": {},
   "source": [
    "마지막 프롬프트를 기반으로, 이제 컨텍스트에 Single Shot 예시를 추가하여 응답에 대해 모델이 기대하는 바를 더 잘 힌트를 제공하겠습니다."
   ]
  },
  {
   "cell_type": "code",
   "execution_count": null,
   "id": "2ede97a9-d1af-4eeb-a5f9-f95225a10b34",
   "metadata": {
    "tags": []
   },
   "outputs": [],
   "source": [
    "# prompt for in-context SQL generation based on NLP question\n",
    "\n",
    "prompt = \"\"\"\n",
    "You are a mysql query expert whose output is a valid sql query. \n",
    "\n",
    "Only use the following tables:\n",
    "\n",
    "It has the following schema:\n",
    "<table_schema>\n",
    "CREATE TABLE LLM_DEMO.TEST_EMPLOYEE_LLM -- Table name\n",
    "(EMPID INT(10), -- employee id of the employee\n",
    "NAME VARCHAR(20), -- name of the employee\n",
    "SALARY INT(10), -- salary that the employee gets or makes\n",
    "BONUS INT(10),-- bonus that the employee gets or makes\n",
    "CITY VARCHAR(20), -- city where employees work from or belongs to\n",
    "JOINING_DATE TIMESTAMP,-- date of joining for the employee\n",
    "ACTIVE_EMPLOYEE INT(2), -- whether the employee is active(1) or in active(0)\n",
    "DEPARTMENT VARCHAR(20), -- the deparment name where employee works or belongs to\n",
    "TITLE VARCHAR(20) -- the title in office which employees has or holds\n",
    ")\n",
    "<table_schema>\n",
    "\n",
    "The schema name is LLM_DEMO\n",
    "\n",
    "And here is a sample insert statement or record for your reference : \n",
    "\n",
    "INSERT INTO LLM_DEMO.TEST_EMPLOYEE_LLM (EMPID, NAME, SALARY, BONUS,CITY,JOINING_DATE,ACTIVE_EMPLOYEE,DEPARTMENT,TITLE) VALUES (1, 'Stuart', 25000, 5000, 'Seattle','2023-01-21 00:00:01',1,'Applications','Sr. Developer');\n",
    "\n",
    "Please construct a valid SQL statement to answer the following the question, \n",
    "return only the MySQL query in between <sql></sql> tags.\n",
    "\n",
    "Question: {question}\n",
    "\"\"\""
   ]
  },
  {
   "cell_type": "markdown",
   "id": "5de41022-e8fa-423e-a35b-92537e8dfd21",
   "metadata": {},
   "source": [
    "### 5단계: Few Shot 프롬프트 실행\n",
    "다음 셀들은 자연어로 물어본 다양한 질문들과 LLM이 생성한 SQL을 보여줍니다. 출력은 &lt;sql&gt;&lt;/sql&gt; 태그 사이에 포함됩니다."
   ]
  },
  {
   "cell_type": "code",
   "execution_count": null,
   "id": "8f560399-dcd8-49dc-952c-cbeaaf6490be",
   "metadata": {
    "tags": []
   },
   "outputs": [],
   "source": [
    "question_asked = \"What is the total count of employees who are active in each department?\"\n",
    "prompt_template_for_query_generate = PromptTemplate.from_template(prompt)\n",
    "prompt_data_for_query_generate = prompt_template_for_query_generate.format(\n",
    "                                        question=question_asked)\n",
    "llm_generated_response = run_bedrock(prompt=prompt_data_for_query_generate)\n",
    "print(llm_generated_response)\n",
    "llm_generated_sql = u.extract_tag(llm_generated_response, \"sql\")[0]\n",
    "output_string = call_database(llm_generated_sql)\n",
    "prepare_final_gen_text(prompt_final, output_string)"
   ]
  },
  {
   "cell_type": "code",
   "execution_count": null,
   "id": "6617123b-78ea-4631-9871-30c01c7a888a",
   "metadata": {
    "tags": []
   },
   "outputs": [],
   "source": [
    "question_asked = \"What is the average salary of employees in each department?\"\n",
    "prompt_template_for_query_generate = PromptTemplate.from_template(prompt)\n",
    "prompt_data_for_query_generate = prompt_template_for_query_generate.format(question=question_asked)\n",
    "\n",
    "llm_generated_response = run_bedrock(prompt=prompt_data_for_query_generate)\n",
    "print(llm_generated_response)\n",
    "llm_generated_sql = u.extract_tag(llm_generated_response, \"sql\")[0]\n",
    "output_string = call_database(llm_generated_sql)\n",
    "prepare_final_gen_text(prompt_final, output_string)"
   ]
  },
  {
   "cell_type": "markdown",
   "id": "af0089d0-5adc-426d-be1e-249299c38402",
   "metadata": {},
   "source": [
    "# Divide and Prompt: Text-to-SQL을 위한 연쇄 사고 프롬프팅"
   ]
  },
  {
   "cell_type": "markdown",
   "id": "f32c373d",
   "metadata": {},
   "source": [
    "### 6단계: Divide & Prompt 프롬프트 생성\n",
    "이제 두 번째 접근법인 Divide and Prompt로 넘어가겠습니다. 논문에서 논의된 기법들을 통합하는 프롬프트 템플릿을 생성하는 것부터 시작하겠습니다."
   ]
  },
  {
   "cell_type": "code",
   "execution_count": null,
   "id": "acad277b-b171-4d8b-84b3-f6aae2db3057",
   "metadata": {
    "tags": []
   },
   "outputs": [],
   "source": [
    "# prompt demonstrating Divide and Prompt: Chain of Thought Prompting for Text-to-SQL\n",
    "\n",
    "prompt_check_modify_sql = \"\"\"\n",
    "You are a MySql query expert whose output is a valid SQL query. \n",
    "\n",
    "It has the following schema:\n",
    "<table_schema>\n",
    "CREATE TABLE LLM_DEMO.TEST_EMPLOYEE_LLM -- Table name\n",
    "(EMPID INT(10), -- column employee id of the employee\n",
    "NAME VARCHAR(20), -- name column of the employee\n",
    "SALARY INT(10), -- salary column that the employee gets or makes\n",
    "BONUS INT(10),-- bonus column that the employee gets or makes\n",
    "CITY VARCHAR(20), -- city column where employees work from or belongs to\n",
    "JOINING_DATE TIMESTAMP,-- date column of joining for the employee\n",
    "ACTIVE_EMPLOYEE INT(2), -- whether the employee is active(1) or in active(0) column \n",
    "DEPARTMENT VARCHAR(20), -- the deparment column name where employee works or belongs to\n",
    "TITLE VARCHAR(20) -- the title column in office which employees has or holds\n",
    ")\n",
    "<table_schema>\n",
    "\n",
    "This is the table(columns):\n",
    "LLM_DEMO.TEST_EMPLOYEE_LLM(EMPID,NAME,SALARY,BONUS,CITY,JOINING_DATE,ACTIVE_EMPLOYEE,DEPARTMENT,TITLE)\n",
    "\n",
    "This is the text : {question_asked}\n",
    "\n",
    "This is the reference SQL : {llm_generated_response}\n",
    "The reference SQL may be correct or incorrect\n",
    "If the reference SQL is correct, just say 'it is correct'\n",
    "If the reference SQL is incorrect, modify the reference SQL and output the correct SQL in <sql></sql> tags.\n",
    "\"\"\""
   ]
  },
  {
   "cell_type": "markdown",
   "id": "6982ff0b-0f7c-4e13-863c-16655781aede",
   "metadata": {},
   "source": [
    "### 7단계: Divide & Prompt 프롬프트 실행\n",
    "다음 셀들은 Divide and Prompt: Text-to-SQL을 위한 연쇄 사고 프롬프팅을 보여줍니다. 먼저 few-shot 템플릿을 사용하여 SQL 생성을 위한 첫 번째 시도를 하겠습니다."
   ]
  },
  {
   "cell_type": "code",
   "execution_count": null,
   "id": "e08cd2a7-5839-4026-af7d-acfc5c4f1a26",
   "metadata": {
    "tags": []
   },
   "outputs": [],
   "source": [
    "question_asked = \"Which city has the most employees with a title of Lead?\"\n",
    "\n",
    "prompt_template_for_query_generate = PromptTemplate.from_template(prompt)\n",
    "prompt_data_for_query_generate = \\\n",
    "    prompt_template_for_query_generate.format(question=question_asked)\n",
    "llm_generated_response = run_bedrock(prompt=prompt_data_for_query_generate)\n",
    "print(llm_generated_response)\n",
    "llm_generated_sql = u.extract_tag(llm_generated_response, \"sql\")[0]\n",
    "llm_generated_sql"
   ]
  },
  {
   "cell_type": "markdown",
   "id": "292b4382",
   "metadata": {},
   "source": [
    "이제 Divide and Prompt를 위한 두 번째 프롬프트를 사용하겠습니다. 올바른 답변을 확인할 수 있을 것입니다."
   ]
  },
  {
   "cell_type": "code",
   "execution_count": null,
   "id": "c02f7719",
   "metadata": {},
   "outputs": [],
   "source": [
    "prompt_template_for_query_generate = PromptTemplate.from_template(prompt_check_modify_sql)\n",
    "prompt_data_for_query_generate = \\\n",
    "    prompt_template_for_query_generate.format(question_asked=question_asked,\n",
    "                                              llm_generated_response=llm_generated_sql)\n",
    "llm_generated_response = run_bedrock(prompt=prompt_data_for_query_generate)\n",
    "print(llm_generated_response)"
   ]
  },
  {
   "cell_type": "markdown",
   "id": "06ac4dae",
   "metadata": {},
   "source": [
    "다른 질문으로 처음부터 끝까지 다시 시도해보겠습니다"
   ]
  },
  {
   "cell_type": "code",
   "execution_count": null,
   "id": "50f7b158-f5ab-4626-86ca-bb43fff384be",
   "metadata": {
    "tags": []
   },
   "outputs": [],
   "source": [
    "question_asked = \"What is the range of joining dates for employees in each department?\"\n",
    "\n",
    "prompt_template_for_query_generate = PromptTemplate.from_template(prompt)\n",
    "prompt_data_for_query_generate = \\\n",
    "    prompt_template_for_query_generate.format(question=question_asked)\n",
    "\n",
    "llm_generated_response = run_bedrock(prompt=prompt_data_for_query_generate)\n",
    "print(llm_generated_response)\n",
    "llm_generated_sql = u.extract_tag(llm_generated_response, \"sql\")[0]\n",
    "prompt_template_for_query_generate = PromptTemplate.from_template(prompt_check_modify_sql)\n",
    "prompt_data_for_query_generate = \\\n",
    "    prompt_template_for_query_generate.format(question_asked=question_asked,\n",
    "                                              llm_generated_response=llm_generated_sql)\n",
    "llm_generated_response = run_bedrock(prompt=prompt_data_for_query_generate)\n",
    "llm_generated_response"
   ]
  },
  {
   "cell_type": "markdown",
   "id": "09114676",
   "metadata": {},
   "source": [
    "여기서는 우리가 알고 있는 잘못된 하드코딩된 쿼리로 다른 질문을 시도해보겠습니다."
   ]
  },
  {
   "cell_type": "code",
   "execution_count": null,
   "id": "b7fe4767-1ddf-41bd-a17c-97b10e1b7f02",
   "metadata": {
    "tags": []
   },
   "outputs": [],
   "source": [
    "# deliberate wrong table name and column name\n",
    "question_asked = \"What is the range of joining dates for employees in each department?\"\n",
    "llm_generated_sql = \"\"\"\n",
    "SELECT DEPARTMENT, AGE, MIN(JOINING_DATE) AS Earliest_Join_Date, MAX(JOINING_DATE) AS Latest_Join_Date\n",
    "FROM LLM_DEMO.TEST_EMPLOYEE_LLM_TEST\n",
    "GROUP BY DEPARTMENT\n",
    "\"\"\"\n",
    "prompt_template_for_query_generate = PromptTemplate.from_template(prompt_check_modify_sql)\n",
    "prompt_data_for_query_generate = \\\n",
    "    prompt_template_for_query_generate.format(question_asked=question_asked,\n",
    "                                              llm_generated_response=llm_generated_sql)\n",
    "llm_generated_response = run_bedrock(prompt=prompt_data_for_query_generate)\n",
    "print(llm_generated_response)\n",
    "llm_generated_sql = u.extract_tag(llm_generated_response, \"sql\")[0]\n",
    "llm_generated_sql"
   ]
  },
  {
   "cell_type": "code",
   "execution_count": null,
   "id": "b39ec34e-9e7e-4a8f-a56d-1613f394c1c2",
   "metadata": {},
   "outputs": [],
   "source": []
  }
 ],
 "metadata": {
  "availableInstances": [
   {
    "_defaultOrder": 0,
    "_isFastLaunch": true,
    "category": "General purpose",
    "gpuNum": 0,
    "hideHardwareSpecs": false,
    "memoryGiB": 4,
    "name": "ml.t3.medium",
    "vcpuNum": 2
   },
   {
    "_defaultOrder": 1,
    "_isFastLaunch": false,
    "category": "General purpose",
    "gpuNum": 0,
    "hideHardwareSpecs": false,
    "memoryGiB": 8,
    "name": "ml.t3.large",
    "vcpuNum": 2
   },
   {
    "_defaultOrder": 2,
    "_isFastLaunch": false,
    "category": "General purpose",
    "gpuNum": 0,
    "hideHardwareSpecs": false,
    "memoryGiB": 16,
    "name": "ml.t3.xlarge",
    "vcpuNum": 4
   },
   {
    "_defaultOrder": 3,
    "_isFastLaunch": false,
    "category": "General purpose",
    "gpuNum": 0,
    "hideHardwareSpecs": false,
    "memoryGiB": 32,
    "name": "ml.t3.2xlarge",
    "vcpuNum": 8
   },
   {
    "_defaultOrder": 4,
    "_isFastLaunch": true,
    "category": "General purpose",
    "gpuNum": 0,
    "hideHardwareSpecs": false,
    "memoryGiB": 8,
    "name": "ml.m5.large",
    "vcpuNum": 2
   },
   {
    "_defaultOrder": 5,
    "_isFastLaunch": false,
    "category": "General purpose",
    "gpuNum": 0,
    "hideHardwareSpecs": false,
    "memoryGiB": 16,
    "name": "ml.m5.xlarge",
    "vcpuNum": 4
   },
   {
    "_defaultOrder": 6,
    "_isFastLaunch": false,
    "category": "General purpose",
    "gpuNum": 0,
    "hideHardwareSpecs": false,
    "memoryGiB": 32,
    "name": "ml.m5.2xlarge",
    "vcpuNum": 8
   },
   {
    "_defaultOrder": 7,
    "_isFastLaunch": false,
    "category": "General purpose",
    "gpuNum": 0,
    "hideHardwareSpecs": false,
    "memoryGiB": 64,
    "name": "ml.m5.4xlarge",
    "vcpuNum": 16
   },
   {
    "_defaultOrder": 8,
    "_isFastLaunch": false,
    "category": "General purpose",
    "gpuNum": 0,
    "hideHardwareSpecs": false,
    "memoryGiB": 128,
    "name": "ml.m5.8xlarge",
    "vcpuNum": 32
   },
   {
    "_defaultOrder": 9,
    "_isFastLaunch": false,
    "category": "General purpose",
    "gpuNum": 0,
    "hideHardwareSpecs": false,
    "memoryGiB": 192,
    "name": "ml.m5.12xlarge",
    "vcpuNum": 48
   },
   {
    "_defaultOrder": 10,
    "_isFastLaunch": false,
    "category": "General purpose",
    "gpuNum": 0,
    "hideHardwareSpecs": false,
    "memoryGiB": 256,
    "name": "ml.m5.16xlarge",
    "vcpuNum": 64
   },
   {
    "_defaultOrder": 11,
    "_isFastLaunch": false,
    "category": "General purpose",
    "gpuNum": 0,
    "hideHardwareSpecs": false,
    "memoryGiB": 384,
    "name": "ml.m5.24xlarge",
    "vcpuNum": 96
   },
   {
    "_defaultOrder": 12,
    "_isFastLaunch": false,
    "category": "General purpose",
    "gpuNum": 0,
    "hideHardwareSpecs": false,
    "memoryGiB": 8,
    "name": "ml.m5d.large",
    "vcpuNum": 2
   },
   {
    "_defaultOrder": 13,
    "_isFastLaunch": false,
    "category": "General purpose",
    "gpuNum": 0,
    "hideHardwareSpecs": false,
    "memoryGiB": 16,
    "name": "ml.m5d.xlarge",
    "vcpuNum": 4
   },
   {
    "_defaultOrder": 14,
    "_isFastLaunch": false,
    "category": "General purpose",
    "gpuNum": 0,
    "hideHardwareSpecs": false,
    "memoryGiB": 32,
    "name": "ml.m5d.2xlarge",
    "vcpuNum": 8
   },
   {
    "_defaultOrder": 15,
    "_isFastLaunch": false,
    "category": "General purpose",
    "gpuNum": 0,
    "hideHardwareSpecs": false,
    "memoryGiB": 64,
    "name": "ml.m5d.4xlarge",
    "vcpuNum": 16
   },
   {
    "_defaultOrder": 16,
    "_isFastLaunch": false,
    "category": "General purpose",
    "gpuNum": 0,
    "hideHardwareSpecs": false,
    "memoryGiB": 128,
    "name": "ml.m5d.8xlarge",
    "vcpuNum": 32
   },
   {
    "_defaultOrder": 17,
    "_isFastLaunch": false,
    "category": "General purpose",
    "gpuNum": 0,
    "hideHardwareSpecs": false,
    "memoryGiB": 192,
    "name": "ml.m5d.12xlarge",
    "vcpuNum": 48
   },
   {
    "_defaultOrder": 18,
    "_isFastLaunch": false,
    "category": "General purpose",
    "gpuNum": 0,
    "hideHardwareSpecs": false,
    "memoryGiB": 256,
    "name": "ml.m5d.16xlarge",
    "vcpuNum": 64
   },
   {
    "_defaultOrder": 19,
    "_isFastLaunch": false,
    "category": "General purpose",
    "gpuNum": 0,
    "hideHardwareSpecs": false,
    "memoryGiB": 384,
    "name": "ml.m5d.24xlarge",
    "vcpuNum": 96
   },
   {
    "_defaultOrder": 20,
    "_isFastLaunch": false,
    "category": "General purpose",
    "gpuNum": 0,
    "hideHardwareSpecs": true,
    "memoryGiB": 0,
    "name": "ml.geospatial.interactive",
    "supportedImageNames": [
     "sagemaker-geospatial-v1-0"
    ],
    "vcpuNum": 0
   },
   {
    "_defaultOrder": 21,
    "_isFastLaunch": true,
    "category": "Compute optimized",
    "gpuNum": 0,
    "hideHardwareSpecs": false,
    "memoryGiB": 4,
    "name": "ml.c5.large",
    "vcpuNum": 2
   },
   {
    "_defaultOrder": 22,
    "_isFastLaunch": false,
    "category": "Compute optimized",
    "gpuNum": 0,
    "hideHardwareSpecs": false,
    "memoryGiB": 8,
    "name": "ml.c5.xlarge",
    "vcpuNum": 4
   },
   {
    "_defaultOrder": 23,
    "_isFastLaunch": false,
    "category": "Compute optimized",
    "gpuNum": 0,
    "hideHardwareSpecs": false,
    "memoryGiB": 16,
    "name": "ml.c5.2xlarge",
    "vcpuNum": 8
   },
   {
    "_defaultOrder": 24,
    "_isFastLaunch": false,
    "category": "Compute optimized",
    "gpuNum": 0,
    "hideHardwareSpecs": false,
    "memoryGiB": 32,
    "name": "ml.c5.4xlarge",
    "vcpuNum": 16
   },
   {
    "_defaultOrder": 25,
    "_isFastLaunch": false,
    "category": "Compute optimized",
    "gpuNum": 0,
    "hideHardwareSpecs": false,
    "memoryGiB": 72,
    "name": "ml.c5.9xlarge",
    "vcpuNum": 36
   },
   {
    "_defaultOrder": 26,
    "_isFastLaunch": false,
    "category": "Compute optimized",
    "gpuNum": 0,
    "hideHardwareSpecs": false,
    "memoryGiB": 96,
    "name": "ml.c5.12xlarge",
    "vcpuNum": 48
   },
   {
    "_defaultOrder": 27,
    "_isFastLaunch": false,
    "category": "Compute optimized",
    "gpuNum": 0,
    "hideHardwareSpecs": false,
    "memoryGiB": 144,
    "name": "ml.c5.18xlarge",
    "vcpuNum": 72
   },
   {
    "_defaultOrder": 28,
    "_isFastLaunch": false,
    "category": "Compute optimized",
    "gpuNum": 0,
    "hideHardwareSpecs": false,
    "memoryGiB": 192,
    "name": "ml.c5.24xlarge",
    "vcpuNum": 96
   },
   {
    "_defaultOrder": 29,
    "_isFastLaunch": true,
    "category": "Accelerated computing",
    "gpuNum": 1,
    "hideHardwareSpecs": false,
    "memoryGiB": 16,
    "name": "ml.g4dn.xlarge",
    "vcpuNum": 4
   },
   {
    "_defaultOrder": 30,
    "_isFastLaunch": false,
    "category": "Accelerated computing",
    "gpuNum": 1,
    "hideHardwareSpecs": false,
    "memoryGiB": 32,
    "name": "ml.g4dn.2xlarge",
    "vcpuNum": 8
   },
   {
    "_defaultOrder": 31,
    "_isFastLaunch": false,
    "category": "Accelerated computing",
    "gpuNum": 1,
    "hideHardwareSpecs": false,
    "memoryGiB": 64,
    "name": "ml.g4dn.4xlarge",
    "vcpuNum": 16
   },
   {
    "_defaultOrder": 32,
    "_isFastLaunch": false,
    "category": "Accelerated computing",
    "gpuNum": 1,
    "hideHardwareSpecs": false,
    "memoryGiB": 128,
    "name": "ml.g4dn.8xlarge",
    "vcpuNum": 32
   },
   {
    "_defaultOrder": 33,
    "_isFastLaunch": false,
    "category": "Accelerated computing",
    "gpuNum": 4,
    "hideHardwareSpecs": false,
    "memoryGiB": 192,
    "name": "ml.g4dn.12xlarge",
    "vcpuNum": 48
   },
   {
    "_defaultOrder": 34,
    "_isFastLaunch": false,
    "category": "Accelerated computing",
    "gpuNum": 1,
    "hideHardwareSpecs": false,
    "memoryGiB": 256,
    "name": "ml.g4dn.16xlarge",
    "vcpuNum": 64
   },
   {
    "_defaultOrder": 35,
    "_isFastLaunch": false,
    "category": "Accelerated computing",
    "gpuNum": 1,
    "hideHardwareSpecs": false,
    "memoryGiB": 61,
    "name": "ml.p3.2xlarge",
    "vcpuNum": 8
   },
   {
    "_defaultOrder": 36,
    "_isFastLaunch": false,
    "category": "Accelerated computing",
    "gpuNum": 4,
    "hideHardwareSpecs": false,
    "memoryGiB": 244,
    "name": "ml.p3.8xlarge",
    "vcpuNum": 32
   },
   {
    "_defaultOrder": 37,
    "_isFastLaunch": false,
    "category": "Accelerated computing",
    "gpuNum": 8,
    "hideHardwareSpecs": false,
    "memoryGiB": 488,
    "name": "ml.p3.16xlarge",
    "vcpuNum": 64
   },
   {
    "_defaultOrder": 38,
    "_isFastLaunch": false,
    "category": "Accelerated computing",
    "gpuNum": 8,
    "hideHardwareSpecs": false,
    "memoryGiB": 768,
    "name": "ml.p3dn.24xlarge",
    "vcpuNum": 96
   },
   {
    "_defaultOrder": 39,
    "_isFastLaunch": false,
    "category": "Memory Optimized",
    "gpuNum": 0,
    "hideHardwareSpecs": false,
    "memoryGiB": 16,
    "name": "ml.r5.large",
    "vcpuNum": 2
   },
   {
    "_defaultOrder": 40,
    "_isFastLaunch": false,
    "category": "Memory Optimized",
    "gpuNum": 0,
    "hideHardwareSpecs": false,
    "memoryGiB": 32,
    "name": "ml.r5.xlarge",
    "vcpuNum": 4
   },
   {
    "_defaultOrder": 41,
    "_isFastLaunch": false,
    "category": "Memory Optimized",
    "gpuNum": 0,
    "hideHardwareSpecs": false,
    "memoryGiB": 64,
    "name": "ml.r5.2xlarge",
    "vcpuNum": 8
   },
   {
    "_defaultOrder": 42,
    "_isFastLaunch": false,
    "category": "Memory Optimized",
    "gpuNum": 0,
    "hideHardwareSpecs": false,
    "memoryGiB": 128,
    "name": "ml.r5.4xlarge",
    "vcpuNum": 16
   },
   {
    "_defaultOrder": 43,
    "_isFastLaunch": false,
    "category": "Memory Optimized",
    "gpuNum": 0,
    "hideHardwareSpecs": false,
    "memoryGiB": 256,
    "name": "ml.r5.8xlarge",
    "vcpuNum": 32
   },
   {
    "_defaultOrder": 44,
    "_isFastLaunch": false,
    "category": "Memory Optimized",
    "gpuNum": 0,
    "hideHardwareSpecs": false,
    "memoryGiB": 384,
    "name": "ml.r5.12xlarge",
    "vcpuNum": 48
   },
   {
    "_defaultOrder": 45,
    "_isFastLaunch": false,
    "category": "Memory Optimized",
    "gpuNum": 0,
    "hideHardwareSpecs": false,
    "memoryGiB": 512,
    "name": "ml.r5.16xlarge",
    "vcpuNum": 64
   },
   {
    "_defaultOrder": 46,
    "_isFastLaunch": false,
    "category": "Memory Optimized",
    "gpuNum": 0,
    "hideHardwareSpecs": false,
    "memoryGiB": 768,
    "name": "ml.r5.24xlarge",
    "vcpuNum": 96
   },
   {
    "_defaultOrder": 47,
    "_isFastLaunch": false,
    "category": "Accelerated computing",
    "gpuNum": 1,
    "hideHardwareSpecs": false,
    "memoryGiB": 16,
    "name": "ml.g5.xlarge",
    "vcpuNum": 4
   },
   {
    "_defaultOrder": 48,
    "_isFastLaunch": false,
    "category": "Accelerated computing",
    "gpuNum": 1,
    "hideHardwareSpecs": false,
    "memoryGiB": 32,
    "name": "ml.g5.2xlarge",
    "vcpuNum": 8
   },
   {
    "_defaultOrder": 49,
    "_isFastLaunch": false,
    "category": "Accelerated computing",
    "gpuNum": 1,
    "hideHardwareSpecs": false,
    "memoryGiB": 64,
    "name": "ml.g5.4xlarge",
    "vcpuNum": 16
   },
   {
    "_defaultOrder": 50,
    "_isFastLaunch": false,
    "category": "Accelerated computing",
    "gpuNum": 1,
    "hideHardwareSpecs": false,
    "memoryGiB": 128,
    "name": "ml.g5.8xlarge",
    "vcpuNum": 32
   },
   {
    "_defaultOrder": 51,
    "_isFastLaunch": false,
    "category": "Accelerated computing",
    "gpuNum": 1,
    "hideHardwareSpecs": false,
    "memoryGiB": 256,
    "name": "ml.g5.16xlarge",
    "vcpuNum": 64
   },
   {
    "_defaultOrder": 52,
    "_isFastLaunch": false,
    "category": "Accelerated computing",
    "gpuNum": 4,
    "hideHardwareSpecs": false,
    "memoryGiB": 192,
    "name": "ml.g5.12xlarge",
    "vcpuNum": 48
   },
   {
    "_defaultOrder": 53,
    "_isFastLaunch": false,
    "category": "Accelerated computing",
    "gpuNum": 4,
    "hideHardwareSpecs": false,
    "memoryGiB": 384,
    "name": "ml.g5.24xlarge",
    "vcpuNum": 96
   },
   {
    "_defaultOrder": 54,
    "_isFastLaunch": false,
    "category": "Accelerated computing",
    "gpuNum": 8,
    "hideHardwareSpecs": false,
    "memoryGiB": 768,
    "name": "ml.g5.48xlarge",
    "vcpuNum": 192
   },
   {
    "_defaultOrder": 55,
    "_isFastLaunch": false,
    "category": "Accelerated computing",
    "gpuNum": 8,
    "hideHardwareSpecs": false,
    "memoryGiB": 1152,
    "name": "ml.p4d.24xlarge",
    "vcpuNum": 96
   },
   {
    "_defaultOrder": 56,
    "_isFastLaunch": false,
    "category": "Accelerated computing",
    "gpuNum": 8,
    "hideHardwareSpecs": false,
    "memoryGiB": 1152,
    "name": "ml.p4de.24xlarge",
    "vcpuNum": 96
   }
  ],
  "instance_type": "ml.t3.medium",
  "kernelspec": {
   "display_name": "Python 3 (ipykernel)",
   "language": "python",
   "name": "python3"
  },
  "language_info": {
   "codemirror_mode": {
    "name": "ipython",
    "version": 3
   },
   "file_extension": ".py",
   "mimetype": "text/x-python",
   "name": "python",
   "nbconvert_exporter": "python",
   "pygments_lexer": "ipython3",
   "version": "3.10.14"
  }
 },
 "nbformat": 4,
 "nbformat_minor": 5
}
