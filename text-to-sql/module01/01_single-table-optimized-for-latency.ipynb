{
 "cells": [
  {
   "cell_type": "markdown",
   "id": "0621f124-5629-46b5-a4b9-32d008c43493",
   "metadata": {},
   "source": "## 의학 데이터에서 단일 테이블 Text-to-SQL 최적화하기\n---\n\nhttps://github.com/aws-samples/text-to-sql-bedrock-workshop/blob/main/module_1/01_single-table-optimized-for-latency.ipynb\n\n### 무엇을 배우게 될까요?\n\n이 튜토리얼에서는 **자연어 질문을 SQL 쿼리로 변환하는 Text-to-SQL 시스템**을 구축해보겠습니다. \n\n**Text-to-SQL이란?** \n- 사용자가 \"30세 이상 환자가 몇 명인가요?\"라고 물으면\n- 시스템이 자동으로 `SELECT COUNT(*) FROM patients WHERE age >= 30` 같은 SQL을 생성하는 기술입니다\n\n### 왜 이 방법이 특별한가요?\n\n일반적인 Text-to-SQL 시스템은 여러 번의 AI 모델 호출을 통해:\n1. 데이터베이스 테이블 목록 조회\n2. 각 테이블의 구조(스키마) 파악\n3. SQL 쿼리 생성 및 검증\n4. 최종 쿼리 실행\n\n이 과정을 거치는데, **우리는 단일 테이블만 다루므로** 이런 단계들을 건너뛰어 **응답 속도를 크게 향상**시킬 수 있습니다.\n\n### 사용할 데이터\n\n실습에서는 **당뇨병 환자 데이터**를 사용합니다. 이 데이터는 환자의 나이, BMI, 혈당 수치 등의 정보를 포함하며 `diabetes.csv` 파일로 제공됩니다.\n\n```\n@article{Machado2024,\n    author = \"Angela Machado\",\n    title = \"{diabetes.csv}\",\n    year = \"2024\",\n    month = \"3\",\n    url = \"https://figshare.com/articles/dataset/diabetes_csv/25421347\",\n    doi = \"10.6084/m9.figshare.25421347.v1\"\n}\n```\n\n### 시작하기 전에\n\n- [LangChain](https://www.langchain.com)의 [SQLDatabaseToolkit](https://python.langchain.com/v0.2/docs/integrations/toolkits/sql_database/)을 활용합니다\n- AWS Bedrock의 Claude 모델을 사용합니다\n- 아래 `pip install` 명령 실행 시 경고 메시지가 나타날 수 있으나 무시하셔도 됩니다",
   "outputs": []
  },
  {
   "cell_type": "code",
   "id": "fe41174b-9c71-47ac-b53e-aa0161241dda",
   "metadata": {
    "tags": []
   },
   "outputs": [],
   "source": "# 필요한 라이브러리 설치\n# 경고 메시지가 나타나도 정상이니 걱정하지 마세요!\n%pip install -qU openpyxl langchain boto3\n%pip install -qU langchain-community langchain-aws"
  },
  {
   "cell_type": "code",
   "id": "390a3512-34dd-4488-8e94-efb0ef48b7b3",
   "metadata": {
    "tags": []
   },
   "outputs": [],
   "source": "# 필요한 라이브러리 불러오기\n# 이 셀에서는 Text-to-SQL 시스템 구축에 필요한 모든 도구들을 가져옵니다\nimport os\nimport sys\nfrom typing import List, Tuple\nimport itertools\nfrom time import time\n\nimport jinja2  # 프롬프트 템플릿 생성용\nfrom langchain_community.utilities import SQLDatabase  # SQLite 데이터베이스 연결\nimport sqlite3  # SQLite 데이터베이스 조작\nimport boto3  # AWS 서비스 연결\nimport pandas as pd  # 데이터 처리\nfrom langchain_aws import ChatBedrock  # AWS Bedrock의 Claude 모델 사용\nfrom langchain_community.agent_toolkits.sql.base import create_sql_agent  # SQL 에이전트 생성\nfrom langchain_community.agent_toolkits.sql.toolkit import SQLDatabaseToolkit  # SQL 도구 모음\nfrom langchain.agents.agent_types import AgentType  # 에이전트 타입 지정\nfrom langchain.chains import create_sql_query_chain  # SQL 쿼리 체인 생성\nfrom langchain_core.prompts import PromptTemplate  # 프롬프트 템플릿\nfrom langchain.callbacks.base import BaseCallbackHandler  # 콜백 핸들러\n\nsys.path.append('../')\nimport utilities as u"
  },
  {
   "cell_type": "code",
   "id": "dd87d970-10f2-4e18-a487-21e59dc44a65",
   "metadata": {
    "tags": []
   },
   "outputs": [],
   "source": "# 시스템 설정 및 초기화\n# 여기서 AI 모델, 데이터베이스 연결, 각종 옵션들을 설정합니다\n\n# 사용할 AI 모델 지정 (Claude 3 Sonnet 사용)\nmodel_id = \"anthropic.claude-3-sonnet-20240229-v1:0\"\n# model_id = \"anthropic.claude-3-haiku-20240307-v1:0\"  # 더 빠른 모델을 원할 경우\n\n# SQLite 데이터베이스 연결 (test.db 파일에 저장)\ncon = sqlite3.connect(\"test.db\")\n\n# Jinja2 템플릿 엔진 설정 (프롬프트 생성용)\njenv = jinja2.Environment(trim_blocks=True, lstrip_blocks=True)\n\n# LangChain 추적 설정 (선택사항 - 디버깅용)\n#os.environ[\"LANGCHAIN_TRACING_V2\"] = \"true\"\n#os.environ[\"LANGCHAIN_API_KEY\"] = \"...\"\n\n# AWS 리전 설정\nos.environ[\"AWS_DEFAULT_REGION\"] = \"us-west-2\"\n\n# 시스템 동작 옵션들\nis_conversational = True    # 대화형 모드 활성화 (이전 질문 맥락 고려)\nforce_setup_db = False     # 데이터베이스 강제 재생성 여부\ndo_few_shot_prompting = False  # Few-shot 프롬프팅 사용 여부\nshow_SQL = True            # 생성된 SQL 쿼리 표시 여부\n\n# AI 모델 초기화 (AWS Bedrock의 Claude 사용)\nllm = ChatBedrock(model_id=model_id, region_name=\"us-west-2\")\n\n# 데이터베이스 연결 객체 생성\ndb = SQLDatabase.from_uri(\"sqlite:///test.db\")\ncontext = db.get_context()\n\n# SQL 쿼리 생성 체인 생성\nchain = create_sql_query_chain(llm, db)"
  },
  {
   "cell_type": "markdown",
   "id": "4c2f56ad-56de-4a56-bd70-36b6ca1ae7cf",
   "metadata": {},
   "source": "### 데이터베이스 구성하기\n\n이제 당뇨병 환자 데이터를 데이터베이스에 저장해보겠습니다. 먼저 CSV 파일을 불러와서 어떤 데이터가 있는지 살펴보겠습니다.",
   "outputs": []
  },
  {
   "cell_type": "code",
   "id": "9337b4ba-3ab5-4968-a5a8-7e1050a57c27",
   "metadata": {
    "tags": []
   },
   "outputs": [],
   "source": "# CSV 파일에서 데이터 불러오기\ndf = pd.read_csv(\"diabetes.csv\")\n\n# 데이터의 첫 5행을 보여줍니다 - 어떤 컬럼들이 있는지 확인할 수 있습니다\ndf.head()"
  },
  {
   "cell_type": "markdown",
   "id": "e278403a-6731-48c0-ad70-e84d4f6f1b45",
   "metadata": {},
   "source": "이제 이 데이터를 SQLite 데이터베이스의 'patients' 테이블에 저장합니다:",
   "outputs": []
  },
  {
   "cell_type": "code",
   "id": "fc3d369b-fda3-4399-b07b-284bc2cde2e3",
   "metadata": {
    "tags": []
   },
   "outputs": [],
   "source": "def setup_db():\n    \"\"\"\n    데이터베이스에 환자 데이터를 저장하는 함수\n    DataFrame을 SQLite의 'patients' 테이블로 변환합니다\n    \"\"\"\n    print(\"데이터베이스 설정 중...\")\n    # pandas의 to_sql 메서드로 DataFrame을 SQLite 테이블로 저장\n    # if_exists=\"replace\": 기존 테이블이 있으면 덮어쓰기\n    # index=True: DataFrame의 인덱스도 함께 저장\n    df.to_sql(name=\"patients\", con=con, if_exists=\"replace\", index=True)\n    con.commit()  # 변경사항을 데이터베이스에 확실히 저장"
  },
  {
   "cell_type": "code",
   "execution_count": null,
   "id": "3e801b91-36b5-439d-bc73-3a4a7eaa2c70",
   "metadata": {
    "tags": []
   },
   "outputs": [],
   "source": [
    "def maybe_setup_db():\n",
    "    if force_setup_db:\n",
    "        print(\"Forcing DB setup\")\n",
    "        setup_db()\n",
    "    else:\n",
    "        try:\n",
    "            cur = con.cursor()\n",
    "            cur.execute(\"SELECT count(*) FROM patient\")\n",
    "            print(f\"Table exists ({cur.fetchone()[0]}), no need to recreate DB\")\n",
    "        except Exception as ex:\n",
    "            # print(f\"Caught: {ex}\")\n",
    "            cur.close()\n",
    "            if \"no such table: patient\" in str(ex):\n",
    "                print(f\"Table not there, need to recreate DB\")\n",
    "                setup_db()\n",
    "            else:\n",
    "                raise ex"
   ]
  },
  {
   "cell_type": "code",
   "execution_count": null,
   "id": "8638e1a5-cce4-4f75-9947-965787a45c6d",
   "metadata": {
    "tags": []
   },
   "outputs": [],
   "source": [
    "maybe_setup_db()"
   ]
  },
  {
   "cell_type": "markdown",
   "id": "bdfc11a5-26cf-43da-9a9b-bb858069a845",
   "metadata": {},
   "source": "### 대화형 챗봇을 위한 질문 컨텍스트 처리\n\n**대화형 시스템의 핵심 문제점**\n\n일반적인 대화에서는 이전 질문을 참조하는 후속 질문들이 자주 나옵니다:\n\n**예시:**\n1. 사용자: \"30세 이상 환자가 몇 명인가요?\"\n2. 사용자: \"그 중 BMI가 30 이상인 사람은 몇 명인가요?\"\n\n두 번째 질문의 \"그 중\"은 첫 번째 질문의 \"30세 이상 환자\"를 가리킵니다. 하지만 AI 모델이 두 번째 질문만 보면 \"그 중\"이 무엇을 의미하는지 알 수 없습니다.\n\n**해결 방법**\n\n따라서 우리는 **질문 맥락 해소(Question Decontextualization)**를 수행해야 합니다:\n- \"그 중 BMI가 30 이상인 사람은 몇 명인가요?\"\n- → \"30세 이상이면서 BMI가 30 이상인 환자는 몇 명인가요?\"\n\n이렇게 변환하면 각 질문이 독립적으로 이해될 수 있습니다.",
   "outputs": []
  },
  {
   "cell_type": "code",
   "id": "50e7c8ff-2e06-49b0-85b0-3d9644b6aa92",
   "metadata": {
    "tags": []
   },
   "outputs": [],
   "source": "def decontextualize_question(question: str, messages: List[List[str]]) -> str:\n    \"\"\"\n    대화 맥락을 고려하여 질문을 독립적으로 이해할 수 있도록 다시 작성하는 함수\n    \n    매개변수:\n    - question: 현재 사용자 질문\n    - messages: 이전 대화 기록 [[질문1, 답변1], [질문2, 답변2], ...]\n    \n    반환값:\n    - 맥락이 해소된 독립적인 질문\n    \"\"\"\n    print(f\"질문 맥락 해소 중: {question}\")\n    print(f\"이전 대화 기록: {len(messages)}개\")\n    \n    # AI 모델에게 전달할 프롬프트 템플릿\n    prompt_template = \"\"\"\n질문과 답변의 기록과 새로운 질문을 제공하겠습니다.\n새로운 질문을 이전 대화 맥락 없이도 독립적으로 이해할 수 있도록 다시 작성해주세요.\n\n<이전_대화_기록>\n{% for x in history %}\n  <질문>{{ x[0] }}</질문>\n  <답변>{{ x[1] }}</답변>\n{% endfor %}\n</이전_대화_기록>\n\n새로운 질문:\n<새_질문>\n{{question}}\n</새_질문>\n\n의미를 명확하게 하기 위해 **최소한의 변경**만 하세요. 다른 변경은 하지 마세요.\n\n다시 작성된 독립적인 질문을 <r></r> 태그 안에 반환하세요.\n\"\"\"\n    \n    # Jinja2 템플릿으로 프롬프트 생성\n    prompt = jenv.from_string(prompt_template).render(history=messages, question=question)\n    \n    # AI 모델에게 질문 전송\n    response = llm.invoke(prompt)\n    \n    # 응답에서 <r> 태그 안의 내용 추출\n    answer = u.extract_tag(response.content, \"result\")[0]\n    \n    return answer"
  },
  {
   "cell_type": "markdown",
   "id": "851c491e-1002-4eb3-8994-e96c186a82de",
   "metadata": {},
   "source": "**데이터베이스 스키마 정보 확인하기**\n\nAI가 올바른 SQL을 생성하려면 데이터베이스의 구조를 알아야 합니다. SQLite에서 테이블 구조 정보는 `CREATE TABLE` 문으로 확인할 수 있습니다.",
   "outputs": []
  },
  {
   "cell_type": "code",
   "id": "1802de28-418f-450b-9788-23dd89ab992a",
   "metadata": {
    "tags": []
   },
   "outputs": [],
   "source": "# 데이터베이스 스키마 정보를 가져옵니다\n# sqlite_master 테이블에는 데이터베이스의 모든 테이블/인덱스 정보가 들어있습니다\ncur = con.cursor()\ncur.execute(\"SELECT * FROM sqlite_master\")\n\n# CREATE TABLE 문을 추출합니다 (5번째 컬럼에 저장됨)\nDDL = cur.fetchone()[4]\nprint(\"데이터베이스 테이블 구조:\")\nprint(DDL)"
  },
  {
   "cell_type": "markdown",
   "id": "5c251f06-4540-4f09-b453-8215733cfcc3",
   "metadata": {},
   "source": [
    "LLM 호출 과정을 모니터링하기 위해 `BaseCallbackHandler`를 활용합니다. 이를 통해 생성된 SQL 쿼리와 도구 호출 횟수 등의 정보를 수집할 수 있습니다."
   ]
  },
  {
   "cell_type": "code",
   "execution_count": null,
   "id": "f5d7354d-917d-4673-9c55-61c21572fe9c",
   "metadata": {
    "tags": []
   },
   "outputs": [],
   "source": [
    "class SQLHandler(BaseCallbackHandler):\n",
    "    def __init__(self):\n",
    "        self._sql_result = []\n",
    "        self._num_tool_actions = 0\n",
    "\n",
    "    def on_agent_action(self, action, **kwargs):\n",
    "        \"\"\"Runs on agent action. if the tool being used is sql_db_query,\n",
    "         it means we're submitting the sql and we can \n",
    "         record it as the final sql\n",
    "        \"\"\"\n",
    "        self._num_tool_actions += 1\n",
    "        if action.tool in [\"sql_db_query_checker\", \"sql_db_query\"]:\n",
    "            self._sql_result.append(action.tool_input)\n",
    "\n",
    "    def sql_results(self) -> List[str]:\n",
    "        return self._sql_result\n",
    "\n",
    "    def num_tool_actions(self) -> int:\n",
    "        return self._num_tool_actions"
   ]
  },
  {
   "cell_type": "markdown",
   "id": "53376a82-4bfb-40aa-a4b8-b7c3c08c0795",
   "metadata": {},
   "source": [
    "SQL 생성 정확도 향상을 위해 스키마 관련 힌트나 주석을 추가할 수 있습니다. 현재 스키마가 단순하여 별도 주석을 추가하지 않았지만, 필요에 따라 여기에 추가할 수 있습니다."
   ]
  },
  {
   "cell_type": "code",
   "execution_count": null,
   "id": "c5ce4db1-3c19-4d78-871a-dcac27e302c5",
   "metadata": {
    "tags": []
   },
   "outputs": [],
   "source": [
    "notes: List[str] = []"
   ]
  },
  {
   "cell_type": "markdown",
   "id": "2751163c-54e6-436c-8012-0dd3bc252f57",
   "metadata": {},
   "source": [
    "다음은 [ReAct](https://arxiv.org/pdf/2210.03629) 워크플로우를 제어하는 핵심 프롬프트입니다. 기본적으로 에이전트는 sql_db_schema와 sql_db_list_tables 도구를 사용하여 데이터베이스 메타데이터를 조회하는데, 이는 추가적인 LLM 호출을 발생시켜 응답 시간을 늘립니다. 여기서는 테이블명과 `CREATE TABLE` 문을 직접 제공하고, 해당 도구들을 사용하지 않도록 지시하여 응답 속도를 최적화합니다."
   ]
  },
  {
   "cell_type": "code",
   "execution_count": null,
   "id": "b24b8f44-9f92-447a-bb4d-27e3b337f1fe",
   "metadata": {
    "tags": []
   },
   "outputs": [],
   "source": [
    "prompt_template = '''\n",
    "Answer the following questions as best you can.\n",
    "\n",
    "You have access to the following tools:\n",
    "\n",
    "{tools}\n",
    "\n",
    "Use the following format:\n",
    "\n",
    "Question: the input question you must answer\n",
    "Thought: you should always think about what to do\n",
    "Action: the action to take, should be one of [{tool_names}]\n",
    "Action Input: the input to the action\n",
    "Observation: the result of the action\n",
    "... (this Thought/Action/Action Input/Observation can repeat N times)\n",
    "Thought: I now know the final answer\n",
    "Final Answer: the final answer to the original input question\n",
    "\n",
    "You might find the following tips useful:\n",
    "{% for tip in tips %}\n",
    "  - {{ tip }}\n",
    "{% endfor %}\n",
    "\n",
    "The database has the following single table:\n",
    "\n",
    "{{ table_info }}\n",
    "\n",
    "You should NEVER have to use either the sql_db_schema tool or the sql_db_list_tables tool\n",
    "as you know the only table is the \"patients\" table and you know its schema.\n",
    "\n",
    "You NEVER can product SELECT statement with no LIMIT clause. You should always have an ORDER BY\n",
    "clause and a \"LIMIT 20\" to avoid returning too many useless results.\n",
    "\n",
    "When describing the final result you don't have to describe HOW the SQL statement worked,\n",
    "just describe the results.\n",
    "\n",
    "Begin!\n",
    "\n",
    "Question: {input}\n",
    "Thought: {agent_scratchpad}'''"
   ]
  },
  {
   "cell_type": "code",
   "execution_count": null,
   "id": "0d84a534-7f6b-4fd4-9237-02144728da1f",
   "metadata": {
    "tags": []
   },
   "outputs": [],
   "source": [
    "def create_prompt(notes, DDL, question: str):\n",
    "    prompt_0 = jenv.from_string(prompt_template).render(tips=notes,\n",
    "                                                        table_info=DDL)\n",
    "    prompt = PromptTemplate.from_template(prompt_0)\n",
    "    return prompt"
   ]
  },
  {
   "cell_type": "markdown",
   "id": "8ff6edfa-5020-4f9d-a827-08cf89a1a22f",
   "metadata": {},
   "source": [
    "## 질문 처리 시스템\n",
    "\n",
    "챗봇 구동을 위한 핵심 함수들을 구현합니다.\n",
    "- `answer_standalone_question`(단일 질문 처리)\n",
    "- `answer_multiple_questions`(연속 질문 처리) \n",
    "\n",
    "현재는 기본적인 형태이지만, [gradio의 ChatBot](https://www.gradio.app/docs/gradio/chatbot) 등의 프레임워크와 연동하여 더 완성도 높은 사용자 인터페이스를 구현할 수 있습니다."
   ]
  },
  {
   "cell_type": "code",
   "execution_count": null,
   "id": "1b00b89e-247f-4920-904b-1ef2a912e475",
   "metadata": {
    "tags": []
   },
   "outputs": [],
   "source": [
    "def answer_standalone_question(question: str,\n",
    "                               messages: List[List[str]]) -> str:\n",
    "    start_time: float = time()\n",
    "    if is_conversational and messages:\n",
    "        question = decontextualize_question(question, messages)\n",
    "    handler = SQLHandler()\n",
    "    try:\n",
    "        agent_executor = create_sql_agent(\n",
    "            llm=llm,\n",
    "            toolkit=SQLDatabaseToolkit(db=db, llm=llm),\n",
    "            verbose=True,\n",
    "            prompt=create_prompt(notes, DDL, question),\n",
    "            agent_type=AgentType.ZERO_SHOT_REACT_DESCRIPTION,\n",
    "            callbacks=[handler],\n",
    "            handle_parsing_errors=True)\n",
    "        for iteration in itertools.count(0):\n",
    "            try:\n",
    "                answer = agent_executor.invoke(input={\"input\": question},\n",
    "                                               config={\"callbacks\": [handler]})\n",
    "                duration = time() - start_time\n",
    "                iter_str = f\", {iteration} iterations\" if iteration > 1 else \"\"\n",
    "                history_str = f\", history {len(messages):,}\" if len(messages) > 0 else \"\"\n",
    "                sql_result = handler.sql_results()[-1].strip() if len(handler.sql_results()) > 0\\\n",
    "                             else None\n",
    "                print(f\"sql_result: {sql_result}\")\n",
    "                SQL_str = f\"\\n ```{sql_result}```\" if show_SQL and sql_result else \"\"\n",
    "                return answer['output'],\\\n",
    "                       f\"{duration:.1f} secs, {handler.num_tool_actions():,} actions{iter_str}{history_str} {SQL_str}\"\n",
    "            except ValueError as ex:\n",
    "                if iteration < 10:\n",
    "                    print(f\"iteration #{iteration}: caught {ex}\")\n",
    "                    print(\"retrying\")\n",
    "                else:\n",
    "                    raise ex\n",
    "    except Exception as ex:\n",
    "        print(f\"Caught: {ex}\")\n",
    "        raise ex"
   ]
  },
  {
   "cell_type": "code",
   "execution_count": null,
   "id": "71014cc5-480f-440b-9045-ab562aeaec15",
   "metadata": {
    "tags": []
   },
   "outputs": [],
   "source": [
    "def answer_multiple_questions(questions: List[str]) -> List[Tuple[str, str]]:\n",
    "    messages: List[Tuple[str, str]] = []\n",
    "    answers: List[str] = []\n",
    "    for question in questions:\n",
    "        answer, extra_info = answer_standalone_question(question, messages)\n",
    "        answers.append(answer)\n",
    "        messages.append([question, answer])\n",
    "    return list(zip(questions, answers))"
   ]
  },
  {
   "cell_type": "markdown",
   "id": "022ff83b",
   "metadata": {},
   "source": [
    "다음 코드 실행 시 아래와 같은 오류가 발생하면:\n",
    "\n",
    "![model access error](content/model-access-error.png)\n",
    "\n",
    "AWS Bedrock 콘솔에서 해당 모델에 대한 액세스 권한을 요청해야 합니다."
   ]
  },
  {
   "cell_type": "code",
   "execution_count": null,
   "id": "25bce403-9166-4104-affa-82fca1ea3202",
   "metadata": {
    "tags": []
   },
   "outputs": [],
   "source": [
    "answer_standalone_question(\"How many patients have a BMI over 20 and are older than 30?\",\n",
    "                           [])"
   ]
  },
  {
   "cell_type": "code",
   "execution_count": null,
   "id": "5a7ad365-853e-4636-9584-4e6592f7eee7",
   "metadata": {},
   "outputs": [],
   "source": [
    "answer_multiple_questions(\n",
    "    [\"How many patients have a BMI over 20 and are older than 30?\",\n",
    "     \"How many are over 50?\"])"
   ]
  }
 ],
 "metadata": {
  "kernelspec": {
   "display_name": "Python 3 (ipykernel)",
   "language": "python",
   "name": "python3"
  },
  "language_info": {
   "codemirror_mode": {
    "name": "ipython",
    "version": 3
   },
   "file_extension": ".py",
   "mimetype": "text/x-python",
   "name": "python",
   "nbconvert_exporter": "python",
   "pygments_lexer": "ipython3",
   "version": "3.10.14"
  }
 },
 "nbformat": 4,
 "nbformat_minor": 5
}