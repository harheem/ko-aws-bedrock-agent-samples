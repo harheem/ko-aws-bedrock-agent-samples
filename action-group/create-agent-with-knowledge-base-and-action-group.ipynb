{
 "cells": [
  {
   "cell_type": "markdown",
   "id": "a0bb5c39-2fde-4336-8127-8debe7cb2741",
   "metadata": {
    "pycharm": {
     "name": "#%% md\n"
    }
   },
   "source": [
    "# Bedrock 지식 베이스와 액션 그룹이 통합된 에이전트 만들기\n",
    "\n",
    "이 노트북에서는 Amazon Bedrock의 지식 베이스(Knowledge Bases)를 활용하여 레스토랑 메뉴 정보를 검색하는 Amazon Bedrock 에이전트를 만드는 방법을 배우게 됩니다. \n",
    "\n",
    "**실습 시나리오:** 레스토랑 AI 도우미 만들기\n",
    "- 성인 메뉴와 어린이 메뉴에 대한 정보 제공\n",
    "- 테이블 예약 시스템 관리 (예약 생성, 삭제, 조회)\n",
    "\n",
    "<img src=\"./images/architecture.png\" style=\"width:70%;display:block;margin: 0 auto;\">\n",
    "<br/>\n",
    "\n",
    "**실습 진행 단계:**\n",
    "\n",
    "1. 필요한 라이브러리 가져오기\n",
    "2. Amazon Bedrock용 지식 베이스 생성\n",
    "3. 데이터셋을 Amazon S3에 업로드\n",
    "4. Amazon Bedrock 에이전트 생성\n",
    "5. 에이전트 테스트\n",
    "6. 생성된 리소스 정리"
   ]
  },
  {
   "cell_type": "markdown",
   "id": "076a5aba-9735-4e98-8a53-0daccd7e94b0",
   "metadata": {
    "pycharm": {
     "name": "#%% md\n"
    }
   },
   "source": [
    "## 1. 필요한 라이브러리 가져오기"
   ]
  },
  {
   "cell_type": "markdown",
   "id": "4fa67d7a",
   "metadata": {
    "pycharm": {
     "name": "#%% md\n"
    }
   },
   "source": [
    "먼저 필요한 패키지들을 설치합니다."
   ]
  },
  {
   "cell_type": "code",
   "execution_count": null,
   "id": "ac05c073-d45b-4d85-9bf8-ae10aa78be8d",
   "metadata": {
    "pycharm": {
     "name": "#%%\n"
    },
    "tags": []
   },
   "outputs": [],
   "source": [
    "!pip install --upgrade -q -r requirements.txt"
   ]
  },
  {
   "cell_type": "code",
   "execution_count": null,
   "id": "e8ad6ec2-b283-4c5d-879f-e397e46568c0",
   "metadata": {
    "pycharm": {
     "name": "#%%\n"
    },
    "tags": []
   },
   "outputs": [],
   "source": [
    "import os\n",
    "import time\n",
    "import boto3\n",
    "import logging\n",
    "import pprint\n",
    "import json\n",
    "\n",
    "# 사용자 정의 모듈들 (이미 준비된 헬퍼 클래스들)\n",
    "from knowledge_base import BedrockKnowledgeBase  # 지식 베이스 관리용\n",
    "from agent import create_agent_role_and_policies, create_lambda_role, delete_agent_roles_and_policies  # 에이전트 및 권한 관리용\n",
    "from agent import create_dynamodb, create_lambda, clean_up_resources  # 리소스 생성 및 정리용"
   ]
  },
  {
   "cell_type": "code",
   "id": "d2b2d607-c1f2-4cbb-9f89-d935676e0101",
   "metadata": {
    "pycharm": {
     "name": "#%%\n"
    },
    "tags": []
   },
   "outputs": [],
   "source": "# AWS 클라이언트 설정\n# 각 AWS 서비스에 접근하기 위한 클라이언트들을 초기화합니다\ns3_client = boto3.client('s3')  # S3 파일 저장소 클라이언트\nsts_client = boto3.client('sts')  # AWS 계정 정보 확인용 클라이언트\nsession = boto3.session.Session()\nregion = session.region_name  # 현재 AWS 리전\naccount_id = sts_client.get_caller_identity()[\"Account\"]  # AWS 계정 ID\nbedrock_agent_client = boto3.client('bedrock-agent')  # Bedrock 에이전트 관리 클라이언트\nbedrock_agent_runtime_client = boto3.client('bedrock-agent-runtime')  # 에이전트 실행용 클라이언트\n\n# 로그 설정\nlogging.basicConfig(format='[%(asctime)s] p%(process)s {%(filename)s:%(lineno)d} %(levelname)s - %(message)s', level=logging.INFO)\nlogger = logging.getLogger(__name__)\n\nprint(f\"현재 리전: {region}\")\nprint(f\"AWS 계정 ID: {account_id}\")\nregion, account_id"
  },
  {
   "cell_type": "code",
   "id": "d647d2a3",
   "metadata": {
    "pycharm": {
     "name": "#%%\n"
    },
    "tags": []
   },
   "outputs": [],
   "source": "# 설정 변수들 정의\n# 이 변수들은 실습에서 생성할 리소스들의 이름을 정의합니다\nsuffix = f\"{region}-{account_id}\"  # 리소스 이름을 고유하게 만들기 위한 접미사\nagent_name = 'booking-agent'  # 에이전트 이름\nknowledge_base_name = f'{agent_name}-kb'  # 지식 베이스 이름\nknowledge_base_description = \"레스토랑 메뉴 정보를 담고 있는 지식 베이스\"  # 지식 베이스 설명\nagent_alias_name = \"booking-agent-alias\"  # 에이전트 별칭\nbucket_name = f'{agent_name}-{suffix}'  # S3 버킷 이름\nagent_bedrock_allow_policy_name = f\"{agent_name}-ba\"\nagent_role_name = f'AmazonBedrockExecutionRoleForAgents_{agent_name}'  # IAM 역할 이름\nagent_description = \"레스토랑 테이블 예약을 담당하는 에이전트\"  # 에이전트 설명\n\n# 에이전트에게 제공할 지시사항\nagent_instruction = \"\"\"\n당신은 레스토랑 예약 도우미 에이전트입니다. 고객의 예약 정보 조회, \n새로운 예약 생성, 기존 예약 삭제를 도와주는 역할을 합니다.\n\"\"\"\n\n# 액션 그룹 설명 (에이전트가 수행할 수 있는 작업들)\nagent_action_group_description = \"\"\"\n테이블 예약 정보 조회, 새 예약 생성, 기존 예약 삭제를 위한 액션들\"\"\"\n\nagent_action_group_name = \"TableBookingsActionGroup\"  # 액션 그룹 이름\n\nprint(f\"에이전트 이름: {agent_name}\")\nprint(f\"지식 베이스 이름: {knowledge_base_name}\")\nprint(f\"S3 버킷 이름: {bucket_name}\")"
  },
  {
   "cell_type": "markdown",
   "id": "c6e1d05e",
   "metadata": {},
   "source": [
    "**사용할 AI 모델 선택**\n",
    "\n",
    "에이전트가 사용할 기본 AI 모델을 지정합니다. 아래 모델 중 하나를 선택할 수 있습니다:\n",
    "- **Amazon Nova Pro**: us.amazon.nova-pro-v1:0 (Amazon의 최신 언어 모델)\n",
    "- **Anthropic Claude 3.5 Sonnet v2**: us.anthropic.claude-3-sonnet-20240229-v1:0 (강력한 추론 능력)"
   ]
  },
  {
   "cell_type": "code",
   "id": "9d0971c2",
   "metadata": {},
   "outputs": [],
   "source": "# 사용할 모델 선택 (필요에 따라 주석을 바꿔서 다른 모델 사용 가능)\n# inference_profile = \"us.anthropic.claude-3-sonnet-20240229-v1:0\"  # Claude 모델\ninference_profile = \"us.amazon.nova-pro-v1:0\"  # Nova Pro 모델 (기본 선택)\nfoundation_model = inference_profile[3:]  # 모델 ID에서 앞의 'us.' 제거\n\nprint(f\"선택된 모델: {foundation_model}\")"
  },
  {
   "cell_type": "markdown",
   "id": "38c38fcb-9b87-414e-a644-04c263eea5c9",
   "metadata": {
    "pycharm": {
     "name": "#%% md\n"
    }
   },
   "source": "## 2. Amazon Bedrock용 지식 베이스 생성하기\n\n**지식 베이스란?**\n[Amazon Bedrock 지식 베이스](https://aws.amazon.com/bedrock/knowledge-bases/)는 레스토랑 메뉴 정보를 저장하고 검색할 수 있는 AI 검색 시스템입니다.\n\n**지원하는 벡터 데이터베이스:**\n- [Amazon OpenSearch Serverless](https://aws.amazon.com/opensearch-service/features/serverless/) (이번 실습에서 사용)\n- [Amazon Aurora](https://aws.amazon.com/rds/aurora/)\n- [Pinecone](http://app.pinecone.io/bedrock-integration)\n\n**`BedrockKnowledgeBase` 헬퍼 클래스가 자동으로 생성하는 것들:**\n1. **IAM 역할 및 정책** - 권한 관리\n2. **S3 버킷** - 데이터 저장소\n3. **OpenSearch Serverless 정책들** - 암호화, 네트워크, 데이터 접근 권한\n4. **OpenSearch Serverless 컬렉션** - 검색 엔진\n5. **벡터 인덱스** - 의미 검색을 위한 색인\n6. **지식 베이스 본체**\n7. **데이터 소스 연결**",
   "outputs": []
  },
  {
   "cell_type": "code",
   "id": "2c39c2d9-7965-4c22-a74b-65d1961c4166",
   "metadata": {
    "pycharm": {
     "name": "#%%\n"
    },
    "tags": []
   },
   "outputs": [],
   "source": "# 지식 베이스 생성\n# 이 과정은 몇 분 정도 소요될 수 있습니다\nprint(\"지식 베이스를 생성하고 있습니다... 잠시만 기다려주세요.\")\n\nknowledge_base = BedrockKnowledgeBase(\n    kb_name=knowledge_base_name,  # 지식 베이스 이름\n    kb_description=knowledge_base_description,  # 지식 베이스 설명\n    data_bucket_name=bucket_name  # 데이터가 저장될 S3 버킷 이름\n)\n\nprint(\"지식 베이스 생성이 완료되었습니다!\")"
  },
  {
   "cell_type": "markdown",
   "id": "c6b5819d-93a9-44d3-8eaa-5ed1da6a8c95",
   "metadata": {
    "pycharm": {
     "name": "#%% md\n"
    }
   },
   "source": "## 3. 데이터셋을 Amazon S3에 업로드하기\n\n**데이터 업로드 과정**\n이제 지식 베이스에 레스토랑 메뉴 정보를 넣어보겠습니다. 지식 베이스는 S3 버킷에 저장된 데이터를 읽어와서 검색 가능한 형태로 변환합니다. \n\n**동기화 과정:**\n1. `dataset` 폴더의 메뉴 파일들을 S3에 업로드\n2. `StartIngestionJob` API를 사용해서 지식 베이스와 동기화",
   "outputs": []
  },
  {
   "cell_type": "code",
   "id": "ceecf498-e42e-4fdd-ad2e-e646a4ef4adb",
   "metadata": {
    "pycharm": {
     "name": "#%%\n"
    },
    "tags": []
   },
   "outputs": [],
   "source": "def upload_directory(path, bucket_name):\n    \"\"\"디렉토리의 모든 파일을 S3 버킷에 업로드하는 함수\"\"\"\n    print(f\"{path} 폴더의 파일들을 {bucket_name} 버킷에 업로드 중...\")\n    for root, dirs, files in os.walk(path):\n        for file in files:\n            file_to_upload = os.path.join(root, file)\n            print(f\"  {file_to_upload} 업로드 중...\")\n            s3_client.upload_file(file_to_upload, bucket_name, file)\n    print(\"모든 파일 업로드 완료!\")\n\n# dataset 폴더의 모든 파일을 S3에 업로드\nupload_directory(\"dataset\", bucket_name)"
  },
  {
   "cell_type": "markdown",
   "id": "48e46273-0267-4ecb-a686-2b1694b5a604",
   "metadata": {
    "pycharm": {
     "name": "#%% md\n"
    }
   },
   "source": "**이제 지식 베이스 동기화 작업을 시작합니다**\n\n업로드된 파일들을 지식 베이스가 읽고 검색 가능한 형태로 변환하는 과정입니다.",
   "outputs": []
  },
  {
   "cell_type": "code",
   "id": "1bb7a9bc-5bba-4066-8fa3-a4c5a1385e95",
   "metadata": {
    "pycharm": {
     "name": "#%%\n"
    },
    "tags": []
   },
   "outputs": [],
   "source": "# 지식 베이스가 완전히 준비될 때까지 잠시 대기\nprint(\"지식 베이스 준비 중... (30초 대기)\")\ntime.sleep(30)\n\n# 지식 베이스 동기화 시작\nprint(\"지식 베이스 동기화 작업을 시작합니다...\")\nknowledge_base.start_ingestion_job()\nprint(\"동기화 작업이 완료되었습니다!\")"
  },
  {
   "cell_type": "markdown",
   "id": "9c85cbee-9359-4927-ae16-fa7af42cf981",
   "metadata": {
    "pycharm": {
     "name": "#%% md\n"
    }
   },
   "source": "**지식 베이스 ID 가져오기**\n\n나중에 에이전트와 연결할 때 사용할 지식 베이스 ID를 저장합니다.",
   "outputs": []
  },
  {
   "cell_type": "code",
   "id": "f71287af-0b7f-44d7-99ed-fa292ede4001",
   "metadata": {
    "pycharm": {
     "name": "#%%\n"
    },
    "tags": []
   },
   "outputs": [],
   "source": "kb_id = knowledge_base.get_knowledge_base_id()\nprint(f\"지식 베이스 ID: {kb_id}\")"
  },
  {
   "cell_type": "markdown",
   "id": "315e0df7-4008-4fb4-b28d-a4df6ff446f6",
   "metadata": {
    "pycharm": {
     "name": "#%% md\n"
    }
   },
   "source": "### 3.1 지식 베이스 테스트해보기\n\n**지식 베이스 동작 확인**\n이제 지식 베이스가 제대로 작동하는지 테스트해보겠습니다. Amazon Bedrock은 두 가지 방법을 제공합니다:\n\n1. **[retrieve](https://boto3.amazonaws.com/v1/documentation/api/latest/reference/services/bedrock-agent-runtime/client/retrieve.html)** - 관련 정보만 검색\n2. **[retrieve_and_generate](https://boto3.amazonaws.com/v1/documentation/api/latest/reference/services/bedrock-agent-runtime/client/retrieve_and_generate.html)** - 검색 + AI 답변 생성\n\n#### 방법 1: Retrieve and Generate API로 테스트\n\n이 방법은 지식 베이스에서 관련 정보를 찾고, AI 모델이 자동으로 최종 답변을 생성해줍니다.",
   "outputs": []
  },
  {
   "cell_type": "code",
   "id": "f199e822-6e06-4bac-9dbf-40ff0be98598",
   "metadata": {
    "pycharm": {
     "name": "#%%\n"
    },
    "tags": []
   },
   "outputs": [],
   "source": "# 지식 베이스에 질문하기 (검색 + 답변 생성)\nprint(\"질문: 어린이 메뉴에는 어떤 메인 요리 5가지가 있나요?\")\nprint(\"지식 베이스에서 답변을 찾는 중...\")\n\nresponse = bedrock_agent_runtime_client.retrieve_and_generate(\n    input={\n        \"text\": \"어린이 메뉴에는 어떤 메인 요리 5가지가 있나요?\"\n    },\n    retrieveAndGenerateConfiguration={\n        \"type\": \"KNOWLEDGE_BASE\",\n        \"knowledgeBaseConfiguration\": {\n            'knowledgeBaseId': kb_id,  # 우리가 만든 지식 베이스 ID\n            \"modelArn\": f\"arn:aws:bedrock:{region}:{account_id}:inference-profile/{inference_profile}\",  # 사용할 AI 모델\n            \"retrievalConfiguration\": {\n                \"vectorSearchConfiguration\": {\n                    \"numberOfResults\": 5  # 검색할 결과 개수\n                } \n            }\n        }\n    }\n)\n\nprint(\"\\nAI 답변:\")\nprint(\"-\" * 50)\nprint(response['output']['text'])\nprint(\"-\" * 50)"
  },
  {
   "cell_type": "markdown",
   "id": "e6e4235c",
   "metadata": {
    "pycharm": {
     "name": "#%% md\n"
    }
   },
   "source": "**방법 1의 특징:**\n위의 방법은 최종 답변만 보여주고, 어떤 자료를 참고했는지는 보여주지 않습니다.\n\n#### 방법 2: Retrieve API로 상세 정보 확인\n\n더 세밀한 제어가 필요하다면 retrieve API를 사용할 수 있습니다. 이 방법은 검색된 원본 텍스트 조각들, 파일 위치, 유사도 점수, 메타데이터 등을 모두 확인할 수 있습니다.",
   "outputs": []
  },
  {
   "cell_type": "code",
   "id": "34a3f96b-926a-411c-bef7-38c4689fed7b",
   "metadata": {
    "pycharm": {
     "name": "#%%\n"
    },
    "tags": []
   },
   "outputs": [],
   "source": "# 지식 베이스에서 상세 정보 검색\nprint(\"같은 질문으로 상세 검색 결과를 확인해보겠습니다:\")\n\nresponse_ret = bedrock_agent_runtime_client.retrieve(\n    knowledgeBaseId=kb_id, \n    nextToken='string',\n    retrievalConfiguration={\n        \"vectorSearchConfiguration\": {\n            \"numberOfResults\": 5,  # 검색할 결과 개수\n        } \n    },\n    retrievalQuery={\n        'text': '어린이 메뉴에는 어떤 메인 요리 5가지가 있나요?'\n    }\n)\n\ndef response_print(retrieve_resp):\n    \"\"\"검색 결과를 보기 좋게 출력하는 함수\"\"\"\n    print(f\"\\n총 {len(retrieve_resp['retrievalResults'])}개의 관련 정보를 찾았습니다:\\n\")\n    \n    for num, chunk in enumerate(retrieve_resp['retrievalResults'], 1):\n        print(f\"정보 조각 {num}:\")\n        print(f\"내용: {chunk['content']['text']}\")\n        print(f\"파일 위치: {chunk['location']}\")\n        print(f\"유사도 점수: {chunk['score']:.4f}\")\n        print(f\"메타데이터: {chunk['metadata']}\")\n        print(\"-\" * 80)\n\nresponse_print(response_ret)"
  },
  {
   "cell_type": "markdown",
   "id": "e032c452-4feb-406d-aa6e-b85a59aded79",
   "metadata": {
    "pycharm": {
     "name": "#%% md\n"
    }
   },
   "source": "## 4. Amazon Bedrock 에이전트 만들기\n\n**이제 본격적으로 에이전트를 만들어보겠습니다!**\n\n에이전트는 지식 베이스(메뉴 정보 검색)와 액션 그룹(예약 관리)을 모두 사용할 수 있는 똑똑한 AI 도우미입니다.\n\n**에이전트 생성 단계:**\n    \n1. **DynamoDB 테이블 생성** - 예약 정보 저장용 데이터베이스\n2. **AWS Lambda 함수 생성** - 예약 관련 작업을 수행하는 코드\n3. **IAM 권한 설정** - 에이전트가 필요한 권한들 부여\n4. **에이전트 본체 생성** \n5. **액션 그룹 추가** - 에이전트가 할 수 있는 작업들 정의\n6. **Lambda 호출 권한 설정**\n7. **지식 베이스 연결**\n8. **에이전트 준비 및 별칭 생성**",
   "outputs": []
  },
  {
   "cell_type": "markdown",
   "id": "c5edf3bd-3214-4fe3-a9bc-df927e30b8b4",
   "metadata": {
    "pycharm": {
     "name": "#%% md\n"
    }
   },
   "source": "### 4.1 DynamoDB 테이블 생성\n\n**예약 정보 저장소 만들기**\n레스토랑 예약 정보를 저장할 DynamoDB 테이블을 생성합니다. DynamoDB는 AWS의 NoSQL 데이터베이스 서비스입니다.",
   "outputs": []
  },
  {
   "cell_type": "code",
   "id": "18ff65c0-0207-4e34-932f-6d291f4d5c8d",
   "metadata": {
    "pycharm": {
     "name": "#%%\n"
    },
    "tags": []
   },
   "outputs": [],
   "source": "table_name = 'restaurant_bookings'  # 테이블 이름\nprint(f\"DynamoDB 테이블 '{table_name}' 생성 중...\")\ncreate_dynamodb(table_name)\nprint(\"DynamoDB 테이블이 성공적으로 생성되었습니다!\")"
  },
  {
   "cell_type": "markdown",
   "id": "8460c785-e13f-4182-84d7-3bf7aafd3842",
   "metadata": {
    "pycharm": {
     "name": "#%% md\n"
    }
   },
   "source": "### 4.2 Lambda 함수 생성\n\n**예약 관리 기능 구현하기**\n에이전트가 예약 작업을 수행할 수 있도록 Lambda 함수를 만들겠습니다. Lambda는 서버 없이 코드를 실행할 수 있는 AWS 서비스입니다.\n\n**진행 과정:**\n1. **`lambda_function.py` 파일 작성** - 예약 관리 로직 구현\n2. **IAM 역할 생성** - Lambda가 DynamoDB에 접근할 수 있는 권한 부여\n3. **Lambda 함수 생성 및 배포**",
   "outputs": []
  },
  {
   "cell_type": "markdown",
   "id": "68871530-2953-4a37-854e-10323cabf095",
   "metadata": {
    "pycharm": {
     "name": "#%% md\n"
    }
   },
   "source": "#### 함수 코드 작성\n\n**Lambda 함수 구현**\nAmazon Bedrock 에이전트는 액션 그룹을 통해 Lambda 함수를 호출할 수 있습니다. 이 함수는 예약 조회(`get_booking_details`), 예약 생성(`create_booking`), 예약 삭제(`delete_booking`) 기능을 제공합니다.",
   "outputs": []
  },
  {
   "cell_type": "code",
   "execution_count": null,
   "id": "12271f1f-4739-472b-8909-cc81c148a941",
   "metadata": {
    "pycharm": {
     "name": "#%%\n"
    },
    "tags": []
   },
   "outputs": [],
   "source": [
    "%%writefile lambda_function.py\n",
    "import json\n",
    "import uuid\n",
    "import boto3\n",
    "\n",
    "# DynamoDB 리소스 연결\n",
    "dynamodb = boto3.resource('dynamodb')\n",
    "table = dynamodb.Table('restaurant_bookings')\n",
    "\n",
    "def get_named_parameter(event, name):\n",
    "    \"\"\"\n",
    "    Lambda 이벤트에서 특정 이름의 매개변수 값을 가져오는 함수\n",
    "    \n",
    "    Args:\n",
    "        event: Lambda 이벤트 객체\n",
    "        name: 찾을 매개변수 이름\n",
    "    \n",
    "    Returns:\n",
    "        매개변수 값\n",
    "    \"\"\"\n",
    "    return next(item for item in event['parameters'] if item['name'] == name)['value']\n",
    "\n",
    "\n",
    "def get_booking_details(booking_id):\n",
    "    \"\"\"\n",
    "    예약 정보를 조회하는 함수\n",
    "    \n",
    "    Args:\n",
    "        booking_id (string): 조회할 예약 ID\n",
    "    \n",
    "    Returns:\n",
    "        예약 정보 또는 오류 메시지\n",
    "    \"\"\"\n",
    "    try:\n",
    "        response = table.get_item(Key={'booking_id': booking_id})\n",
    "        if 'Item' in response:\n",
    "            return response['Item']\n",
    "        else:\n",
    "            return {'message': f'예약 ID {booking_id}에 해당하는 예약을 찾을 수 없습니다.'}\n",
    "    except Exception as e:\n",
    "        return {'error': str(e)}\n",
    "\n",
    "\n",
    "def create_booking(date, name, hour, num_guests):\n",
    "    \"\"\"\n",
    "    새로운 예약을 생성하는 함수\n",
    "    \n",
    "    Args:\n",
    "        date (string): 예약 날짜\n",
    "        name (string): 예약자 이름\n",
    "        hour (string): 예약 시간\n",
    "        num_guests (integer): 예약 인원 수\n",
    "    \n",
    "    Returns:\n",
    "        생성된 예약 ID 또는 오류 메시지\n",
    "    \"\"\"\n",
    "    try:\n",
    "        booking_id = str(uuid.uuid4())[:8]  # 8자리 고유 ID 생성\n",
    "        table.put_item(\n",
    "            Item={\n",
    "                'booking_id': booking_id,\n",
    "                'date': date,\n",
    "                'name': name,\n",
    "                'hour': hour,\n",
    "                'num_guests': num_guests\n",
    "            }\n",
    "        )\n",
    "        return {'booking_id': booking_id, 'message': '예약이 성공적으로 생성되었습니다.'}\n",
    "    except Exception as e:\n",
    "        return {'error': str(e)}\n",
    "\n",
    "\n",
    "def delete_booking(booking_id):\n",
    "    \"\"\"\n",
    "    기존 예약을 삭제하는 함수\n",
    "    \n",
    "    Args:\n",
    "        booking_id (str): 삭제할 예약 ID\n",
    "    \n",
    "    Returns:\n",
    "        삭제 결과 메시지\n",
    "    \"\"\"\n",
    "    try:\n",
    "        response = table.delete_item(Key={'booking_id': booking_id})\n",
    "        if response['ResponseMetadata']['HTTPStatusCode'] == 200:\n",
    "            return {'message': f'예약 ID {booking_id}가 성공적으로 삭제되었습니다.'}\n",
    "        else:\n",
    "            return {'message': f'예약 ID {booking_id} 삭제에 실패했습니다.'}\n",
    "    except Exception as e:\n",
    "        return {'error': str(e)}\n",
    "    \n",
    "\n",
    "def lambda_handler(event, context):\n",
    "    \"\"\"\n",
    "    Lambda 함수의 메인 핸들러\n",
    "    Amazon Bedrock 에이전트에서 호출될 때 실행됩니다.\n",
    "    \"\"\"\n",
    "    # 에이전트에서 전달된 정보 파싱\n",
    "    actionGroup = event.get('actionGroup', '')  # 액션 그룹 이름\n",
    "    function = event.get('function', '')  # 호출할 함수 이름\n",
    "    parameters = event.get('parameters', [])  # 함수 매개변수들\n",
    "\n",
    "    # 함수별 로직 실행\n",
    "    if function == 'get_booking_details':\n",
    "        booking_id = get_named_parameter(event, \"booking_id\")\n",
    "        if booking_id:\n",
    "            response = str(get_booking_details(booking_id))\n",
    "            responseBody = {'TEXT': {'body': json.dumps(response)}}\n",
    "        else:\n",
    "            responseBody = {'TEXT': {'body': 'booking_id 매개변수가 누락되었습니다.'}}\n",
    "\n",
    "    elif function == 'create_booking':\n",
    "        date = get_named_parameter(event, \"date\")\n",
    "        name = get_named_parameter(event, \"name\")\n",
    "        hour = get_named_parameter(event, \"hour\")\n",
    "        num_guests = get_named_parameter(event, \"num_guests\")\n",
    "\n",
    "        if date and hour and num_guests:\n",
    "            response = str(create_booking(date, name, hour, num_guests))\n",
    "            responseBody = {'TEXT': {'body': json.dumps(response)}}\n",
    "        else:\n",
    "            responseBody = {'TEXT': {'body': '필수 매개변수가 누락되었습니다.'}}\n",
    "\n",
    "    elif function == 'delete_booking':\n",
    "        booking_id = get_named_parameter(event, \"booking_id\")\n",
    "        if booking_id:\n",
    "            response = str(delete_booking(booking_id))\n",
    "            responseBody = {'TEXT': {'body': json.dumps(response)}}\n",
    "        else:\n",
    "            responseBody = {'TEXT': {'body': 'booking_id 매개변수가 누락되었습니다.'}}\n",
    "\n",
    "    else:\n",
    "        responseBody = {'TEXT': {'body': '잘못된 함수 호출입니다.'}}\n",
    "\n",
    "    # 에이전트에게 반환할 응답 구성\n",
    "    action_response = {\n",
    "        'actionGroup': actionGroup,\n",
    "        'function': function,\n",
    "        'functionResponse': {\n",
    "            'responseBody': responseBody\n",
    "        }\n",
    "    }\n",
    "\n",
    "    function_response = {'response': action_response, 'messageVersion': event['messageVersion']}\n",
    "    print(\"Lambda 응답:\", function_response)\n",
    "\n",
    "    return function_response"
   ]
  },
  {
   "cell_type": "markdown",
   "id": "b8a4eefa-0ee8-4505-bba4-b62f5ba54a79",
   "metadata": {
    "pycharm": {
     "name": "#%% md\n"
    }
   },
   "source": "#### 필요한 권한 생성\n\n**Lambda 함수 권한 설정**\n이제 Lambda 역할과 필요한 정책들을 생성해보겠습니다. Lambda 함수가 DynamoDB에 접근할 수 있도록 DynamoDB 정책을 생성하고 Lambda에 연결해야 합니다. 이를 위해 `create_lambda_role` 지원 함수를 사용하겠습니다.",
   "outputs": []
  },
  {
   "cell_type": "code",
   "id": "490addc9-16a0-48e1-bd8f-02abb56bb520",
   "metadata": {
    "pycharm": {
     "name": "#%%\n"
    },
    "tags": []
   },
   "outputs": [],
   "source": "print(\"Lambda 함수를 위한 IAM 역할 생성 중...\")\nlambda_iam_role = create_lambda_role(agent_name, table_name)\nprint(\"Lambda IAM 역할이 성공적으로 생성되었습니다!\")"
  },
  {
   "cell_type": "markdown",
   "id": "895032f3",
   "metadata": {
    "pycharm": {
     "name": "#%% md\n"
    }
   },
   "source": "#### 함수 생성하기\n\n**Lambda 함수 배포**\n이제 Lambda 함수 코드와 실행 역할이 준비되었으므로, 이를 Zip 파일로 패키징하고 Lambda 리소스를 생성하겠습니다.",
   "outputs": []
  },
  {
   "cell_type": "code",
   "id": "682ea2b4-5654-4e2f-b3dd-bc763a3c5918",
   "metadata": {
    "pycharm": {
     "name": "#%%\n"
    },
    "tags": []
   },
   "outputs": [],
   "source": "lambda_function_name = f'{agent_name}-lambda'  # Lambda 함수 이름\nprint(f\"Lambda 함수 이름: {lambda_function_name}\")"
  },
  {
   "cell_type": "code",
   "id": "1cfb2214-9a2e-4521-9d69-3d1c6117c2c3",
   "metadata": {
    "pycharm": {
     "name": "#%%\n"
    },
    "tags": []
   },
   "outputs": [],
   "source": "print(\"Lambda 함수를 생성하고 배포하는 중...\")\nlambda_function = create_lambda(lambda_function_name, lambda_iam_role)\nprint(\"Lambda 함수가 성공적으로 생성되었습니다!\")"
  },
  {
   "cell_type": "markdown",
   "id": "aef843aa-9f0f-473f-ab4e-1c4827974b87",
   "metadata": {
    "pycharm": {
     "name": "#%% md\n"
    }
   },
   "source": "### 4.3 에이전트에 필요한 IAM 정책 생성\n\n**에이전트 권한 설정**\n이제 지식 베이스, DynamoDB 테이블, Lambda 함수를 모두 생성했으므로 에이전트 자체를 만들어보겠습니다.\n\n먼저 에이전트가 Bedrock 모델을 호출하고 지식 베이스를 쿼리할 수 있도록 하는 정책들과 IAM 역할을 생성해야 합니다. 이 에이전트가 선택한 AI 모델을 사용할 수 있도록 권한을 부여하겠습니다. `create_agent_role_and_policies` 함수를 사용하여 에이전트 역할과 필수 정책들을 생성합니다.",
   "outputs": []
  },
  {
   "cell_type": "code",
   "id": "aa92a151-36ca-4099-8bc6-156b49b0c3e4",
   "metadata": {
    "pycharm": {
     "name": "#%%\n"
    },
    "tags": []
   },
   "outputs": [],
   "source": "print(\"에이전트 IAM 역할과 정책들을 생성하는 중...\")\nagent_role = create_agent_role_and_policies(agent_name, inference_profile, foundation_model, kb_id=kb_id)\nprint(\"에이전트 IAM 설정이 완료되었습니다!\")"
  },
  {
   "cell_type": "code",
   "execution_count": null,
   "id": "dd45ef4e-1f2d-4747-a16e-f64fc6f865f5",
   "metadata": {
    "pycharm": {
     "name": "#%%\n"
    },
    "tags": []
   },
   "outputs": [],
   "source": [
    "agent_role"
   ]
  },
  {
   "cell_type": "markdown",
   "id": "595bf767-3a26-4f92-b629-ba2908b90d81",
   "metadata": {
    "pycharm": {
     "name": "#%% md\n"
    }
   },
   "source": "### 4.4 에이전트 생성하기\n\n**드디어 에이전트 생성!**\n필요한 IAM 역할이 생성되었으므로, 이제 bedrock agent 클라이언트를 사용하여 새로운 에이전트를 생성할 수 있습니다. \n\n이를 위해 boto3의 [`create_agent`](https://boto3.amazonaws.com/v1/documentation/api/latest/reference/services/bedrock-agent/client/create_agent.html) API를 사용합니다. 에이전트 이름, 기본 AI 모델, 지시사항이 필요하며, 에이전트 설명도 제공할 수 있습니다. \n\n참고로 생성된 에이전트는 아직 준비되지 않은 상태입니다. 나중에 에이전트를 준비하고 액션을 호출하거나 다른 API를 사용하는 것에 집중하겠습니다.",
   "outputs": []
  },
  {
   "cell_type": "code",
   "id": "7ccaf856-7eff-4bd1-ac47-c89b6fbf7e8f",
   "metadata": {
    "pycharm": {
     "name": "#%%\n"
    },
    "tags": []
   },
   "outputs": [],
   "source": "# 에이전트 역할 생성을 위한 대기 시간\nprint(\"에이전트 역할이 완전히 준비될 때까지 30초 대기...\")\ntime.sleep(30)\n\nprint(\"Amazon Bedrock 에이전트를 생성하는 중...\")\nresponse = bedrock_agent_client.create_agent(\n    agentName=agent_name,  # 에이전트 이름\n    agentResourceRoleArn=agent_role['Role']['Arn'],  # IAM 역할 ARN\n    description=agent_description,  # 에이전트 설명\n    idleSessionTTLInSeconds=1800,  # 세션 유지 시간 (30분)\n    foundationModel=inference_profile,  # 사용할 AI 모델\n    instruction=agent_instruction,  # 에이전트 지시사항\n)\nprint(\"에이전트가 성공적으로 생성되었습니다!\")\nresponse"
  },
  {
   "cell_type": "markdown",
   "id": "b6b5884e",
   "metadata": {
    "pycharm": {
     "name": "#%% md\n"
    }
   },
   "source": "**에이전트 ID 가져오기**\n에이전트 ID를 저장해둡시다. 에이전트와 관련된 작업을 수행할 때 중요하게 사용됩니다.",
   "outputs": []
  },
  {
   "cell_type": "code",
   "id": "40c48d3c-ed67-450b-b840-23ec1a99fee7",
   "metadata": {
    "pycharm": {
     "name": "#%%\n"
    },
    "tags": []
   },
   "outputs": [],
   "source": "agent_id = response['agent']['agentId']\nprint(f\"에이전트 ID: {agent_id}\")"
  },
  {
   "cell_type": "markdown",
   "id": "3f30f874-eb63-4ec3-8c19-36fab0f598df",
   "metadata": {
    "pycharm": {
     "name": "#%% md\n"
    }
   },
   "source": "### 4.5 에이전트 액션 그룹 생성하기\n\n**에이전트가 할 수 있는 작업들 정의하기**\n이제 이전에 생성한 Lambda 함수를 사용하는 에이전트 액션 그룹을 생성하겠습니다. \n\n[`create_agent_action_group`](https://boto3.amazonaws.com/v1/documentation/api/latest/reference/services/bedrock-agent/client/create_agent_action_group.html) 함수가 이 기능을 제공합니다. 아직 에이전트 버전이나 별칭을 생성하지 않았으므로 `DRAFT` 버전을 사용합니다. \n\n에이전트에게 액션 그룹의 기능을 알려주기 위해, 액션 그룹이 수행할 수 있는 기능들을 설명하는 액션 그룹 설명을 제공합니다.\n\n이 예제에서는 [`functionSchema`](https://docs.aws.amazon.com/bedrock/latest/userguide/agents-action-function.html)를 사용하여 액션 그룹 기능을 제공합니다.\n\n함수 스키마를 사용하여 함수를 정의하려면 각 함수의 `name`(이름), `description`(설명), `parameters`(매개변수)를 제공해야 합니다.",
   "outputs": []
  },
  {
   "cell_type": "code",
   "id": "91c4c380-ca58-467a-ab67-b475605a0274",
   "metadata": {
    "pycharm": {
     "name": "#%%\n"
    },
    "tags": []
   },
   "outputs": [],
   "source": "# 에이전트가 수행할 수 있는 함수들 정의\nagent_functions = [\n    {\n        'name': 'get_booking_details',\n        'description': '레스토랑 예약 정보를 조회합니다',\n        'parameters': {\n            \"booking_id\": {\n                \"description\": \"조회할 예약 ID\",\n                \"required\": True,\n                \"type\": \"string\"\n            }\n        }\n    },\n    {\n        'name': 'create_booking',\n        'description': '새로운 레스토랑 예약을 생성합니다',\n        'parameters': {\n            \"date\": {\n                \"description\": \"예약 날짜\",\n                \"required\": True,\n                \"type\": \"string\"\n            },\n            \"name\": {\n                \"description\": \"예약자 이름\",\n                \"required\": True,\n                \"type\": \"string\"\n            },\n            \"hour\": {\n                \"description\": \"예약 시간\",\n                \"required\": True,\n                \"type\": \"string\"\n            },\n            \"num_guests\": {\n                \"description\": \"예약 인원 수\",\n                \"required\": True,\n                \"type\": \"integer\"\n            }\n        }\n    },\n    {\n        'name': 'delete_booking',\n        'description': '기존 레스토랑 예약을 삭제합니다',\n        'parameters': {\n            \"booking_id\": {\n                \"description\": \"삭제할 예약 ID\",\n                \"required\": True,\n                \"type\": \"string\"\n            }\n        }\n    },\n]\n\nprint(\"에이전트 함수 스키마 정의 완료:\")\nfor func in agent_functions:\n    print(f\"  • {func['name']}: {func['description']}\")"
  },
  {
   "cell_type": "markdown",
   "id": "60d174f6",
   "metadata": {
    "pycharm": {
     "name": "#%% md\n"
    }
   },
   "source": "**함수 스키마로 액션 그룹 생성**\n이제 함수 스키마를 사용하여 [`create_agent_action_group`](https://boto3.amazonaws.com/v1/documentation/api/latest/reference/services/bedrock-agent/client/create_agent_action_group.html) API로 에이전트 액션 그룹을 생성합니다.",
   "outputs": []
  },
  {
   "cell_type": "code",
   "id": "24559f1c-e081-4f03-959f-a82f9444aa49",
   "metadata": {
    "pycharm": {
     "name": "#%%\n"
    },
    "tags": []
   },
   "outputs": [],
   "source": "# 에이전트가 생성될 때까지 대기\nprint(\"에이전트 생성 완료를 위해 30초 대기...\")\ntime.sleep(30)\n\n# 에이전트 액션 그룹 생성\nprint(\"에이전트 액션 그룹을 구성하고 생성하는 중...\")\nagent_action_group_response = bedrock_agent_client.create_agent_action_group(\n    agentId=agent_id,  # 에이전트 ID\n    agentVersion='DRAFT',  # 드래프트 버전 사용\n    actionGroupExecutor={\n        'lambda': lambda_function['FunctionArn']  # Lambda 함수 ARN\n    },\n    actionGroupName=agent_action_group_name,  # 액션 그룹 이름\n    functionSchema={\n        'functions': agent_functions  # 함수 스키마\n    },\n    description=agent_action_group_description  # 액션 그룹 설명\n)\nprint(\"에이전트 액션 그룹이 성공적으로 생성되었습니다!\")"
  },
  {
   "cell_type": "code",
   "execution_count": null,
   "id": "0a0c3eeb-37f3-4ec9-88d4-43c5306c3195",
   "metadata": {
    "pycharm": {
     "name": "#%%\n"
    },
    "tags": []
   },
   "outputs": [],
   "source": [
    "agent_action_group_response"
   ]
  },
  {
   "cell_type": "markdown",
   "id": "b7d27e07-7d4c-4c59-987d-41a606c6af65",
   "metadata": {
    "pycharm": {
     "name": "#%% md\n"
    }
   },
   "source": "### 4.6 에이전트가 액션 그룹 Lambda를 호출할 수 있도록 허용\n\n**Lambda 호출 권한 설정**\n액션 그룹을 사용하기 전에, 에이전트가 액션 그룹과 연결된 Lambda 함수를 호출할 수 있도록 허용해야 합니다. 이는 [리소스 기반 정책](https://docs.aws.amazon.com/bedrock/latest/userguide/agents-permissions.html#agents-permissions-lambda)을 통해 수행됩니다. 생성된 Lambda 함수에 리소스 기반 정책을 추가해보겠습니다.",
   "outputs": []
  },
  {
   "cell_type": "code",
   "id": "3262f6dd-fb05-4351-904d-8097c0f52134",
   "metadata": {
    "pycharm": {
     "name": "#%%\n"
    },
    "tags": []
   },
   "outputs": [],
   "source": "# Lambda 함수에 Bedrock 호출 권한 추가\nprint(\"Lambda 함수에 Bedrock 호출 권한을 추가하는 중...\")\nlambda_client = boto3.client('lambda')\nresponse = lambda_client.add_permission(\n    FunctionName=lambda_function_name,  # Lambda 함수 이름\n    StatementId='allow_bedrock',  # 정책 문 ID\n    Action='lambda:InvokeFunction',  # 허용할 액션\n    Principal='bedrock.amazonaws.com',  # 호출 주체 (Bedrock 서비스)\n    SourceArn=f\"arn:aws:bedrock:{region}:{account_id}:agent/{agent_id}\",  # 소스 ARN (우리 에이전트)\n)\nprint(\"Lambda 호출 권한이 성공적으로 설정되었습니다!\")"
  },
  {
   "cell_type": "code",
   "execution_count": null,
   "id": "eb3b8c21-f14a-4645-b28e-3ac9a50f1f7f",
   "metadata": {
    "pycharm": {
     "name": "#%%\n"
    },
    "tags": []
   },
   "outputs": [],
   "source": [
    "response"
   ]
  },
  {
   "cell_type": "markdown",
   "id": "2c8536a4-e625-464c-bae2-d28dba82c556",
   "metadata": {
    "pycharm": {
     "name": "#%% md\n"
    }
   },
   "source": "### 4.7 지식 베이스를 에이전트에 연결하기\n\n**에이전트와 지식 베이스 연결**\n이제 에이전트를 생성했으므로 앞서 만든 지식 베이스를 연결할 수 있습니다.",
   "outputs": []
  },
  {
   "cell_type": "code",
   "id": "95c7b781-7e82-47b6-a268-237fa97ab58d",
   "metadata": {
    "pycharm": {
     "name": "#%%\n"
    },
    "tags": []
   },
   "outputs": [],
   "source": "print(\"지식 베이스를 에이전트에 연결하는 중...\")\nresponse = bedrock_agent_client.associate_agent_knowledge_base(\n    agentId=agent_id,  # 에이전트 ID\n    agentVersion='DRAFT',  # 드래프트 버전\n    description='고객이 메뉴의 요리에 대해 질문할 때 지식 베이스에 접근합니다.',  # 연결 설명\n    knowledgeBaseId=kb_id,  # 지식 베이스 ID\n    knowledgeBaseState='ENABLED'  # 지식 베이스 활성화\n)\nprint(\"지식 베이스와 에이전트가 성공적으로 연결되었습니다!\")"
  },
  {
   "cell_type": "code",
   "execution_count": null,
   "id": "0c72b5ee-2479-41b2-93e1-fd7aa66da08d",
   "metadata": {
    "pycharm": {
     "name": "#%%\n"
    },
    "tags": []
   },
   "outputs": [],
   "source": [
    "response"
   ]
  },
  {
   "cell_type": "markdown",
   "id": "b42a8caf-4c76-4760-a7cd-4c6b189f9f5b",
   "metadata": {
    "pycharm": {
     "name": "#%% md\n"
    }
   },
   "source": "### 4.8 에이전트 준비 및 별칭 생성\n\n**에이전트 최종 준비하기**\n내부 테스트에 사용할 수 있는 에이전트의 DRAFT 버전을 생성해보겠습니다.",
   "outputs": []
  },
  {
   "cell_type": "code",
   "id": "4013c967-9a14-4689-b0b5-61aa4f75748c",
   "metadata": {
    "pycharm": {
     "name": "#%%\n"
    },
    "tags": []
   },
   "outputs": [],
   "source": "print(\"에이전트를 사용 가능 상태로 준비하는 중...\")\nresponse = bedrock_agent_client.prepare_agent(\n    agentId=agent_id\n)\nprint(\"에이전트 준비 완료!\")\nprint(response)\n\n# 에이전트가 완전히 준비될 때까지 대기\nprint(\"에이전트 준비 완료를 위해 30초 대기...\")\ntime.sleep(30)"
  },
  {
   "cell_type": "markdown",
   "id": "4c2f477d-60b5-4135-bfe4-e9af3874d611",
   "metadata": {
    "pycharm": {
     "name": "#%% md\n"
    }
   },
   "source": "**에이전트 별칭 생성**\n\n테스트 별칭 ID `TSTALIASID`를 사용하여 에이전트의 DRAFT 버전을 호출하거나, 에이전트를 위한 새로운 별칭과 새로운 버전을 생성할 수 있습니다. 여기서는 나중에 생성된 별칭 ID로 호출할 수 있도록 에이전트 별칭을 생성하겠습니다.",
   "outputs": []
  },
  {
   "cell_type": "code",
   "id": "b9889aaf-9238-479d-b9f1-2ab13b1ec9c0",
   "metadata": {
    "pycharm": {
     "name": "#%%\n"
    },
    "tags": []
   },
   "outputs": [],
   "source": "print(\"에이전트 별칭을 생성하는 중...\")\nresponse = bedrock_agent_client.create_agent_alias(\n    agentAliasName='TestAlias',  # 별칭 이름\n    agentId=agent_id,  # 에이전트 ID\n    description='테스트용 별칭',  # 별칭 설명\n)\n\nalias_id = response[\"agentAlias\"][\"agentAliasId\"]\nprint(f\"에이전트 별칭이 생성되었습니다: {alias_id}\")\n\nprint(\"별칭 생성 완료를 위해 30초 대기...\")\ntime.sleep(30)"
  },
  {
   "cell_type": "markdown",
   "id": "785eaa07-9059-471b-86cc-9506e9c0b47c",
   "metadata": {
    "pycharm": {
     "name": "#%% md\n"
    }
   },
   "source": "## 5. 에이전트 테스트하기\n\n**드디어 에이전트 테스트 시간!**\n이제 에이전트를 생성했으므로 `bedrock-agent-runtime` 클라이언트를 사용하여 이 에이전트를 호출하고 몇 가지 작업을 수행해보겠습니다. [`invoke_agent`](https://boto3.amazonaws.com/v1/documentation/api/latest/reference/services/bedrock-agent-runtime/client/invoke_agent.html) API를 사용하여 에이전트를 호출할 수 있습니다.",
   "outputs": []
  },
  {
   "cell_type": "code",
   "id": "607efd7f-469a-4875-9c1c-16ab018fc341",
   "metadata": {
    "pycharm": {
     "name": "#%%\n"
    },
    "tags": []
   },
   "outputs": [],
   "source": "%%time\nimport json\nfrom datetime import datetime\n\nclass DateTimeEncoder(json.JSONEncoder):\n    \"\"\"날짜/시간 객체를 JSON으로 직렬화하기 위한 커스텀 인코더\"\"\"\n    def default(self, obj):\n        if isinstance(obj, datetime):\n            return obj.isoformat()\n        return super().default(obj)\n\n\ndef invokeAgent(query, session_id, enable_trace=False, session_state=dict()):\n    \"\"\"\n    에이전트를 호출하는 헬퍼 함수\n    \n    Args:\n        query: 에이전트에게 보낼 질문/요청\n        session_id: 세션 ID (대화 구분용)\n        enable_trace: 디버그 추적 정보 표시 여부\n        session_state: 세션 상태 (프롬프트 속성 등)\n    \n    Returns:\n        에이전트의 응답\n    \"\"\"\n    end_session: bool = False\n    \n    print(f\"에이전트에게 질문: {query}\")\n    \n    # 에이전트 API 호출\n    agentResponse = bedrock_agent_runtime_client.invoke_agent(\n        inputText=query,  # 사용자 입력\n        agentId=agent_id,  # 에이전트 ID\n        agentAliasId=alias_id,  # 에이전트 별칭 ID\n        sessionId=session_id,  # 세션 ID\n        enableTrace=enable_trace,  # 추적 활성화 여부\n        endSession=end_session,  # 세션 종료 여부\n        sessionState=session_state  # 세션 상태\n    )\n    \n    if enable_trace:\n        logger.info(pprint.pprint(agentResponse))\n    \n    event_stream = agentResponse['completion']\n    try:\n        for event in event_stream:        \n            if 'chunk' in event:\n                data = event['chunk']['bytes']\n                if enable_trace:\n                    logger.info(f\"최종 답변 ->\\n{data.decode('utf8')}\")\n                agent_answer = data.decode('utf8')\n                return agent_answer\n                # 요청이 성공적으로 완료되었음을 나타내는 종료 이벤트\n            elif 'trace' in event:\n                if enable_trace:\n                    logger.info(json.dumps(event['trace'], indent=2, cls=DateTimeEncoder))\n            else:\n                raise Exception(\"예상치 못한 이벤트가 발생했습니다.\", event)\n    except Exception as e:\n        raise Exception(\"예상치 못한 이벤트가 발생했습니다.\", e)"
  },
  {
   "cell_type": "markdown",
   "id": "2bd6097d",
   "metadata": {
    "pycharm": {
     "name": "#%% md\n"
    }
   },
   "source": "##### 지식 베이스 쿼리를 위한 에이전트 호출\n\n**지식 베이스 테스트**\n이제 지원 함수 `invokeAgent`를 사용하여 에이전트로 지식 베이스를 쿼리해보겠습니다.",
   "outputs": []
  },
  {
   "cell_type": "code",
   "id": "bb134630-0c01-4ec7-b761-1f1a1eca4957",
   "metadata": {
    "pycharm": {
     "name": "#%%\n"
    },
    "tags": []
   },
   "outputs": [],
   "source": "%%time\nimport uuid\n\nprint(\"테스트 1: 지식 베이스에서 메뉴 정보 조회\")\nsession_id: str = str(uuid.uuid1())  # 고유한 세션 ID 생성\nquery = \"어린이 메뉴에는 어떤 전채요리가 있나요?\"\n\nresponse = invokeAgent(query, session_id)\nprint(\"\\n에이전트 응답:\")\nprint(\"=\" * 60)\nprint(response)\nprint(\"=\" * 60)"
  },
  {
   "cell_type": "markdown",
   "id": "e59b3614",
   "metadata": {
    "pycharm": {
     "name": "#%% md\n"
    }
   },
   "source": "##### 액션 그룹 함수 실행을 위한 에이전트 호출\n\n**예약 기능 테스트**\n이제 액션 그룹 기능을 테스트해보고 새로운 예약을 생성해보겠습니다.",
   "outputs": []
  },
  {
   "cell_type": "code",
   "id": "1e0201c0-abb3-4ad5-a7e7-1750d14a2717",
   "metadata": {
    "pycharm": {
     "name": "#%%\n"
    },
    "tags": []
   },
   "outputs": [],
   "source": "%%time\nprint(\"테스트 2: 새 예약 생성하기\")\nquery = \"안녕하세요, 저는 안나입니다. 5월 5일 저녁 8시에 2명 예약을 하고 싶습니다.\"\n\nresponse = invokeAgent(query, session_id)\nprint(\"\\n에이전트 응답:\")\nprint(\"=\" * 60)  \nprint(response)\nprint(\"=\" * 60)"
  },
  {
   "cell_type": "markdown",
   "id": "c7043ba4",
   "metadata": {
    "pycharm": {
     "name": "#%% md\n"
    }
   },
   "source": "##### 프롬프트 속성을 사용한 에이전트 호출\n\n**잘했습니다!** 에이전트를 사용하여 첫 번째 예약을 만들었습니다. 하지만 레스토랑에서 테이블을 예약할 때는 종종 우리 이름을 알고 있는 시스템에 이미 로그인되어 있습니다. 에이전트도 이를 알고 있다면 얼마나 좋을까요?\n\n**세션 컨텍스트 활용**\n이를 위해 세션 컨텍스트를 사용하여 프롬프트에 일부 속성을 제공할 수 있습니다. 이 경우 [`promptSessionAttributes`](https://docs.aws.amazon.com/bedrock/latest/userguide/agents-session-state.html) 매개변수를 사용하여 프롬프트에 직접 제공하겠습니다. 또한 에이전트가 우리 이름을 기억하지 않도록 새로운 세션 ID를 시작하겠습니다.",
   "outputs": []
  },
  {
   "cell_type": "code",
   "id": "139c210f",
   "metadata": {
    "pycharm": {
     "name": "#%%\n"
    }
   },
   "outputs": [],
   "source": "%%time\nprint(\"테스트 3: 세션 속성을 사용한 예약 생성\")\nsession_id: str = str(uuid.uuid1())  # 새로운 세션 ID\nquery = \"5월 5일 저녁 8시에 2명 예약을 하고 싶습니다.\"\n\n# 세션 상태에 사용자 이름 제공\nsession_state = {\n    \"promptSessionAttributes\": {\n        \"name\": \"김철수\"  # 미리 알고 있는 사용자 이름\n    }\n}\n\nresponse = invokeAgent(query, session_id, session_state=session_state)\nprint(\"\\n에이전트 응답:\")\nprint(\"=\" * 60)\nprint(response)\nprint(\"=\" * 60)"
  },
  {
   "cell_type": "markdown",
   "id": "2cf0d98c",
   "metadata": {
    "pycharm": {
     "name": "#%% md\n"
    }
   },
   "source": "##### 프롬프트 속성 검증\n\n**예약 이름 확인**\n이제 세션 컨텍스트를 사용하여 예약이 올바른 이름으로 이루어졌는지 검증해보겠습니다.",
   "outputs": []
  },
  {
   "cell_type": "code",
   "id": "bfb8612f-6221-4199-b44b-4c341ac08f7f",
   "metadata": {
    "pycharm": {
     "name": "#%%\n"
    },
    "tags": []
   },
   "outputs": [],
   "source": "%%time\nprint(\"테스트 4: 마지막 예약의 이름 확인\")\nquery = \"방금 만든 예약에서 사용된 이름이 무엇인가요?\"\n\nresponse = invokeAgent(query, session_id)\nprint(\"\\n에이전트 응답:\")\nprint(\"=\" * 60)\nprint(response)\nprint(\"=\" * 60)"
  },
  {
   "cell_type": "markdown",
   "id": "a69fa42f",
   "metadata": {
    "pycharm": {
     "name": "#%% md\n"
    }
   },
   "source": "##### 새 세션에서 데이터베이스 정보 조회\n\n**예약 시스템 검증**  \n다음으로, 예약 시스템이 제대로 작동하는지 확인해보겠습니다. 이전 예약 ID를 사용하여 새로운 세션 ID로 예약 세부 정보를 조회해보겠습니다.\n\n**중요:** 다음 쿼리에서는 생성된 예약 ID로 정보를 교체해야 합니다.",
   "outputs": []
  },
  {
   "cell_type": "code",
   "id": "717da5f1",
   "metadata": {
    "pycharm": {
     "name": "#%%\n"
    },
    "tags": []
   },
   "outputs": [],
   "source": "%%time\nprint(\"테스트 5: 특정 예약 ID로 정보 조회\")\nsession_id: str = str(uuid.uuid1())  # 완전히 새로운 세션\nquery = \"예약 ID 65d86f1a에 대한 정보를 알려주세요\"  # 실제 생성된 예약 ID로 변경하세요\n\nresponse = invokeAgent(query, session_id)\nprint(\"\\n에이전트 응답:\")\nprint(\"=\" * 60)\nprint(response)\nprint(\"=\" * 60)"
  },
  {
   "cell_type": "markdown",
   "id": "31726c96",
   "metadata": {
    "pycharm": {
     "name": "#%% md\n"
    }
   },
   "source": "##### 예약 취소\n\n**예약 변경**\n계획이 바뀌었으므로 에이전트를 사용하여 방금 만든 예약을 취소해보겠습니다.",
   "outputs": []
  },
  {
   "cell_type": "code",
   "id": "5bf770ef-5602-434e-bef2-0394b9136fe7",
   "metadata": {
    "pycharm": {
     "name": "#%%\n"
    },
    "tags": []
   },
   "outputs": [],
   "source": "%%time\nprint(\"테스트 6: 예약 삭제하기\")\nquery = \"예약 ID 65d86f1a를 삭제하고 싶습니다\"  # 실제 생성된 예약 ID로 변경하세요\n\nresponse = invokeAgent(query, session_id)\nprint(\"\\n에이전트 응답:\")\nprint(\"=\" * 60)\nprint(response)\nprint(\"=\" * 60)"
  },
  {
   "cell_type": "markdown",
   "id": "a4f4545a",
   "metadata": {
    "pycharm": {
     "name": "#%% md\n"
    }
   },
   "source": "**삭제 확인**\n모든 것이 제대로 작동했는지 확인해보겠습니다.",
   "outputs": []
  },
  {
   "cell_type": "code",
   "id": "8bdb62e6",
   "metadata": {
    "pycharm": {
     "name": "#%%\n"
    }
   },
   "outputs": [],
   "source": "%%time\nprint(\"테스트 7: 삭제된 예약 조회 시도\")\nsession_id: str = str(uuid.uuid1())  # 새로운 세션\nquery = \"예약 ID 65d86f1a에 대한 정보를 알려주세요\"  # 삭제한 예약 ID로 변경하세요\n\nresponse = invokeAgent(query, session_id)\nprint(\"\\n에이전트 응답:\")\nprint(\"=\" * 60)\nprint(response)\nprint(\"=\" * 60)"
  },
  {
   "cell_type": "markdown",
   "id": "e2b6149d",
   "metadata": {
    "pycharm": {
     "name": "#%% md\n"
    }
   },
   "source": "##### 프롬프트 속성을 사용한 상황 인식 처리\n\n**실제 애플리케이션에서의 상황 인식**\n실제 애플리케이션에서는 맥락이 정말 중요합니다. 현재 날짜와 주변 날짜를 고려하여 예약을 하고 싶습니다. Amazon Bedrock 에이전트는 프롬프트 속성을 통해 에이전트에게 시간적 맥락을 제공할 수도 있습니다. 내일 예약으로 테스트해보겠습니다.",
   "outputs": []
  },
  {
   "cell_type": "code",
   "id": "34bd272d",
   "metadata": {
    "pycharm": {
     "name": "#%%\n"
    }
   },
   "outputs": [],
   "source": "%%time\nprint(\"테스트 8: 날짜 맥락을 사용한 예약 생성\")\n# 내일 테이블 예약하기\nsession_id: str = str(uuid.uuid1())\nquery = \"내일 저녁 8시에 2명 예약을 하고 싶습니다.\"\n\n# 현재 날짜 정보를 세션 속성에 추가\nsession_state = {\n    \"promptSessionAttributes\": {\n        \"name\": \"김철수\",\n        \"오늘 날짜\": datetime.now().strftime(\"%Y-%m-%d, %A\")  # 현재 날짜와 요일\n    }\n}\n\nresponse = invokeAgent(query, session_id, session_state=session_state)\nprint(\"\\n에이전트 응답:\")\nprint(\"=\" * 60)\nprint(response)\nprint(\"=\" * 60)"
  },
  {
   "cell_type": "markdown",
   "id": "b53ca04b",
   "metadata": {
    "pycharm": {
     "name": "#%% md\n"
    }
   },
   "source": "**예약 확인**\n마지막으로 우리의 예약을 검증해보겠습니다.\n\n**중요:** 새로 생성된 예약 ID로 교체해주세요.",
   "outputs": []
  },
  {
   "cell_type": "code",
   "id": "8a5d720b",
   "metadata": {
    "pycharm": {
     "name": "#%%\n"
    }
   },
   "outputs": [],
   "source": "%%time\nprint(\"테스트 9: 새로 생성된 예약 확인\")\nsession_id: str = str(uuid.uuid1())\nquery = \"예약 ID c081638f에 대한 정보를 알려주세요\"  # 새로 생성된 예약 ID로 변경하세요\n\nresponse = invokeAgent(query, session_id)\nprint(\"\\n에이전트 응답:\")\nprint(\"=\" * 60)\nprint(response)\nprint(\"=\" * 60)"
  },
  {
   "cell_type": "markdown",
   "id": "5dcfdf43",
   "metadata": {
    "pycharm": {
     "name": "#%% md\n"
    }
   },
   "source": "##### 추적 기능이 활성화된 에이전트 호출\n\n**에이전트 내부 동작 살펴보기**\nAmazon Bedrock 에이전트는 [추적(Trace)](https://docs.aws.amazon.com/bedrock/latest/userguide/trace-events.html) 기능을 사용하여 에이전트가 조율하는 단계의 세부 정보를 제공합니다. 에이전트 호출 중에 추적을 활성화할 수 있습니다. 이제 추적이 활성화된 상태로 에이전트를 호출해보겠습니다.",
   "outputs": []
  },
  {
   "cell_type": "code",
   "id": "ebcb9737",
   "metadata": {
    "pycharm": {
     "name": "#%%\n"
    },
    "tags": []
   },
   "outputs": [],
   "source": "%%time\nprint(\"테스트 10: 추적 기능으로 에이전트 내부 동작 확인\")\nsession_id: str = str(uuid.uuid1())\nquery = \"성인 메뉴에는 어떤 디저트가 있나요?\"\n\n# enable_trace=True로 설정하여 에이전트의 내부 동작 과정을 볼 수 있습니다\nresponse = invokeAgent(query, session_id, enable_trace=True)\nprint(\"\\n최종 에이전트 응답:\")\nprint(\"=\" * 60)\nprint(response)\nprint(\"=\" * 60)"
  },
  {
   "cell_type": "markdown",
   "id": "073f0489-bcb8-4329-b16f-afafaf6f4819",
   "metadata": {
    "pycharm": {
     "name": "#%% md\n"
    }
   },
   "source": "## 에이전트 평가 프레임워크 - 에이전트 테스트 (선택사항)\n\n**체계적인 에이전트 성능 평가**\n[에이전트 평가 프레임워크](https://awslabs.github.io/agent-evaluation/)는 Bedrock 에이전트의 성능, 정확성, 효과성을 평가하기 위한 체계적인 접근 방식을 제공합니다.\n\n다음 단계들은 선택사항이며, 테스트 케이스를 작성하고 Bedrock 에이전트에 대해 실행하는 방법을 보여줍니다.",
   "outputs": []
  },
  {
   "cell_type": "code",
   "id": "830155fb-59f0-4f7d-b3c5-3cada968e6ba",
   "metadata": {
    "pycharm": {
     "name": "#%%\n"
    },
    "tags": []
   },
   "outputs": [],
   "source": "print(\"에이전트 평가 프레임워크 설치 중...\")\n!python3 -m pip install agent-evaluation==0.2.0  # 에이전트 평가 프레임워크 도구 설치\n\nprint(\"에이전트 평가 프레임워크 설치 확인 중...\")\n!which agenteval  # 에이전트 평가 프레임워크가 제대로 설치되었는지 확인\nprint(\"설치 완료!\")"
  },
  {
   "cell_type": "markdown",
   "id": "fff61ec1-68b9-4d50-8082-09884f979862",
   "metadata": {
    "pycharm": {
     "name": "#%% md\n"
    },
    "tags": []
   },
   "source": "**평가 설정 준비**\n- 다음 섹션들은 이 노트북으로 생성된 에이전트 ID와 별칭 ID를 5번 줄에 제공하여 `agenteval.yml` 파일을 준비합니다. `agenteval.yml` 파일에서는 에이전트를 테스트하기 위해 정의된 다양한 테스트 케이스를 찾을 수 있습니다.\n- 작성 시점에서는 평가자로 Claude 3 Sonnet만 지원됩니다. yml 파일에 지정된 Claude-3 모델은 Claude 3 Sonnet을 의미합니다.",
   "outputs": []
  },
  {
   "cell_type": "code",
   "id": "0fd95939-2da3-4743-bc4e-fd53b6c9ed63",
   "metadata": {
    "pycharm": {
     "name": "#%%\n"
    }
   },
   "outputs": [],
   "source": "# agent_id와 alias_id가 이미 정의되어 있다고 가정\nprint(f\"에이전트 ID: {agent_id}\")  # 참조용 에이전트 ID 출력\nprint(f\"별칭 ID: {alias_id}\")     # 참조용 별칭 ID 출력\n\nprint(\"agenteval.yml 파일 업데이트 중...\")\n# 먼저 YAML 파일 읽기\nwith open('agenteval.yml', 'r') as file:\n    content = file.read()\n    \n# 값들 교체\nupdated_content = content.replace('[agent_id]', agent_id)\nupdated_content = updated_content.replace('None', alias_id)\n\n# 파일에 다시 쓰기\nwith open('agenteval.yml', 'w') as file:\n    file.write(updated_content)\n    \nprint(\"agenteval.yml 파일이 업데이트되었습니다!\")"
  },
  {
   "cell_type": "code",
   "id": "54f7f2f7-5369-4b60-86c8-2e0269724d83",
   "metadata": {
    "pycharm": {
     "name": "#%%\n"
    }
   },
   "outputs": [],
   "source": "# 저장소의 일부인 정의된 테스트 케이스들을 실행합니다 (즉, agenteval.yml 파일)\nprint(\"에이전트 평가 테스트를 실행합니다...\")\n!agenteval run\nprint(\"평가 완료!\")"
  },
  {
   "cell_type": "markdown",
   "id": "96af7a1c-400b-4904-bd39-6069b56c7eda",
   "metadata": {
    "pycharm": {
     "name": "#%% md\n"
    }
   },
   "source": "**평가 결과 확인**\n- 위의 출력은 테스트 평가 결과를 보여줍니다. 다음 생성된 파일에서 테스트 평가에 대한 상세한 보고서를 찾을 수 있습니다: `agenteval_summary.md` 우클릭하고 \"다음으로 열기 -> 마크다운 미리보기\"를 선택하여 미리 볼 수 있습니다.\n\n- 테스트가 실행되면 몇 가지 새로운 파일들도 생성된 것을 알 수 있습니다 (예: `check_number_of_vacation.json`). 여기서 테스트 사용자와 테스트 에이전트 간의 테스트 대화에서 자세한 추적 정보를 찾을 수 있습니다.",
   "outputs": []
  },
  {
   "cell_type": "markdown",
   "id": "8ebf4438-1f48-4642-a57c-530a16815064",
   "metadata": {
    "pycharm": {
     "name": "#%% md\n"
    }
   },
   "source": "## 6. 리소스 정리하기\n\n**비용 절약을 위한 정리 작업**\n불필요한 비용을 피하기 위해 생성된 모든 관련 리소스를 삭제하겠습니다.",
   "outputs": []
  },
  {
   "cell_type": "code",
   "id": "4ed0cb4f-31ab-4535-a1d7-93e33c706b32",
   "metadata": {
    "pycharm": {
     "name": "#%%\n"
    },
    "tags": []
   },
   "outputs": [],
   "source": "print(\"AWS 리소스들을 정리하는 중...\")\nclean_up_resources(\n    table_name, lambda_function, lambda_function_name, agent_action_group_response, agent_functions, \n    agent_id, kb_id, alias_id\n)\nprint(\"주요 리소스 정리가 완료되었습니다!\")"
  },
  {
   "cell_type": "code",
   "id": "6a9db157",
   "metadata": {
    "pycharm": {
     "name": "#%%\n"
    }
   },
   "outputs": [],
   "source": "# 에이전트 역할과 정책들 삭제\nprint(\"에이전트 IAM 역할과 정책들을 삭제하는 중...\")\ndelete_agent_roles_and_policies(agent_name)\nprint(\"IAM 리소스 정리가 완료되었습니다!\")"
  },
  {
   "cell_type": "code",
   "id": "17ec0e70",
   "metadata": {
    "pycharm": {
     "name": "#%%\n"
    }
   },
   "outputs": [],
   "source": "# 지식 베이스 삭제\nprint(\"지식 베이스와 관련 리소스들을 삭제하는 중...\")\nknowledge_base.delete_kb(delete_s3_bucket=True, delete_iam_roles_and_policies=True)\nprint(\"지식 베이스 정리가 완료되었습니다!\")\nprint(\"\\n모든 리소스 정리가 성공적으로 완료되었습니다!\")"
  }
 ],
 "metadata": {
  "availableInstances": [
   {
    "_defaultOrder": 0,
    "_isFastLaunch": true,
    "category": "General purpose",
    "gpuNum": 0,
    "hideHardwareSpecs": false,
    "memoryGiB": 4,
    "name": "ml.t3.medium",
    "vcpuNum": 2
   },
   {
    "_defaultOrder": 1,
    "_isFastLaunch": false,
    "category": "General purpose",
    "gpuNum": 0,
    "hideHardwareSpecs": false,
    "memoryGiB": 8,
    "name": "ml.t3.large",
    "vcpuNum": 2
   },
   {
    "_defaultOrder": 2,
    "_isFastLaunch": false,
    "category": "General purpose",
    "gpuNum": 0,
    "hideHardwareSpecs": false,
    "memoryGiB": 16,
    "name": "ml.t3.xlarge",
    "vcpuNum": 4
   },
   {
    "_defaultOrder": 3,
    "_isFastLaunch": false,
    "category": "General purpose",
    "gpuNum": 0,
    "hideHardwareSpecs": false,
    "memoryGiB": 32,
    "name": "ml.t3.2xlarge",
    "vcpuNum": 8
   },
   {
    "_defaultOrder": 4,
    "_isFastLaunch": true,
    "category": "General purpose",
    "gpuNum": 0,
    "hideHardwareSpecs": false,
    "memoryGiB": 8,
    "name": "ml.m5.large",
    "vcpuNum": 2
   },
   {
    "_defaultOrder": 5,
    "_isFastLaunch": false,
    "category": "General purpose",
    "gpuNum": 0,
    "hideHardwareSpecs": false,
    "memoryGiB": 16,
    "name": "ml.m5.xlarge",
    "vcpuNum": 4
   },
   {
    "_defaultOrder": 6,
    "_isFastLaunch": false,
    "category": "General purpose",
    "gpuNum": 0,
    "hideHardwareSpecs": false,
    "memoryGiB": 32,
    "name": "ml.m5.2xlarge",
    "vcpuNum": 8
   },
   {
    "_defaultOrder": 7,
    "_isFastLaunch": false,
    "category": "General purpose",
    "gpuNum": 0,
    "hideHardwareSpecs": false,
    "memoryGiB": 64,
    "name": "ml.m5.4xlarge",
    "vcpuNum": 16
   },
   {
    "_defaultOrder": 8,
    "_isFastLaunch": false,
    "category": "General purpose",
    "gpuNum": 0,
    "hideHardwareSpecs": false,
    "memoryGiB": 128,
    "name": "ml.m5.8xlarge",
    "vcpuNum": 32
   },
   {
    "_defaultOrder": 9,
    "_isFastLaunch": false,
    "category": "General purpose",
    "gpuNum": 0,
    "hideHardwareSpecs": false,
    "memoryGiB": 192,
    "name": "ml.m5.12xlarge",
    "vcpuNum": 48
   },
   {
    "_defaultOrder": 10,
    "_isFastLaunch": false,
    "category": "General purpose",
    "gpuNum": 0,
    "hideHardwareSpecs": false,
    "memoryGiB": 256,
    "name": "ml.m5.16xlarge",
    "vcpuNum": 64
   },
   {
    "_defaultOrder": 11,
    "_isFastLaunch": false,
    "category": "General purpose",
    "gpuNum": 0,
    "hideHardwareSpecs": false,
    "memoryGiB": 384,
    "name": "ml.m5.24xlarge",
    "vcpuNum": 96
   },
   {
    "_defaultOrder": 12,
    "_isFastLaunch": false,
    "category": "General purpose",
    "gpuNum": 0,
    "hideHardwareSpecs": false,
    "memoryGiB": 8,
    "name": "ml.m5d.large",
    "vcpuNum": 2
   },
   {
    "_defaultOrder": 13,
    "_isFastLaunch": false,
    "category": "General purpose",
    "gpuNum": 0,
    "hideHardwareSpecs": false,
    "memoryGiB": 16,
    "name": "ml.m5d.xlarge",
    "vcpuNum": 4
   },
   {
    "_defaultOrder": 14,
    "_isFastLaunch": false,
    "category": "General purpose",
    "gpuNum": 0,
    "hideHardwareSpecs": false,
    "memoryGiB": 32,
    "name": "ml.m5d.2xlarge",
    "vcpuNum": 8
   },
   {
    "_defaultOrder": 15,
    "_isFastLaunch": false,
    "category": "General purpose",
    "gpuNum": 0,
    "hideHardwareSpecs": false,
    "memoryGiB": 64,
    "name": "ml.m5d.4xlarge",
    "vcpuNum": 16
   },
   {
    "_defaultOrder": 16,
    "_isFastLaunch": false,
    "category": "General purpose",
    "gpuNum": 0,
    "hideHardwareSpecs": false,
    "memoryGiB": 128,
    "name": "ml.m5d.8xlarge",
    "vcpuNum": 32
   },
   {
    "_defaultOrder": 17,
    "_isFastLaunch": false,
    "category": "General purpose",
    "gpuNum": 0,
    "hideHardwareSpecs": false,
    "memoryGiB": 192,
    "name": "ml.m5d.12xlarge",
    "vcpuNum": 48
   },
   {
    "_defaultOrder": 18,
    "_isFastLaunch": false,
    "category": "General purpose",
    "gpuNum": 0,
    "hideHardwareSpecs": false,
    "memoryGiB": 256,
    "name": "ml.m5d.16xlarge",
    "vcpuNum": 64
   },
   {
    "_defaultOrder": 19,
    "_isFastLaunch": false,
    "category": "General purpose",
    "gpuNum": 0,
    "hideHardwareSpecs": false,
    "memoryGiB": 384,
    "name": "ml.m5d.24xlarge",
    "vcpuNum": 96
   },
   {
    "_defaultOrder": 20,
    "_isFastLaunch": false,
    "category": "General purpose",
    "gpuNum": 0,
    "hideHardwareSpecs": true,
    "memoryGiB": 0,
    "name": "ml.geospatial.interactive",
    "supportedImageNames": [
     "sagemaker-geospatial-v1-0"
    ],
    "vcpuNum": 0
   },
   {
    "_defaultOrder": 21,
    "_isFastLaunch": true,
    "category": "Compute optimized",
    "gpuNum": 0,
    "hideHardwareSpecs": false,
    "memoryGiB": 4,
    "name": "ml.c5.large",
    "vcpuNum": 2
   },
   {
    "_defaultOrder": 22,
    "_isFastLaunch": false,
    "category": "Compute optimized",
    "gpuNum": 0,
    "hideHardwareSpecs": false,
    "memoryGiB": 8,
    "name": "ml.c5.xlarge",
    "vcpuNum": 4
   },
   {
    "_defaultOrder": 23,
    "_isFastLaunch": false,
    "category": "Compute optimized",
    "gpuNum": 0,
    "hideHardwareSpecs": false,
    "memoryGiB": 16,
    "name": "ml.c5.2xlarge",
    "vcpuNum": 8
   },
   {
    "_defaultOrder": 24,
    "_isFastLaunch": false,
    "category": "Compute optimized",
    "gpuNum": 0,
    "hideHardwareSpecs": false,
    "memoryGiB": 32,
    "name": "ml.c5.4xlarge",
    "vcpuNum": 16
   },
   {
    "_defaultOrder": 25,
    "_isFastLaunch": false,
    "category": "Compute optimized",
    "gpuNum": 0,
    "hideHardwareSpecs": false,
    "memoryGiB": 72,
    "name": "ml.c5.9xlarge",
    "vcpuNum": 36
   },
   {
    "_defaultOrder": 26,
    "_isFastLaunch": false,
    "category": "Compute optimized",
    "gpuNum": 0,
    "hideHardwareSpecs": false,
    "memoryGiB": 96,
    "name": "ml.c5.12xlarge",
    "vcpuNum": 48
   },
   {
    "_defaultOrder": 27,
    "_isFastLaunch": false,
    "category": "Compute optimized",
    "gpuNum": 0,
    "hideHardwareSpecs": false,
    "memoryGiB": 144,
    "name": "ml.c5.18xlarge",
    "vcpuNum": 72
   },
   {
    "_defaultOrder": 28,
    "_isFastLaunch": false,
    "category": "Compute optimized",
    "gpuNum": 0,
    "hideHardwareSpecs": false,
    "memoryGiB": 192,
    "name": "ml.c5.24xlarge",
    "vcpuNum": 96
   },
   {
    "_defaultOrder": 29,
    "_isFastLaunch": true,
    "category": "Accelerated computing",
    "gpuNum": 1,
    "hideHardwareSpecs": false,
    "memoryGiB": 16,
    "name": "ml.g4dn.xlarge",
    "vcpuNum": 4
   },
   {
    "_defaultOrder": 30,
    "_isFastLaunch": false,
    "category": "Accelerated computing",
    "gpuNum": 1,
    "hideHardwareSpecs": false,
    "memoryGiB": 32,
    "name": "ml.g4dn.2xlarge",
    "vcpuNum": 8
   },
   {
    "_defaultOrder": 31,
    "_isFastLaunch": false,
    "category": "Accelerated computing",
    "gpuNum": 1,
    "hideHardwareSpecs": false,
    "memoryGiB": 64,
    "name": "ml.g4dn.4xlarge",
    "vcpuNum": 16
   },
   {
    "_defaultOrder": 32,
    "_isFastLaunch": false,
    "category": "Accelerated computing",
    "gpuNum": 1,
    "hideHardwareSpecs": false,
    "memoryGiB": 128,
    "name": "ml.g4dn.8xlarge",
    "vcpuNum": 32
   },
   {
    "_defaultOrder": 33,
    "_isFastLaunch": false,
    "category": "Accelerated computing",
    "gpuNum": 4,
    "hideHardwareSpecs": false,
    "memoryGiB": 192,
    "name": "ml.g4dn.12xlarge",
    "vcpuNum": 48
   },
   {
    "_defaultOrder": 34,
    "_isFastLaunch": false,
    "category": "Accelerated computing",
    "gpuNum": 1,
    "hideHardwareSpecs": false,
    "memoryGiB": 256,
    "name": "ml.g4dn.16xlarge",
    "vcpuNum": 64
   },
   {
    "_defaultOrder": 35,
    "_isFastLaunch": false,
    "category": "Accelerated computing",
    "gpuNum": 1,
    "hideHardwareSpecs": false,
    "memoryGiB": 61,
    "name": "ml.p3.2xlarge",
    "vcpuNum": 8
   },
   {
    "_defaultOrder": 36,
    "_isFastLaunch": false,
    "category": "Accelerated computing",
    "gpuNum": 4,
    "hideHardwareSpecs": false,
    "memoryGiB": 244,
    "name": "ml.p3.8xlarge",
    "vcpuNum": 32
   },
   {
    "_defaultOrder": 37,
    "_isFastLaunch": false,
    "category": "Accelerated computing",
    "gpuNum": 8,
    "hideHardwareSpecs": false,
    "memoryGiB": 488,
    "name": "ml.p3.16xlarge",
    "vcpuNum": 64
   },
   {
    "_defaultOrder": 38,
    "_isFastLaunch": false,
    "category": "Accelerated computing",
    "gpuNum": 8,
    "hideHardwareSpecs": false,
    "memoryGiB": 768,
    "name": "ml.p3dn.24xlarge",
    "vcpuNum": 96
   },
   {
    "_defaultOrder": 39,
    "_isFastLaunch": false,
    "category": "Memory Optimized",
    "gpuNum": 0,
    "hideHardwareSpecs": false,
    "memoryGiB": 16,
    "name": "ml.r5.large",
    "vcpuNum": 2
   },
   {
    "_defaultOrder": 40,
    "_isFastLaunch": false,
    "category": "Memory Optimized",
    "gpuNum": 0,
    "hideHardwareSpecs": false,
    "memoryGiB": 32,
    "name": "ml.r5.xlarge",
    "vcpuNum": 4
   },
   {
    "_defaultOrder": 41,
    "_isFastLaunch": false,
    "category": "Memory Optimized",
    "gpuNum": 0,
    "hideHardwareSpecs": false,
    "memoryGiB": 64,
    "name": "ml.r5.2xlarge",
    "vcpuNum": 8
   },
   {
    "_defaultOrder": 42,
    "_isFastLaunch": false,
    "category": "Memory Optimized",
    "gpuNum": 0,
    "hideHardwareSpecs": false,
    "memoryGiB": 128,
    "name": "ml.r5.4xlarge",
    "vcpuNum": 16
   },
   {
    "_defaultOrder": 43,
    "_isFastLaunch": false,
    "category": "Memory Optimized",
    "gpuNum": 0,
    "hideHardwareSpecs": false,
    "memoryGiB": 256,
    "name": "ml.r5.8xlarge",
    "vcpuNum": 32
   },
   {
    "_defaultOrder": 44,
    "_isFastLaunch": false,
    "category": "Memory Optimized",
    "gpuNum": 0,
    "hideHardwareSpecs": false,
    "memoryGiB": 384,
    "name": "ml.r5.12xlarge",
    "vcpuNum": 48
   },
   {
    "_defaultOrder": 45,
    "_isFastLaunch": false,
    "category": "Memory Optimized",
    "gpuNum": 0,
    "hideHardwareSpecs": false,
    "memoryGiB": 512,
    "name": "ml.r5.16xlarge",
    "vcpuNum": 64
   },
   {
    "_defaultOrder": 46,
    "_isFastLaunch": false,
    "category": "Memory Optimized",
    "gpuNum": 0,
    "hideHardwareSpecs": false,
    "memoryGiB": 768,
    "name": "ml.r5.24xlarge",
    "vcpuNum": 96
   },
   {
    "_defaultOrder": 47,
    "_isFastLaunch": false,
    "category": "Accelerated computing",
    "gpuNum": 1,
    "hideHardwareSpecs": false,
    "memoryGiB": 16,
    "name": "ml.g5.xlarge",
    "vcpuNum": 4
   },
   {
    "_defaultOrder": 48,
    "_isFastLaunch": false,
    "category": "Accelerated computing",
    "gpuNum": 1,
    "hideHardwareSpecs": false,
    "memoryGiB": 32,
    "name": "ml.g5.2xlarge",
    "vcpuNum": 8
   },
   {
    "_defaultOrder": 49,
    "_isFastLaunch": false,
    "category": "Accelerated computing",
    "gpuNum": 1,
    "hideHardwareSpecs": false,
    "memoryGiB": 64,
    "name": "ml.g5.4xlarge",
    "vcpuNum": 16
   },
   {
    "_defaultOrder": 50,
    "_isFastLaunch": false,
    "category": "Accelerated computing",
    "gpuNum": 1,
    "hideHardwareSpecs": false,
    "memoryGiB": 128,
    "name": "ml.g5.8xlarge",
    "vcpuNum": 32
   },
   {
    "_defaultOrder": 51,
    "_isFastLaunch": false,
    "category": "Accelerated computing",
    "gpuNum": 1,
    "hideHardwareSpecs": false,
    "memoryGiB": 256,
    "name": "ml.g5.16xlarge",
    "vcpuNum": 64
   },
   {
    "_defaultOrder": 52,
    "_isFastLaunch": false,
    "category": "Accelerated computing",
    "gpuNum": 4,
    "hideHardwareSpecs": false,
    "memoryGiB": 192,
    "name": "ml.g5.12xlarge",
    "vcpuNum": 48
   },
   {
    "_defaultOrder": 53,
    "_isFastLaunch": false,
    "category": "Accelerated computing",
    "gpuNum": 4,
    "hideHardwareSpecs": false,
    "memoryGiB": 384,
    "name": "ml.g5.24xlarge",
    "vcpuNum": 96
   },
   {
    "_defaultOrder": 54,
    "_isFastLaunch": false,
    "category": "Accelerated computing",
    "gpuNum": 8,
    "hideHardwareSpecs": false,
    "memoryGiB": 768,
    "name": "ml.g5.48xlarge",
    "vcpuNum": 192
   },
   {
    "_defaultOrder": 55,
    "_isFastLaunch": false,
    "category": "Accelerated computing",
    "gpuNum": 8,
    "hideHardwareSpecs": false,
    "memoryGiB": 1152,
    "name": "ml.p4d.24xlarge",
    "vcpuNum": 96
   },
   {
    "_defaultOrder": 56,
    "_isFastLaunch": false,
    "category": "Accelerated computing",
    "gpuNum": 8,
    "hideHardwareSpecs": false,
    "memoryGiB": 1152,
    "name": "ml.p4de.24xlarge",
    "vcpuNum": 96
   },
   {
    "_defaultOrder": 57,
    "_isFastLaunch": false,
    "category": "Accelerated computing",
    "gpuNum": 0,
    "hideHardwareSpecs": false,
    "memoryGiB": 32,
    "name": "ml.trn1.2xlarge",
    "vcpuNum": 8
   },
   {
    "_defaultOrder": 58,
    "_isFastLaunch": false,
    "category": "Accelerated computing",
    "gpuNum": 0,
    "hideHardwareSpecs": false,
    "memoryGiB": 512,
    "name": "ml.trn1.32xlarge",
    "vcpuNum": 128
   },
   {
    "_defaultOrder": 59,
    "_isFastLaunch": false,
    "category": "Accelerated computing",
    "gpuNum": 0,
    "hideHardwareSpecs": false,
    "memoryGiB": 512,
    "name": "ml.trn1n.32xlarge",
    "vcpuNum": 128
   }
  ],
  "instance_type": "ml.t3.medium",
  "kernelspec": {
   "display_name": "Python 3 (ipykernel)",
   "language": "python",
   "name": "python3"
  },
  "language_info": {
   "codemirror_mode": {
    "name": "ipython",
    "version": 3
   },
   "file_extension": ".py",
   "mimetype": "text/x-python",
   "name": "python",
   "nbconvert_exporter": "python",
   "pygments_lexer": "ipython3",
   "version": "3.11.11"
  }
 },
 "nbformat": 4,
 "nbformat_minor": 5
}